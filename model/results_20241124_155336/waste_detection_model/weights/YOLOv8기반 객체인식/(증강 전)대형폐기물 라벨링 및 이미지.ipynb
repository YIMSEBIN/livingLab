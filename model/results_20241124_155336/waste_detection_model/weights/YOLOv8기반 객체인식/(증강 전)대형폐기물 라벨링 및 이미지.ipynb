{
 "cells": [
  {
   "cell_type": "code",
   "execution_count": 1,
   "metadata": {},
   "outputs": [
    {
     "name": "stdout",
     "output_type": "stream",
     "text": [
      "Verifying paths...\n",
      "Found Train Directory at: C:\\Users\\test\\Desktop\\waste detection.v4-add-pp-bag-8-1-1-.coco\\train\n",
      "Found Valid Directory at: C:\\Users\\test\\Desktop\\waste detection.v4-add-pp-bag-8-1-1-.coco\\valid\n",
      "Found Test Directory at: C:\\Users\\test\\Desktop\\waste detection.v4-add-pp-bag-8-1-1-.coco\\test\n",
      "Found Train JSON at: C:\\Users\\test\\Desktop\\waste detection.v4-add-pp-bag-8-1-1-.coco\\train\\train_annotations_yolo.json\n",
      "Found Valid JSON at: C:\\Users\\test\\Desktop\\waste detection.v4-add-pp-bag-8-1-1-.coco\\valid\\valid_annotations_yolo.json.json\n",
      "Found Test JSON at: C:\\Users\\test\\Desktop\\waste detection.v4-add-pp-bag-8-1-1-.coco\\test\\test_annotations_yolo.json\n",
      "Setting up directory structure...\n",
      "Moved -1-_jpg.rf.c55c25f234fe31135bf59aefc000253d.jpg to C:\\Users\\test\\Desktop\\waste detection.v4-add-pp-bag-8-1-1-.coco\\train\\images\n",
      "Moved -10-_jpg.rf.986b91f3294b8704eb0ad3fe4e0487f8.jpg to C:\\Users\\test\\Desktop\\waste detection.v4-add-pp-bag-8-1-1-.coco\\train\\images\n",
      "Moved -11-_jpg.rf.a9687e04d5ac30f5a128c91adf7d3fb9.jpg to C:\\Users\\test\\Desktop\\waste detection.v4-add-pp-bag-8-1-1-.coco\\train\\images\n",
      "Moved -12-_jpg.rf.82c6e9b129530152d7a932da9f1c1454.jpg to C:\\Users\\test\\Desktop\\waste detection.v4-add-pp-bag-8-1-1-.coco\\train\\images\n",
      "Moved -13-_jpg.rf.8784a8c7eaa3d09094966588cf2a1ed0.jpg to C:\\Users\\test\\Desktop\\waste detection.v4-add-pp-bag-8-1-1-.coco\\train\\images\n",
      "Moved -14-_jpg.rf.57cd7e702c73e048e2512c7e4780f2f9.jpg to C:\\Users\\test\\Desktop\\waste detection.v4-add-pp-bag-8-1-1-.coco\\train\\images\n",
      "Moved -15-_jpg.rf.eee6ee8174c85b7ae8f0872764d8573a.jpg to C:\\Users\\test\\Desktop\\waste detection.v4-add-pp-bag-8-1-1-.coco\\train\\images\n",
      "Moved -1_jpg.rf.8fcd394ce5fb89d3d68f69132963700f.jpg to C:\\Users\\test\\Desktop\\waste detection.v4-add-pp-bag-8-1-1-.coco\\train\\images\n",
      "Moved -2024-11-21-005646_png.rf.f675b2cbd1f508a5fe2ed599f73ff36b.jpg to C:\\Users\\test\\Desktop\\waste detection.v4-add-pp-bag-8-1-1-.coco\\train\\images\n",
      "Moved -3-_jpg.rf.b970c47039208a04c19f261c2965ea24.jpg to C:\\Users\\test\\Desktop\\waste detection.v4-add-pp-bag-8-1-1-.coco\\train\\images\n",
      "Moved -6-_jpg.rf.5aa1cbe119c1590b6d8a874f7f05aaa7.jpg to C:\\Users\\test\\Desktop\\waste detection.v4-add-pp-bag-8-1-1-.coco\\train\\images\n",
      "Moved -8-_jpg.rf.ffc82d7e03d130bdaee491a6fc8ee226.jpg to C:\\Users\\test\\Desktop\\waste detection.v4-add-pp-bag-8-1-1-.coco\\train\\images\n",
      "Moved -9-_jpg.rf.fbd5f2161a9721b5b9d25a202179e914.jpg to C:\\Users\\test\\Desktop\\waste detection.v4-add-pp-bag-8-1-1-.coco\\train\\images\n",
      "Moved -_-9_jpg.rf.89b8403ec7ff530c2dca968786634637.jpg to C:\\Users\\test\\Desktop\\waste detection.v4-add-pp-bag-8-1-1-.coco\\train\\images\n",
      "Moved -_jpg.rf.b676417ceebd7aed0071bc8c3c86324d.jpg to C:\\Users\\test\\Desktop\\waste detection.v4-add-pp-bag-8-1-1-.coco\\train\\images\n",
      "Moved 1691766035067_jpg.rf.520f39ed40ecee7cf0e23abdd611cfa1.jpg to C:\\Users\\test\\Desktop\\waste detection.v4-add-pp-bag-8-1-1-.coco\\train\\images\n",
      "Moved 1691810736574_jpg.rf.1cf066679240bc7a4d3ad9b2514b8bb9.jpg to C:\\Users\\test\\Desktop\\waste detection.v4-add-pp-bag-8-1-1-.coco\\train\\images\n",
      "Moved 18281b16faf38981eadb55573dcf6024791cb9fa330b33dbe5219f1415e9_jpg.rf.74f3ad4ee623af17afc5f4be905ca6af.jpg to C:\\Users\\test\\Desktop\\waste detection.v4-add-pp-bag-8-1-1-.coco\\train\\images\n",
      "Moved 2023061309564714_jpg.rf.f374097b280e2f4ebe4fc8f0628aa442.jpg to C:\\Users\\test\\Desktop\\waste detection.v4-add-pp-bag-8-1-1-.coco\\train\\images\n",
      "Moved 202410151029-36-329072-127-335804_jpg.rf.da0157ef940782dc3cd77adb7516ce99.jpg to C:\\Users\\test\\Desktop\\waste detection.v4-add-pp-bag-8-1-1-.coco\\train\\images\n",
      "Moved 202410151030-36-329421-127-335191_jpg.rf.234da763ffef4fef3f41b5db13bddae7.jpg to C:\\Users\\test\\Desktop\\waste detection.v4-add-pp-bag-8-1-1-.coco\\train\\images\n",
      "Moved 202410151030-36-330082-127-334484_jpg.rf.1c92a95aa4205588a1a14f998addd81e.jpg to C:\\Users\\test\\Desktop\\waste detection.v4-add-pp-bag-8-1-1-.coco\\train\\images\n",
      "Moved 202410151033-36-331122-127-333842-1_jpg.rf.08e90d6b272b394add175b1ebb1f3c85.jpg to C:\\Users\\test\\Desktop\\waste detection.v4-add-pp-bag-8-1-1-.coco\\train\\images\n",
      "Moved 202410151033-36-331122-127-333842-2_jpg.rf.1e0811d80c138d650103d1b72187dcab.jpg to C:\\Users\\test\\Desktop\\waste detection.v4-add-pp-bag-8-1-1-.coco\\train\\images\n",
      "Moved 202410151040-36-331367-127-334802_jpg.rf.0a74fd120c920213017f51a39d99b981.jpg to C:\\Users\\test\\Desktop\\waste detection.v4-add-pp-bag-8-1-1-.coco\\train\\images\n",
      "Moved 202410151041-36-33099-127-3386_jpg.rf.169ac88875bcae0ca3f0ac677fa1592e.jpg to C:\\Users\\test\\Desktop\\waste detection.v4-add-pp-bag-8-1-1-.coco\\train\\images\n",
      "Moved 202410151043-36-33169-127-3388_jpg.rf.0fa46c31689a2a10fc1e2bb285ecd83b.jpg to C:\\Users\\test\\Desktop\\waste detection.v4-add-pp-bag-8-1-1-.coco\\train\\images\n",
      "Moved 202410151043-36-33169-127-3393_jpg.rf.c62d51bad2cdb0eb2e08287034b8cdbe.jpg to C:\\Users\\test\\Desktop\\waste detection.v4-add-pp-bag-8-1-1-.coco\\train\\images\n",
      "Moved 202410151045-36-33167-127-3405_jpg.rf.9270fb51f65e73e919c76ed283c74841.jpg to C:\\Users\\test\\Desktop\\waste detection.v4-add-pp-bag-8-1-1-.coco\\train\\images\n",
      "Moved 202410151047-36-33184-127-3410_jpg.rf.3365cef343d2ba09309fc59eea2408bc.jpg to C:\\Users\\test\\Desktop\\waste detection.v4-add-pp-bag-8-1-1-.coco\\train\\images\n",
      "Moved 202410151051-36-33109-127-3418_jpg.rf.f16ee20fe2b853a0425b790cb96182b8.jpg to C:\\Users\\test\\Desktop\\waste detection.v4-add-pp-bag-8-1-1-.coco\\train\\images\n",
      "Moved 202410151053-36-33027-127-3412_jpg.rf.1d07bf71b78a8b8e001c96d2581d7e77.jpg to C:\\Users\\test\\Desktop\\waste detection.v4-add-pp-bag-8-1-1-.coco\\train\\images\n",
      "Moved 202410151054-36-32999-127-3412_jpg.rf.c4fa48094b0897cbd4dba196000edf8a.jpg to C:\\Users\\test\\Desktop\\waste detection.v4-add-pp-bag-8-1-1-.coco\\train\\images\n",
      "Moved 202410151056-36-36-32907-127-3418_jpg.rf.c4f71f17dee8b468ac94b26040d28d43.jpg to C:\\Users\\test\\Desktop\\waste detection.v4-add-pp-bag-8-1-1-.coco\\train\\images\n",
      "Moved 202410151057-36-32814-127-3412_jpg.rf.847962b47df4b04358d6d69b7afa62b0.jpg to C:\\Users\\test\\Desktop\\waste detection.v4-add-pp-bag-8-1-1-.coco\\train\\images\n",
      "Moved 202410151100-36-33039-127-3396_jpg.rf.4cd4b1a35a72fc31bad4ff0b9c8e1f69.jpg to C:\\Users\\test\\Desktop\\waste detection.v4-add-pp-bag-8-1-1-.coco\\train\\images\n",
      "Moved 202410151100-36-33039-127-3397_jpg.rf.d87399c47435d4a9bc98e5343f7d4707.jpg to C:\\Users\\test\\Desktop\\waste detection.v4-add-pp-bag-8-1-1-.coco\\train\\images\n",
      "Moved 202410151113-36-325960-127-347592_jpg.rf.605cc930e954dd333325193709b0cade.jpg to C:\\Users\\test\\Desktop\\waste detection.v4-add-pp-bag-8-1-1-.coco\\train\\images\n",
      "Moved 202410151115-36-326794-127-347130_jpg.rf.2b4ead319dc70f40a6387f45a24001cb.jpg to C:\\Users\\test\\Desktop\\waste detection.v4-add-pp-bag-8-1-1-.coco\\train\\images\n",
      "Moved 202410151118-36-324356-127-347533_jpg.rf.f5f123ee744cdd3d329b80fc89844ef1.jpg to C:\\Users\\test\\Desktop\\waste detection.v4-add-pp-bag-8-1-1-.coco\\train\\images\n",
      "Moved 202410151123-36-324179-127-345449-1_jpg.rf.ad3003fc98ad834b879a7c2cda0058d9.jpg to C:\\Users\\test\\Desktop\\waste detection.v4-add-pp-bag-8-1-1-.coco\\train\\images\n",
      "Moved 202410151123-36-324179-127-345449-2_jpg.rf.9483170a1202111892ad90e9ac415203.jpg to C:\\Users\\test\\Desktop\\waste detection.v4-add-pp-bag-8-1-1-.coco\\train\\images\n",
      "Moved 202410151126-36-324467-127-346349_jpg.rf.655f28a9193bec0824fc898054bea343.jpg to C:\\Users\\test\\Desktop\\waste detection.v4-add-pp-bag-8-1-1-.coco\\train\\images\n",
      "Moved 202410151239-36-325558-127-346335-1_jpg.rf.f24fae2a13109c8815781b8df93941c2.jpg to C:\\Users\\test\\Desktop\\waste detection.v4-add-pp-bag-8-1-1-.coco\\train\\images\n",
      "Moved 202410151239-36-325558-127-346335-2_jpg.rf.1c6c9011af1d5b01cd7a5f4409b0b246.jpg to C:\\Users\\test\\Desktop\\waste detection.v4-add-pp-bag-8-1-1-.coco\\train\\images\n",
      "Moved 202410151240-36-326174-127-346451-1_jpg.rf.a910c6cdcc68de2303815cdb8c9aebca.jpg to C:\\Users\\test\\Desktop\\waste detection.v4-add-pp-bag-8-1-1-.coco\\train\\images\n",
      "Moved 202410151240-36-326174-127-346451-2_jpg.rf.eacc59dfbd10ba9dbd1434530d199eac.jpg to C:\\Users\\test\\Desktop\\waste detection.v4-add-pp-bag-8-1-1-.coco\\train\\images\n",
      "Moved 202410151242-36-326256-127-345521-1_jpg.rf.2093f46f2fe0f75b46a121cd690d99e2.jpg to C:\\Users\\test\\Desktop\\waste detection.v4-add-pp-bag-8-1-1-.coco\\train\\images\n",
      "Moved 202410151242-36-326256-127-345521-2_jpg.rf.763d6cd9b0c3ff9c1f44b0c87c24e13c.jpg to C:\\Users\\test\\Desktop\\waste detection.v4-add-pp-bag-8-1-1-.coco\\train\\images\n",
      "Moved 202410151246-36-325120-127-345351_jpg.rf.414a24a6066814aded6ea9820f74e4a2.jpg to C:\\Users\\test\\Desktop\\waste detection.v4-add-pp-bag-8-1-1-.coco\\train\\images\n",
      "Moved 202410151247-36-324218-127-344975_jpg.rf.dac53acbabe10881f9f8a0973f967686.jpg to C:\\Users\\test\\Desktop\\waste detection.v4-add-pp-bag-8-1-1-.coco\\train\\images\n",
      "Moved 202410151248-36-324994-127-344344_jpg.rf.2a9ee66fa56ef1090e250d494294cbf9.jpg to C:\\Users\\test\\Desktop\\waste detection.v4-add-pp-bag-8-1-1-.coco\\train\\images\n",
      "Moved 202410151250-36-323023-127-343636_jpg.rf.f9eaa8d66ca2cb0c35509dcddd4aa6da.jpg to C:\\Users\\test\\Desktop\\waste detection.v4-add-pp-bag-8-1-1-.coco\\train\\images\n",
      "Moved 202410151251-36-323175-127-344401_jpg.rf.2733c824eb66cf24f1230f311aa31465.jpg to C:\\Users\\test\\Desktop\\waste detection.v4-add-pp-bag-8-1-1-.coco\\train\\images\n",
      "Moved 202410151252-36-322625-127-343851_jpg.rf.5e5099a69c682d87382b46522588f022.jpg to C:\\Users\\test\\Desktop\\waste detection.v4-add-pp-bag-8-1-1-.coco\\train\\images\n",
      "Moved 202410151255-36-324323-127-344273_jpg.rf.f2e5e25c302808320f9c3769cf717b51.jpg to C:\\Users\\test\\Desktop\\waste detection.v4-add-pp-bag-8-1-1-.coco\\train\\images\n",
      "Moved 202410151257-36-322301-127-342780_jpg.rf.39ab8c0550683787eaada149a90e032f.jpg to C:\\Users\\test\\Desktop\\waste detection.v4-add-pp-bag-8-1-1-.coco\\train\\images\n",
      "Moved 202410151300-36-322301-127-342780_jpg.rf.c733fef2aabee450bc19cb2d9ef50b8b.jpg to C:\\Users\\test\\Desktop\\waste detection.v4-add-pp-bag-8-1-1-.coco\\train\\images\n",
      "Moved 202410151305-36-321167-127-342532_jpg.rf.1a436730b4d9af5f9ad017d116ae0eb1.jpg to C:\\Users\\test\\Desktop\\waste detection.v4-add-pp-bag-8-1-1-.coco\\train\\images\n",
      "Moved 202410151307-36-320140-127-342537_jpg.rf.45fa1b2f3f6557df0978a3f916fe1aad.jpg to C:\\Users\\test\\Desktop\\waste detection.v4-add-pp-bag-8-1-1-.coco\\train\\images\n",
      "Moved 202410151308-36-320214-127-343374_jpg.rf.c9f6033841e75c7c6226171c7c0bfd9b.jpg to C:\\Users\\test\\Desktop\\waste detection.v4-add-pp-bag-8-1-1-.coco\\train\\images\n",
      "Moved 202410151311-36-318805-127-344263_jpg.rf.6dd6488ac9f87efe2f560fcfd6c6b207.jpg to C:\\Users\\test\\Desktop\\waste detection.v4-add-pp-bag-8-1-1-.coco\\train\\images\n",
      "Moved 202410151313-36-319584-127-342781_jpg.rf.b796408277aee385f68c7bd77b535ade.jpg to C:\\Users\\test\\Desktop\\waste detection.v4-add-pp-bag-8-1-1-.coco\\train\\images\n",
      "Moved 202410151314-36-318909-127-343192_jpg.rf.039970d0226668ae3e47c59576dd5637.jpg to C:\\Users\\test\\Desktop\\waste detection.v4-add-pp-bag-8-1-1-.coco\\train\\images\n",
      "Moved 202410151317-36-318806-127-342538_jpg.rf.d5ee610aba238bdd2841621927cff826.jpg to C:\\Users\\test\\Desktop\\waste detection.v4-add-pp-bag-8-1-1-.coco\\train\\images\n",
      "Moved 202410151320-36-320140-127-342537_jpg.rf.8493a3e43b2f24fa5238f07f427743f7.jpg to C:\\Users\\test\\Desktop\\waste detection.v4-add-pp-bag-8-1-1-.coco\\train\\images\n",
      "Moved 202410151321-36-318184-127-344023_jpg.rf.1caef25b2a45603d2989bdec5dbd9381.jpg to C:\\Users\\test\\Desktop\\waste detection.v4-add-pp-bag-8-1-1-.coco\\train\\images\n",
      "Moved 202410151322-36-318190-127-344123_jpg.rf.fd9c89b248a3017dbbe9e32f212f5015.jpg to C:\\Users\\test\\Desktop\\waste detection.v4-add-pp-bag-8-1-1-.coco\\train\\images\n",
      "Moved 202410151325-36-319184-127-354023_jpg.rf.2c905b87f50bfc8fae94a3c3ebc5213e.jpg to C:\\Users\\test\\Desktop\\waste detection.v4-add-pp-bag-8-1-1-.coco\\train\\images\n",
      "Moved 202410151329-36-316079-127-349452_jpg.rf.a08cae4814fe0a7c763bd914e5167030.jpg to C:\\Users\\test\\Desktop\\waste detection.v4-add-pp-bag-8-1-1-.coco\\train\\images\n",
      "Moved 202410151331-36-315587-127-349227-2_jpg.rf.a21d85c5020d0b1835e5b776a15805b9.jpg to C:\\Users\\test\\Desktop\\waste detection.v4-add-pp-bag-8-1-1-.coco\\train\\images\n",
      "Moved 202410151331-36-315587-127-349227_jpg.rf.212809a37551183059f1d5d7358a10dd.jpg to C:\\Users\\test\\Desktop\\waste detection.v4-add-pp-bag-8-1-1-.coco\\train\\images\n",
      "Moved 202410151332-36-314305-127-349784_jpg.rf.2931dbd7e2a4f16d2705d47c86da48d4.jpg to C:\\Users\\test\\Desktop\\waste detection.v4-add-pp-bag-8-1-1-.coco\\train\\images\n",
      "Moved 202410151333-36-313839-127-349948-1_jpg.rf.8e6c45d567de173770efee02d5286e53.jpg to C:\\Users\\test\\Desktop\\waste detection.v4-add-pp-bag-8-1-1-.coco\\train\\images\n",
      "Moved 202410151339-36-313178-127-350245_jpg.rf.82d70709322ddf18e0251b63ed3ba03d.jpg to C:\\Users\\test\\Desktop\\waste detection.v4-add-pp-bag-8-1-1-.coco\\train\\images\n",
      "Moved 202410151339-36-314862-127-350227_jpg.rf.dd7d39db3ad23891516172a69812d6e1.jpg to C:\\Users\\test\\Desktop\\waste detection.v4-add-pp-bag-8-1-1-.coco\\train\\images\n",
      "Moved 202410151340-36-314213-127-350439_jpg.rf.995ab2159977c9a59a5bb929d260ee52.jpg to C:\\Users\\test\\Desktop\\waste detection.v4-add-pp-bag-8-1-1-.coco\\train\\images\n",
      "Moved 202410151342-36-314215-127-351277_jpg.rf.823cdfb32ba883b206e7be4f1356b115.jpg to C:\\Users\\test\\Desktop\\waste detection.v4-add-pp-bag-8-1-1-.coco\\train\\images\n",
      "Moved 202410151346-36-313222-127-351292_jpg.rf.b2e3788b80c1d52d2bfaaa5658b41b25.jpg to C:\\Users\\test\\Desktop\\waste detection.v4-add-pp-bag-8-1-1-.coco\\train\\images\n",
      "Moved 202410151351-36-311454-127-352043_jpg.rf.cd5b70864ee5a9974d5dcbe20c062c19.jpg to C:\\Users\\test\\Desktop\\waste detection.v4-add-pp-bag-8-1-1-.coco\\train\\images\n",
      "Moved 202410151353-36-310924-127-352033_jpg.rf.7b8e979fbb9a51204a27bfae2e295db8.jpg to C:\\Users\\test\\Desktop\\waste detection.v4-add-pp-bag-8-1-1-.coco\\train\\images\n",
      "Moved 202410151353-36-312454-127-353043_jpg.rf.ba7055e2a1bb90f6e775c1878332b2db.jpg to C:\\Users\\test\\Desktop\\waste detection.v4-add-pp-bag-8-1-1-.coco\\train\\images\n",
      "Moved 202410151355-36-311761-127-353189_jpg.rf.85b214527c55ade8b9c6ce1f279bf664.jpg to C:\\Users\\test\\Desktop\\waste detection.v4-add-pp-bag-8-1-1-.coco\\train\\images\n",
      "Moved 202410151400-36-311120-127-352924_jpg.rf.823861efecd95204971c9a3b327bf693.jpg to C:\\Users\\test\\Desktop\\waste detection.v4-add-pp-bag-8-1-1-.coco\\train\\images\n",
      "Moved 202410151401-36-310510-127-353319_jpg.rf.f79b22c26c15490a0dfd3a232ce42bc1.jpg to C:\\Users\\test\\Desktop\\waste detection.v4-add-pp-bag-8-1-1-.coco\\train\\images\n",
      "Moved 202410151403-36-309962-127-351608_jpg.rf.2bd39d8c38f0ce34d1905f2ba6ea808e.jpg to C:\\Users\\test\\Desktop\\waste detection.v4-add-pp-bag-8-1-1-.coco\\train\\images\n",
      "Moved 202410151404-36-309298-127-351825_jpg.rf.5cf0f073dc95e7e919c8cbcf9753a539.jpg to C:\\Users\\test\\Desktop\\waste detection.v4-add-pp-bag-8-1-1-.coco\\train\\images\n",
      "Moved 202410151405-36-309767-127-352412_jpg.rf.5e0491136a54864600a2bb86dac57297.jpg to C:\\Users\\test\\Desktop\\waste detection.v4-add-pp-bag-8-1-1-.coco\\train\\images\n",
      "Moved 202410151406-36-309913-127-353725_jpg.rf.13c0f032142634d69f6bf46d1910f4e7.jpg to C:\\Users\\test\\Desktop\\waste detection.v4-add-pp-bag-8-1-1-.coco\\train\\images\n",
      "Moved 202410151409-36-309268-127-353955_jpg.rf.f1f0e858a8fba60a548941951629ade7.jpg to C:\\Users\\test\\Desktop\\waste detection.v4-add-pp-bag-8-1-1-.coco\\train\\images\n",
      "Moved 202410151414-36-308354-27-354689_jpg.rf.01cba2d845ead9ab4a156b0ace18fd86.jpg to C:\\Users\\test\\Desktop\\waste detection.v4-add-pp-bag-8-1-1-.coco\\train\\images\n",
      "Moved 202410151415-36-307533-127-354599_jpg.rf.4c598e4a22e632b2eb4444109e9f6a2f.jpg to C:\\Users\\test\\Desktop\\waste detection.v4-add-pp-bag-8-1-1-.coco\\train\\images\n",
      "Moved 202410151417-36-308252-127-353159_jpg.rf.0de48aeff74abd2ef64ea23d839b27f1.jpg to C:\\Users\\test\\Desktop\\waste detection.v4-add-pp-bag-8-1-1-.coco\\train\\images\n",
      "Moved 202410151418-36-307403-127-352720_jpg.rf.292e2b892f45f034571933c86582e96e.jpg to C:\\Users\\test\\Desktop\\waste detection.v4-add-pp-bag-8-1-1-.coco\\train\\images\n",
      "Moved 202410151420-36-307311-127-3534478_jpg.rf.d288a757b7871e295d83c63fe6bc2e39.jpg to C:\\Users\\test\\Desktop\\waste detection.v4-add-pp-bag-8-1-1-.coco\\train\\images\n",
      "Moved 202410151421-36-307310-127-353472_jpg.rf.cb184d0e5af83801d3741318e8b702e7.jpg to C:\\Users\\test\\Desktop\\waste detection.v4-add-pp-bag-8-1-1-.coco\\train\\images\n",
      "Moved 202410151422-36-307643-127-354581_jpg.rf.a863d88b6a538ea6554d7b2c863c04d6.jpg to C:\\Users\\test\\Desktop\\waste detection.v4-add-pp-bag-8-1-1-.coco\\train\\images\n",
      "Moved 202410151424-36-307912-127-355211_jpg.rf.d74d674ed46ed823bf570919b995fcdf.jpg to C:\\Users\\test\\Desktop\\waste detection.v4-add-pp-bag-8-1-1-.coco\\train\\images\n",
      "Moved 202410151426-36-306956-127-354935-1_jpg.rf.816813594ec9f3344523ad460acf3e18.jpg to C:\\Users\\test\\Desktop\\waste detection.v4-add-pp-bag-8-1-1-.coco\\train\\images\n",
      "Moved 202410151426-36-306956-127-354935-2_jpg.rf.d5daf4c027dc3dae1e9c7632ca433018.jpg to C:\\Users\\test\\Desktop\\waste detection.v4-add-pp-bag-8-1-1-.coco\\train\\images\n",
      "Moved 202410151426-36-306956-127-354935-3_jpg.rf.360cafe287feb83834b2ecce8796d088.jpg to C:\\Users\\test\\Desktop\\waste detection.v4-add-pp-bag-8-1-1-.coco\\train\\images\n",
      "Moved 202410151427-36-306723-127-353884_jpg.rf.c6304d5be5db9428606a56c56f9753b1.jpg to C:\\Users\\test\\Desktop\\waste detection.v4-add-pp-bag-8-1-1-.coco\\train\\images\n",
      "Moved 202410151435-36-308532-127-351366_jpg.rf.51b2d57a322b3c88c5d69e656dd16636.jpg to C:\\Users\\test\\Desktop\\waste detection.v4-add-pp-bag-8-1-1-.coco\\train\\images\n",
      "Moved 202410151436-36-308093-127-351803_jpg.rf.7c28105df1f555a5fed5f219db6376f5.jpg to C:\\Users\\test\\Desktop\\waste detection.v4-add-pp-bag-8-1-1-.coco\\train\\images\n",
      "Moved 202410151438-36-307266-127-351946-1_jpg.rf.a6aae07a3e9e8b52c7818e4ae3800b53.jpg to C:\\Users\\test\\Desktop\\waste detection.v4-add-pp-bag-8-1-1-.coco\\train\\images\n",
      "Moved 202410151438-36-307266-127-351946-2_jpg.rf.99d46293253176d9a082bc3db80dc661.jpg to C:\\Users\\test\\Desktop\\waste detection.v4-add-pp-bag-8-1-1-.coco\\train\\images\n",
      "Moved 202410151439-36-306578-127-352189_jpg.rf.a5b3561d983759e6a427f8e6cbe61ffe.jpg to C:\\Users\\test\\Desktop\\waste detection.v4-add-pp-bag-8-1-1-.coco\\train\\images\n",
      "Moved 202410151442-36-307638-127-351042_jpg.rf.b496be3dec7331af49dd63a49283832c.jpg to C:\\Users\\test\\Desktop\\waste detection.v4-add-pp-bag-8-1-1-.coco\\train\\images\n",
      "Moved 202410151443-36-306995-127-351138_jpg.rf.72ae5461d95740e59919c8c8899cfc56.jpg to C:\\Users\\test\\Desktop\\waste detection.v4-add-pp-bag-8-1-1-.coco\\train\\images\n",
      "Moved 202410151445-36-306930-127-350415_jpg.rf.fc64650abe3ffabc6d82da9ca15f18a9.jpg to C:\\Users\\test\\Desktop\\waste detection.v4-add-pp-bag-8-1-1-.coco\\train\\images\n",
      "Moved 202410151446-36-306680-127-349928_jpg.rf.70166847f11b3311747b56198957d59b.jpg to C:\\Users\\test\\Desktop\\waste detection.v4-add-pp-bag-8-1-1-.coco\\train\\images\n",
      "Moved 202410151448-202410151351-36-311454-127-352043_jpg.rf.c6910765025f83334b0f558caf74b71a.jpg to C:\\Users\\test\\Desktop\\waste detection.v4-add-pp-bag-8-1-1-.coco\\train\\images\n",
      "Moved 202410151449-36-305728-127-350147_jpg.rf.48b638eb92f9b1483d63172b9d092a14.jpg to C:\\Users\\test\\Desktop\\waste detection.v4-add-pp-bag-8-1-1-.coco\\train\\images\n",
      "Moved 202410151450-36-306065-127-351533_jpg.rf.8445c0fa7c054d66547212cd2da3b55a.jpg to C:\\Users\\test\\Desktop\\waste detection.v4-add-pp-bag-8-1-1-.coco\\train\\images\n",
      "Moved 202410151500-36-304435-127-349124_jpg.rf.af9b2ea16dede9b7820eeb3c77c5ffc6.jpg to C:\\Users\\test\\Desktop\\waste detection.v4-add-pp-bag-8-1-1-.coco\\train\\images\n",
      "Moved 202410151501-36-305412-127-348741-1_jpg.rf.f81353be5e83c66b39a34dffc50738da.jpg to C:\\Users\\test\\Desktop\\waste detection.v4-add-pp-bag-8-1-1-.coco\\train\\images\n",
      "Moved 202410151501-36-305412-127-348741-2_jpg.rf.9bac31c47b3e880fcf0018541e93b37f.jpg to C:\\Users\\test\\Desktop\\waste detection.v4-add-pp-bag-8-1-1-.coco\\train\\images\n",
      "Moved 202410151502-36-305005-127-349304_jpg.rf.0c5519fb25e95b48d8ff4b42ae14ff14.jpg to C:\\Users\\test\\Desktop\\waste detection.v4-add-pp-bag-8-1-1-.coco\\train\\images\n",
      "Moved 202410161502-36-330362-127-335800_jpg.rf.07ab69197e7648d4fe7612510edd78f8.jpg to C:\\Users\\test\\Desktop\\waste detection.v4-add-pp-bag-8-1-1-.coco\\train\\images\n",
      "Moved 202410161506-36-330925-127-337648_jpg.rf.a2d39f54a741d685c68a75be9fcff60a.jpg to C:\\Users\\test\\Desktop\\waste detection.v4-add-pp-bag-8-1-1-.coco\\train\\images\n",
      "Moved 202410161506-36-331219-127-337371_jpg.rf.fe363a9e763269081930da98837a5f98.jpg to C:\\Users\\test\\Desktop\\waste detection.v4-add-pp-bag-8-1-1-.coco\\train\\images\n",
      "Moved 202410161507-36-330925-127-337648_jpg.rf.b0300b54aba9375130d19d47467ab330.jpg to C:\\Users\\test\\Desktop\\waste detection.v4-add-pp-bag-8-1-1-.coco\\train\\images\n",
      "Moved 202410161507-36-331219-127-337371_jpg.rf.c8c1db9043de89f928856f344eac182b.jpg to C:\\Users\\test\\Desktop\\waste detection.v4-add-pp-bag-8-1-1-.coco\\train\\images\n",
      "Moved 202410161509-36-331219-127-337371_jpg.rf.3efd55913e3061e32192eca3dac19607.jpg to C:\\Users\\test\\Desktop\\waste detection.v4-add-pp-bag-8-1-1-.coco\\train\\images\n",
      "Moved 202410161514-36-331335-127-337594_jpg.rf.78f9639303978a8f40646af007870c03.jpg to C:\\Users\\test\\Desktop\\waste detection.v4-add-pp-bag-8-1-1-.coco\\train\\images\n",
      "Moved 202410161515-36-331335-127-337594_jpg.rf.c2e05628a6e0897f385d0c8fa12bed88.jpg to C:\\Users\\test\\Desktop\\waste detection.v4-add-pp-bag-8-1-1-.coco\\train\\images\n",
      "Moved 202410161517-36-330961-127-338606_jpg.rf.454ca6724643bc8cc50480c18b6de616.jpg to C:\\Users\\test\\Desktop\\waste detection.v4-add-pp-bag-8-1-1-.coco\\train\\images\n",
      "Moved 202410161519-36-331142-127-339629_jpg.rf.8f6408684935a79035eed39e368b0b86.jpg to C:\\Users\\test\\Desktop\\waste detection.v4-add-pp-bag-8-1-1-.coco\\train\\images\n",
      "Moved 202410161520-36-330449-127-339626_jpg.rf.7c7a909af558a33e8a1edce1c1fe271d.jpg to C:\\Users\\test\\Desktop\\waste detection.v4-add-pp-bag-8-1-1-.coco\\train\\images\n",
      "Moved 202410161520-36-330795-127-339622_jpg.rf.f3b0ccbe96baa2e82c24c3d3f8da0187.jpg to C:\\Users\\test\\Desktop\\waste detection.v4-add-pp-bag-8-1-1-.coco\\train\\images\n",
      "Moved 202410161524-36-330034-127-341211_jpg.rf.703573ef359ace162bae11d0a42ae4bb.jpg to C:\\Users\\test\\Desktop\\waste detection.v4-add-pp-bag-8-1-1-.coco\\train\\images\n",
      "Moved 202410161524-36-330255-127-341193_jpg.rf.c5460db37fd81da09ef732f50bb7757c.jpg to C:\\Users\\test\\Desktop\\waste detection.v4-add-pp-bag-8-1-1-.coco\\train\\images\n",
      "Moved 202410161525-36-330007-127-341203_jpg.rf.21947a97267feb98338fa0cd1ca739c2.jpg to C:\\Users\\test\\Desktop\\waste detection.v4-add-pp-bag-8-1-1-.coco\\train\\images\n",
      "Moved 202410161528-36-331127-127-341748_jpg.rf.7a823f425ec0bb1528e51d8830269744.jpg to C:\\Users\\test\\Desktop\\waste detection.v4-add-pp-bag-8-1-1-.coco\\train\\images\n",
      "Moved 202410161530-36-331924-127-341147_jpg.rf.7eedc4955bb3e741db6e0d9c47677e9a.jpg to C:\\Users\\test\\Desktop\\waste detection.v4-add-pp-bag-8-1-1-.coco\\train\\images\n",
      "Moved 202410161532-36-331564-127-340357_jpg.rf.dd1f9ffd70274036fac0193abf727a1a.jpg to C:\\Users\\test\\Desktop\\waste detection.v4-add-pp-bag-8-1-1-.coco\\train\\images\n",
      "Moved 202410161541-36-330946-127-336724_jpg.rf.c10adeab2f6d0cbb3761a7bf97a7ec7c.jpg to C:\\Users\\test\\Desktop\\waste detection.v4-add-pp-bag-8-1-1-.coco\\train\\images\n",
      "Moved 202410161542-36-330459-127-336644_jpg.rf.3ee1d9661a231df6e4e3eaef833703e3.jpg to C:\\Users\\test\\Desktop\\waste detection.v4-add-pp-bag-8-1-1-.coco\\train\\images\n",
      "Moved 202410161542-36-331635-127-340608_jpg.rf.535572b81b4822914fd9ec5d74ee570c.jpg to C:\\Users\\test\\Desktop\\waste detection.v4-add-pp-bag-8-1-1-.coco\\train\\images\n",
      "Moved 202410161545-36-330641-127-334551_jpg.rf.e3f2a1b4713b5100b14c90843729da8d.jpg to C:\\Users\\test\\Desktop\\waste detection.v4-add-pp-bag-8-1-1-.coco\\train\\images\n",
      "Moved 202410161553-36-331003-127-333784_jpg.rf.8ae7b2122b88d0288b9bce57a5587939.jpg to C:\\Users\\test\\Desktop\\waste detection.v4-add-pp-bag-8-1-1-.coco\\train\\images\n",
      "Moved 202410161554-36-331044-127-333851_jpg.rf.217cd12ba32e54251e987c46529a8074.jpg to C:\\Users\\test\\Desktop\\waste detection.v4-add-pp-bag-8-1-1-.coco\\train\\images\n",
      "Moved 202410161615-36-323179-127-344249_jpg.rf.f10547603bcca6dda0f93e727621cb57.jpg to C:\\Users\\test\\Desktop\\waste detection.v4-add-pp-bag-8-1-1-.coco\\train\\images\n",
      "Moved 202410161618-36-324359-127-344282_jpg.rf.1a42af6c0de448a599e80c3c74a4a57a.jpg to C:\\Users\\test\\Desktop\\waste detection.v4-add-pp-bag-8-1-1-.coco\\train\\images\n",
      "Moved 202410161624-36-324254-127-344914_jpg.rf.86172cedd7bc2180dfc1a9170869db37.jpg to C:\\Users\\test\\Desktop\\waste detection.v4-add-pp-bag-8-1-1-.coco\\train\\images\n",
      "Moved 202410161637-36-318414-127-342740_jpg.rf.5a70e9cd63cbbea02e7e50b53ef6daf8.jpg to C:\\Users\\test\\Desktop\\waste detection.v4-add-pp-bag-8-1-1-.coco\\train\\images\n",
      "Moved 202410161640-36-319547-127342741_jpg.rf.9bfa7f08185a6800020f72044c7386ff.jpg to C:\\Users\\test\\Desktop\\waste detection.v4-add-pp-bag-8-1-1-.coco\\train\\images\n",
      "Moved 202410161642-36-319409-127-343576_jpg.rf.890f7e3e4253d67695a24e286c080969.jpg to C:\\Users\\test\\Desktop\\waste detection.v4-add-pp-bag-8-1-1-.coco\\train\\images\n",
      "Moved 202410161706-36-314234-127-351239_jpg.rf.c21581a1ebb0ab8f85ef6074cdfb554c.jpg to C:\\Users\\test\\Desktop\\waste detection.v4-add-pp-bag-8-1-1-.coco\\train\\images\n",
      "Moved 202410161709-36-314221-127-350473_jpg.rf.83dab8f76247b2965ea247b99d61a646.jpg to C:\\Users\\test\\Desktop\\waste detection.v4-add-pp-bag-8-1-1-.coco\\train\\images\n",
      "Moved 202410161710-36-314854-127-350251_jpg.rf.e40f5c6db231aa03cd1a641a93965fee.jpg to C:\\Users\\test\\Desktop\\waste detection.v4-add-pp-bag-8-1-1-.coco\\train\\images\n",
      "Moved 202410161712-36-315617-127-349185_jpg.rf.3c1976bdbc176fac0b22d591ed5098fa.jpg to C:\\Users\\test\\Desktop\\waste detection.v4-add-pp-bag-8-1-1-.coco\\train\\images\n",
      "Moved 202410161714-36-314329-127-349733_jpg.rf.69465a81089bdda8734e36eac670f592.jpg to C:\\Users\\test\\Desktop\\waste detection.v4-add-pp-bag-8-1-1-.coco\\train\\images\n",
      "Moved 202410161715-36-313923-127-349907_jpg.rf.df3274abcf31a520b9c018a3d45c4c61.jpg to C:\\Users\\test\\Desktop\\waste detection.v4-add-pp-bag-8-1-1-.coco\\train\\images\n",
      "Moved 202410161717-36-313126-127-350313_jpg.rf.a37e53391b7d06a8b1182733a6102e07.jpg to C:\\Users\\test\\Desktop\\waste detection.v4-add-pp-bag-8-1-1-.coco\\train\\images\n",
      "Moved 202410161719-36-313241-127-351265_jpg.rf.2c940c9a8846db47eec3a7c57b984a8e.jpg to C:\\Users\\test\\Desktop\\waste detection.v4-add-pp-bag-8-1-1-.coco\\train\\images\n",
      "Moved 202410161740-36-309854-127-352191_jpg.rf.7152ad49c2edfc02a53874a6de4a431f.jpg to C:\\Users\\test\\Desktop\\waste detection.v4-add-pp-bag-8-1-1-.coco\\train\\images\n",
      "Moved 202410161742-36-309664-127-353337_jpg.rf.5d55e9d212a505b79f156143574545e3.jpg to C:\\Users\\test\\Desktop\\waste detection.v4-add-pp-bag-8-1-1-.coco\\train\\images\n",
      "Moved 202410161745-36-309903-127-351607_jpg.rf.423147521cd522ec8bfa1007b285347f.jpg to C:\\Users\\test\\Desktop\\waste detection.v4-add-pp-bag-8-1-1-.coco\\train\\images\n",
      "Moved 202410161746-36-309285-127-351938_jpg.rf.908370c882f765d04a44cf74323d4236.jpg to C:\\Users\\test\\Desktop\\waste detection.v4-add-pp-bag-8-1-1-.coco\\train\\images\n",
      "Moved 202410161748-36-309137-127-353006_jpg.rf.73cb64593d4d72ef3b17bc88a077dde7.jpg to C:\\Users\\test\\Desktop\\waste detection.v4-add-pp-bag-8-1-1-.coco\\train\\images\n",
      "Moved 202410171120-36-320136-127-342527_jpg.rf.f20b2d370661253dc8fba3c4aea974b4.jpg to C:\\Users\\test\\Desktop\\waste detection.v4-add-pp-bag-8-1-1-.coco\\train\\images\n",
      "Moved 202410171159-36-313044-127-350310_jpg.rf.5e4abd427a9aab8131edc48c19953d01.jpg to C:\\Users\\test\\Desktop\\waste detection.v4-add-pp-bag-8-1-1-.coco\\train\\images\n",
      "Moved 202410171213-36-307353-127-353567_jpg.rf.72cd90b5913385435751df339bd9a38a.jpg to C:\\Users\\test\\Desktop\\waste detection.v4-add-pp-bag-8-1-1-.coco\\train\\images\n",
      "Moved 202410171227-36-320136-127-342428_jpg.rf.738a5ec428cc6591b4d99a036948761d.jpg to C:\\Users\\test\\Desktop\\waste detection.v4-add-pp-bag-8-1-1-.coco\\train\\images\n",
      "Moved 202410231432-36-330455-127-335842_jpg.rf.c7325ff1f7381adb0454edc945b55145.jpg to C:\\Users\\test\\Desktop\\waste detection.v4-add-pp-bag-8-1-1-.coco\\train\\images\n",
      "Moved 202410231433-36-330081-127-335457_jpg.rf.96d77b8b5bbf23b6b87b86cf4dfcf1ca.jpg to C:\\Users\\test\\Desktop\\waste detection.v4-add-pp-bag-8-1-1-.coco\\train\\images\n",
      "Moved 202410231434-36-329040-127-335842_jpg.rf.e2dabf8e9fa55d74c84e36b40eeead06.jpg to C:\\Users\\test\\Desktop\\waste detection.v4-add-pp-bag-8-1-1-.coco\\train\\images\n",
      "Moved 202410231435-36-329038-127-334510_jpg.rf.f065dfd66fbd404514d66c04da7728cf.jpg to C:\\Users\\test\\Desktop\\waste detection.v4-add-pp-bag-8-1-1-.coco\\train\\images\n",
      "Moved 202410231436-36-329532-127-334541-1_jpg.rf.93419706b31a0953022269bd725a9ada.jpg to C:\\Users\\test\\Desktop\\waste detection.v4-add-pp-bag-8-1-1-.coco\\train\\images\n",
      "Moved 202410231436-36-329532-127-334541-2_jpg.rf.9e88859d18554bec6a24c2f556e05ba6.jpg to C:\\Users\\test\\Desktop\\waste detection.v4-add-pp-bag-8-1-1-.coco\\train\\images\n",
      "Moved 202410231437-36-330542-127-334539_jpg.rf.8a3ddc9169a5f076f582de8274182a64.jpg to C:\\Users\\test\\Desktop\\waste detection.v4-add-pp-bag-8-1-1-.coco\\train\\images\n",
      "Moved 202410231438-36-331189-127-333842_jpg.rf.2bd2fa3eeb305df590286d6e733a815a.jpg to C:\\Users\\test\\Desktop\\waste detection.v4-add-pp-bag-8-1-1-.coco\\train\\images\n",
      "Moved 202410231442-36-330939-127-338586-1_jpg.rf.330c2fe4729d0988903e6d7fdac7009b.jpg to C:\\Users\\test\\Desktop\\waste detection.v4-add-pp-bag-8-1-1-.coco\\train\\images\n",
      "Moved 202410231442-36-330939-127-338586-2_jpg.rf.1145fdfa4da985ef4022794f4a58992c.jpg to C:\\Users\\test\\Desktop\\waste detection.v4-add-pp-bag-8-1-1-.coco\\train\\images\n",
      "Moved 202410231444-36-331723-127-339188_jpg.rf.ff7c020a6b6d86195cdbc1c1dd748e46.jpg to C:\\Users\\test\\Desktop\\waste detection.v4-add-pp-bag-8-1-1-.coco\\train\\images\n",
      "Moved 202410231446-36-331667-127-340578_jpg.rf.3b444530f12d1b171fd4fcf49914c3e8.jpg to C:\\Users\\test\\Desktop\\waste detection.v4-add-pp-bag-8-1-1-.coco\\train\\images\n",
      "Moved 202410231447-36-331858-127-341079_jpg.rf.b9945481ad97c5bb0e1310b4542d6f46.jpg to C:\\Users\\test\\Desktop\\waste detection.v4-add-pp-bag-8-1-1-.coco\\train\\images\n",
      "Moved 202410231448-36-331088-127-341808_jpg.rf.39a97e85646a773473f991ffaf060f53.jpg to C:\\Users\\test\\Desktop\\waste detection.v4-add-pp-bag-8-1-1-.coco\\train\\images\n",
      "Moved 202410231449-36-330236-127-341215_jpg.rf.cb74340c973afeae62027d81d45ef0dc.jpg to C:\\Users\\test\\Desktop\\waste detection.v4-add-pp-bag-8-1-1-.coco\\train\\images\n",
      "Moved 202410231450-36-330008-127-341197_jpg.rf.1754b97164f1c337ef1450306b4b9991.jpg to C:\\Users\\test\\Desktop\\waste detection.v4-add-pp-bag-8-1-1-.coco\\train\\images\n",
      "Moved 202410231451-36-310190-127-351439_jpg.rf.8c61d6cf7722822d2ceec6b9e4723979.jpg to C:\\Users\\test\\Desktop\\waste detection.v4-add-pp-bag-8-1-1-.coco\\train\\images\n",
      "Moved 202410231451-36-329083-127-341781_jpg.rf.53161a30b61efe6803bcf98d98681081.jpg to C:\\Users\\test\\Desktop\\waste detection.v4-add-pp-bag-8-1-1-.coco\\train\\images\n",
      "Moved 202410231452-36-311491-127-352094_jpg.rf.c8078e3ecb1f99de1bf7fb093bf05a2a.jpg to C:\\Users\\test\\Desktop\\waste detection.v4-add-pp-bag-8-1-1-.coco\\train\\images\n",
      "Moved 202410231452-36-328243-127-341174_jpg.rf.c6c6c20c5035a37eb11d2e3968fdb373.jpg to C:\\Users\\test\\Desktop\\waste detection.v4-add-pp-bag-8-1-1-.coco\\train\\images\n",
      "Moved 202410231453-36-311759-127-353038_jpg.rf.86c6c5109f2ab73c2d658d4db56d3687.jpg to C:\\Users\\test\\Desktop\\waste detection.v4-add-pp-bag-8-1-1-.coco\\train\\images\n",
      "Moved 202410231454-36-330353-127-339647-1_jpg.rf.4df808d05a240fbad7de3f732a7dbee2.jpg to C:\\Users\\test\\Desktop\\waste detection.v4-add-pp-bag-8-1-1-.coco\\train\\images\n",
      "Moved 202410231454-36-330353-127-339647-2_jpg.rf.966edf11767057c0b2c803bcc8d21bd1.jpg to C:\\Users\\test\\Desktop\\waste detection.v4-add-pp-bag-8-1-1-.coco\\train\\images\n",
      "Moved 202410231455-36-330785-127-339614_jpg.rf.c91d70b8a744cbfe6d236ded09ae0ed6.jpg to C:\\Users\\test\\Desktop\\waste detection.v4-add-pp-bag-8-1-1-.coco\\train\\images\n",
      "Moved 202410231457-36-331103-127-339644_jpg.rf.4619b60418c09fb5f4e9055ea7cda0a5.jpg to C:\\Users\\test\\Desktop\\waste detection.v4-add-pp-bag-8-1-1-.coco\\train\\images\n",
      "Moved 202410231458-36-310753-127-352164_jpg.rf.72f5b1bb7dcce791cef4e61b35bd5677.jpg to C:\\Users\\test\\Desktop\\waste detection.v4-add-pp-bag-8-1-1-.coco\\train\\images\n",
      "Moved 202410231502-36-309767-127-352478_jpg.rf.e5609234047c201c94962e0d628d66fb.jpg to C:\\Users\\test\\Desktop\\waste detection.v4-add-pp-bag-8-1-1-.coco\\train\\images\n",
      "Moved 202410231504-36-309214-127-351925_jpg.rf.1e80520c5bb5e2e393ac0cefdc928547.jpg to C:\\Users\\test\\Desktop\\waste detection.v4-add-pp-bag-8-1-1-.coco\\train\\images\n",
      "Moved 202410231506-36-309147-127-353022_jpg.rf.1f9696b090b2b5b9dd5f9bd81f73b12a.jpg to C:\\Users\\test\\Desktop\\waste detection.v4-add-pp-bag-8-1-1-.coco\\train\\images\n",
      "Moved 202410231506-36-326925-127-347601_jpg.rf.b1d1e94aa9bdefd374593cef28e5e9cc.jpg to C:\\Users\\test\\Desktop\\waste detection.v4-add-pp-bag-8-1-1-.coco\\train\\images\n",
      "Moved 202410231507-36-309821-127-353657_jpg.rf.46c7450e548dbc1612d8ece8fc7d5c0e.jpg to C:\\Users\\test\\Desktop\\waste detection.v4-add-pp-bag-8-1-1-.coco\\train\\images\n",
      "Moved 202410231508-36-326981-127-347152_jpg.rf.38cb2b5ff2625828f88dd143415d66a2.jpg to C:\\Users\\test\\Desktop\\waste detection.v4-add-pp-bag-8-1-1-.coco\\train\\images\n",
      "Moved 202410231509-36-309247-127-353914_jpg.rf.07e374c57431545beb98b424b3b156a1.jpg to C:\\Users\\test\\Desktop\\waste detection.v4-add-pp-bag-8-1-1-.coco\\train\\images\n",
      "Moved 202410231509-36-326010-127-347647_jpg.rf.6c557428ee95701a2452f03c57c06ddc.jpg to C:\\Users\\test\\Desktop\\waste detection.v4-add-pp-bag-8-1-1-.coco\\train\\images\n",
      "Moved 202410231510-36-308395-127-354178_jpg.rf.67be320a1820c432ab61df624ca86d8b.jpg to C:\\Users\\test\\Desktop\\waste detection.v4-add-pp-bag-8-1-1-.coco\\train\\images\n",
      "Moved 202410231510-36-308547-127-354514_jpg.rf.1d6b8be20172b68bca029a26d05a1127.jpg to C:\\Users\\test\\Desktop\\waste detection.v4-add-pp-bag-8-1-1-.coco\\train\\images\n",
      "Moved 202410231510-36-325399-127-347458_jpg.rf.d5a13cecd281e658006ee51f4f34da91.jpg to C:\\Users\\test\\Desktop\\waste detection.v4-add-pp-bag-8-1-1-.coco\\train\\images\n",
      "Moved 202410231511-36-308080-127-353159_jpg.rf.a92d58ef8efb3f69ed556ccf73325f21.jpg to C:\\Users\\test\\Desktop\\waste detection.v4-add-pp-bag-8-1-1-.coco\\train\\images\n",
      "Moved 202410231511-36-324354-127-347518_jpg.rf.5e9058975692544cdb40c3b1cc71f770.jpg to C:\\Users\\test\\Desktop\\waste detection.v4-add-pp-bag-8-1-1-.coco\\train\\images\n",
      "Moved 202410231512-36-323447-127-347462_jpg.rf.cf3afe635e02162c2cbc9920b4517bdc.jpg to C:\\Users\\test\\Desktop\\waste detection.v4-add-pp-bag-8-1-1-.coco\\train\\images\n",
      "Moved 202410231513-36-323734-127-344939_jpg.rf.4b99ae76971aadd68adaebad10bc2925.jpg to C:\\Users\\test\\Desktop\\waste detection.v4-add-pp-bag-8-1-1-.coco\\train\\images\n",
      "Moved 202410231514-36-324213-127-345395_jpg.rf.6ca63e10b13410725ee36591b5a725f8.jpg to C:\\Users\\test\\Desktop\\waste detection.v4-add-pp-bag-8-1-1-.coco\\train\\images\n",
      "Moved 202410231515-36-307548-127-354720_jpg.rf.60983907c5a3d0d6646a80f45eeec869.jpg to C:\\Users\\test\\Desktop\\waste detection.v4-add-pp-bag-8-1-1-.coco\\train\\images\n",
      "Moved 202410231515-36-324043-127-345980_jpg.rf.c0162683f6f18dc5fda8abd80efe1e10.jpg to C:\\Users\\test\\Desktop\\waste detection.v4-add-pp-bag-8-1-1-.coco\\train\\images\n",
      "Moved 202410231516-36-307944-127-355159_jpg.rf.850870f7659252b1fc760c62e3732668.jpg to C:\\Users\\test\\Desktop\\waste detection.v4-add-pp-bag-8-1-1-.coco\\train\\images\n",
      "Moved 202410231516-36-324529-127-346250_jpg.rf.105d95177d99ff84cdde7969c1d227e6.jpg to C:\\Users\\test\\Desktop\\waste detection.v4-add-pp-bag-8-1-1-.coco\\train\\images\n",
      "Moved 202410231518-36-306962-127-355011_jpg.rf.899391354ad74154ebea1a0198230d3a.jpg to C:\\Users\\test\\Desktop\\waste detection.v4-add-pp-bag-8-1-1-.coco\\train\\images\n",
      "Moved 202410231519-36-306603-127-353585_jpg.rf.7e8e6e0ab05049f2513b94cdaa88ea2b.jpg to C:\\Users\\test\\Desktop\\waste detection.v4-add-pp-bag-8-1-1-.coco\\train\\images\n",
      "Moved 202410231519-36-325561-127-346344_jpg.rf.27ce62bffc6d2c517d694bdda00a9567.jpg to C:\\Users\\test\\Desktop\\waste detection.v4-add-pp-bag-8-1-1-.coco\\train\\images\n",
      "Moved 202410231520-36-326180-127-346353_jpg.rf.0307bc5e860d7f1e8b8d571846073f41.jpg to C:\\Users\\test\\Desktop\\waste detection.v4-add-pp-bag-8-1-1-.coco\\train\\images\n",
      "Moved 202410231521-36-326266-127-345578_jpg.rf.95f7124020426c0afbf14b6f55ae1941.jpg to C:\\Users\\test\\Desktop\\waste detection.v4-add-pp-bag-8-1-1-.coco\\train\\images\n",
      "Moved 202410231522-36-325565-127-344729_jpg.rf.d06e527bc1d4974d379564b9c9958072.jpg to C:\\Users\\test\\Desktop\\waste detection.v4-add-pp-bag-8-1-1-.coco\\train\\images\n",
      "Moved 202410231523-36-307453-127-352685_jpg.rf.f8ebdedbe442f39564ca491a0ca4b49f.jpg to C:\\Users\\test\\Desktop\\waste detection.v4-add-pp-bag-8-1-1-.coco\\train\\images\n",
      "Moved 202410231523-36-324997-127-344300_jpg.rf.88bb8a29c6810ff1c5b8e2a1e221820c.jpg to C:\\Users\\test\\Desktop\\waste detection.v4-add-pp-bag-8-1-1-.coco\\train\\images\n",
      "Moved 202410231524-36-324364-127-344218_jpg.rf.b60f9aaed2e82514c023c7e8da2ed379.jpg to C:\\Users\\test\\Desktop\\waste detection.v4-add-pp-bag-8-1-1-.coco\\train\\images\n",
      "Moved 202410231525-36-325119-127-345352_jpg.rf.c35390464f785ddadc36476c9cc5b4c8.jpg to C:\\Users\\test\\Desktop\\waste detection.v4-add-pp-bag-8-1-1-.coco\\train\\images\n",
      "Moved 202410231526-36-308529-127-351361_jpg.rf.dc87ee1ab44abaa8638beb8cef557367.jpg to C:\\Users\\test\\Desktop\\waste detection.v4-add-pp-bag-8-1-1-.coco\\train\\images\n",
      "Moved 202410231527-36-308017-127-351772_jpg.rf.7981b2b3b19fc5bac8558f4ef1596b85.jpg to C:\\Users\\test\\Desktop\\waste detection.v4-add-pp-bag-8-1-1-.coco\\train\\images\n",
      "Moved 202410231528-36-307637-127-351052_jpg.rf.b84e29b44ed86bfb9f6f5692cce8ff60.jpg to C:\\Users\\test\\Desktop\\waste detection.v4-add-pp-bag-8-1-1-.coco\\train\\images\n",
      "Moved 202410231528-36-324224-127-344970_jpg.rf.5238a70b8b5ab2f18fb06bd93523eb9d.jpg to C:\\Users\\test\\Desktop\\waste detection.v4-add-pp-bag-8-1-1-.coco\\train\\images\n",
      "Moved 202410231529-36-307249-127-351944_jpg.rf.f5c773bd8ec303017dc86cbd41d3f347.jpg to C:\\Users\\test\\Desktop\\waste detection.v4-add-pp-bag-8-1-1-.coco\\train\\images\n",
      "Moved 202410231529-36-323183-127-344386_jpg.rf.960912be3ab987df727e934e7bed44b9.jpg to C:\\Users\\test\\Desktop\\waste detection.v4-add-pp-bag-8-1-1-.coco\\train\\images\n",
      "Moved 202410231530-36-306606-127-352166_jpg.rf.d160c64e84e2b373d93a140949db609d.jpg to C:\\Users\\test\\Desktop\\waste detection.v4-add-pp-bag-8-1-1-.coco\\train\\images\n",
      "Moved 202410231530-36-322633-127-343845_jpg.rf.13f578dd7ed35e0134aeff8fd145c7a8.jpg to C:\\Users\\test\\Desktop\\waste detection.v4-add-pp-bag-8-1-1-.coco\\train\\images\n",
      "Moved 202410231531-36-306058-127-351531_jpg.rf.4574217f6c2d875098295188b3403a79.jpg to C:\\Users\\test\\Desktop\\waste detection.v4-add-pp-bag-8-1-1-.coco\\train\\images\n",
      "Moved 202410231531-36-322894-127-343499_jpg.rf.90c3a8771aa769d3aa4b1bfcb3ba9803.jpg to C:\\Users\\test\\Desktop\\waste detection.v4-add-pp-bag-8-1-1-.coco\\train\\images\n",
      "Moved 202410231532-36-322325-127-342721_jpg.rf.2ed8e099df074daff77e904cb7552c47.jpg to C:\\Users\\test\\Desktop\\waste detection.v4-add-pp-bag-8-1-1-.coco\\train\\images\n",
      "Moved 202410231534-36-306994-127-351105_jpg.rf.f04d0a1f707c345203ce0ebaf22dd057.jpg to C:\\Users\\test\\Desktop\\waste detection.v4-add-pp-bag-8-1-1-.coco\\train\\images\n",
      "Moved 202410231535-36-306840-127-350476_jpg.rf.c4d707d9fc7f617bc25a4ba50dbf315e.jpg to C:\\Users\\test\\Desktop\\waste detection.v4-add-pp-bag-8-1-1-.coco\\train\\images\n",
      "Moved 202410231536-36-306634-127-349841_jpg.rf.c024792a1b85c620570e725d8940bd4a.jpg to C:\\Users\\test\\Desktop\\waste detection.v4-add-pp-bag-8-1-1-.coco\\train\\images\n",
      "Moved 202410231537-36-305996-127-349381_jpg.rf.8c4ff0093e9e7db482a79042be551d61.jpg to C:\\Users\\test\\Desktop\\waste detection.v4-add-pp-bag-8-1-1-.coco\\train\\images\n",
      "Moved 202410231538-36-321961-127-343618_jpg.rf.3b3256576159c76e048b73a24133359f.jpg to C:\\Users\\test\\Desktop\\waste detection.v4-add-pp-bag-8-1-1-.coco\\train\\images\n",
      "Moved 202410231539-36-305730-127-350130_jpg.rf.2a63374d7a9602eea8055b75fa517a31.jpg to C:\\Users\\test\\Desktop\\waste detection.v4-add-pp-bag-8-1-1-.coco\\train\\images\n",
      "Moved 202410231539-36-321174-127-342994_jpg.rf.aa75b24e0e9b9a471082a349a17c5749.jpg to C:\\Users\\test\\Desktop\\waste detection.v4-add-pp-bag-8-1-1-.coco\\train\\images\n",
      "Moved 202410231540-36-305417-127-348713_jpg.rf.e2543ea98c234abc4954aaececc2b344.jpg to C:\\Users\\test\\Desktop\\waste detection.v4-add-pp-bag-8-1-1-.coco\\train\\images\n",
      "Moved 202410231540-36-320136-127-342527_jpg.rf.390fe677af81f2298a549fd8c06e392c.jpg to C:\\Users\\test\\Desktop\\waste detection.v4-add-pp-bag-8-1-1-.coco\\train\\images\n",
      "Moved 202410231540-36-321126-127-342659_jpg.rf.6366f2587075bd68903500a51f674609.jpg to C:\\Users\\test\\Desktop\\waste detection.v4-add-pp-bag-8-1-1-.coco\\train\\images\n",
      "Moved 202410231541-36-304470-127-349057_jpg.rf.55b2d9cebec3e3e7bfb61d637db760cf.jpg to C:\\Users\\test\\Desktop\\waste detection.v4-add-pp-bag-8-1-1-.coco\\train\\images\n",
      "Moved 202410231541-36-320207-127-343374_jpg.rf.efb2f7ae6f5521700c37b462a5c26815.jpg to C:\\Users\\test\\Desktop\\waste detection.v4-add-pp-bag-8-1-1-.coco\\train\\images\n",
      "Moved 202410231542-36-319438-127-343571_jpg.rf.bada426c24ced682d7116da65cb44371.jpg to C:\\Users\\test\\Desktop\\waste detection.v4-add-pp-bag-8-1-1-.coco\\train\\images\n",
      "Moved 202410231543-36-319575-127-342787_jpg.rf.e85fac9438bffa1769840645e41cca3e.jpg to C:\\Users\\test\\Desktop\\waste detection.v4-add-pp-bag-8-1-1-.coco\\train\\images\n",
      "Moved 202410231544-36-318886-127-343200_jpg.rf.ad962d1532e296f460c78c6ab20d2e27.jpg to C:\\Users\\test\\Desktop\\waste detection.v4-add-pp-bag-8-1-1-.coco\\train\\images\n",
      "Moved 202410231545-36-318468-127-342754_jpg.rf.0b7be1ddfb017b8069d3b0e69890931d.jpg to C:\\Users\\test\\Desktop\\waste detection.v4-add-pp-bag-8-1-1-.coco\\train\\images\n",
      "Moved 202410231546-36-319231-127-344034_jpg.rf.de50d92cdbe484eeb77a41a0fffd5da7.jpg to C:\\Users\\test\\Desktop\\waste detection.v4-add-pp-bag-8-1-1-.coco\\train\\images\n",
      "Moved 202410231547-36-318445-127-342758_jpg.rf.9d6ff45c41381d6339192b234c495fe1.jpg to C:\\Users\\test\\Desktop\\waste detection.v4-add-pp-bag-8-1-1-.coco\\train\\images\n",
      "Moved 202410231550-36-315893-127-349751_jpg.rf.9db02f755b907fe6d07a08136996ba8d.jpg to C:\\Users\\test\\Desktop\\waste detection.v4-add-pp-bag-8-1-1-.coco\\train\\images\n",
      "Moved 202410231551-36-315726-127-349159_jpg.rf.b4ac084b2d5b3201872ed17ce20e2f3f.jpg to C:\\Users\\test\\Desktop\\waste detection.v4-add-pp-bag-8-1-1-.coco\\train\\images\n",
      "Moved 202410231552-36-314824-127-350191_jpg.rf.3235a1f7ad2701760cddf1249a066030.jpg to C:\\Users\\test\\Desktop\\waste detection.v4-add-pp-bag-8-1-1-.coco\\train\\images\n",
      "Moved 202410231554-36-314367-127-350385-1_jpg.rf.cdc419b6b960af17d20ff6422e75b15a.jpg to C:\\Users\\test\\Desktop\\waste detection.v4-add-pp-bag-8-1-1-.coco\\train\\images\n",
      "Moved 202410231554-36-314367-127-350385-2_jpg.rf.fe5d43563cb887993bd55dcc62c48826.jpg to C:\\Users\\test\\Desktop\\waste detection.v4-add-pp-bag-8-1-1-.coco\\train\\images\n",
      "Moved 202410231556-36-314427-127-349722-1_jpg.rf.ac69aeffe4b0ee991519045010258d4f.jpg to C:\\Users\\test\\Desktop\\waste detection.v4-add-pp-bag-8-1-1-.coco\\train\\images\n",
      "Moved 202410231556-36-314427-127-349722-2_jpg.rf.059844d2f8aaa1cfcc8c48e5de67a705.jpg to C:\\Users\\test\\Desktop\\waste detection.v4-add-pp-bag-8-1-1-.coco\\train\\images\n",
      "Moved 202410231557-36-313690-127-350026_jpg.rf.c790ad4f4d7127bd11de3e6728f97427.jpg to C:\\Users\\test\\Desktop\\waste detection.v4-add-pp-bag-8-1-1-.coco\\train\\images\n",
      "Moved 202410231558-36-314113-127-351318_jpg.rf.afffbc887939eeb5811bc5c2195ce6ec.jpg to C:\\Users\\test\\Desktop\\waste detection.v4-add-pp-bag-8-1-1-.coco\\train\\images\n",
      "Moved 202410231559-36-313044-127-350310_jpg.rf.12644ae308ca1cfbb30433001ca4f8c9.jpg to C:\\Users\\test\\Desktop\\waste detection.v4-add-pp-bag-8-1-1-.coco\\train\\images\n",
      "Moved 202410231559-36-313224-127-351238_jpg.rf.5a172f66670d0771834c737e7463d326.jpg to C:\\Users\\test\\Desktop\\waste detection.v4-add-pp-bag-8-1-1-.coco\\train\\images\n",
      "Moved 202410251021-36-326180-127-346353_jpg.rf.eef7555504146e7aea569167106da1b7.jpg to C:\\Users\\test\\Desktop\\waste detection.v4-add-pp-bag-8-1-1-.coco\\train\\images\n",
      "Moved 202410251112-36-307403-127-352720_jpg.rf.90589a0ff75b7aed8d37e8364859aa53.jpg to C:\\Users\\test\\Desktop\\waste detection.v4-add-pp-bag-8-1-1-.coco\\train\\images\n",
      "Moved 202410251123-36-326256-127-345540_jpg.rf.70767cb7528da65f5c1745507525a99d.jpg to C:\\Users\\test\\Desktop\\waste detection.v4-add-pp-bag-8-1-1-.coco\\train\\images\n",
      "Moved 202410251213-36-324356-127-347533_jpg.rf.6bf94d6a0854d4283cb8330bd5006370.jpg to C:\\Users\\test\\Desktop\\waste detection.v4-add-pp-bag-8-1-1-.coco\\train\\images\n",
      "Moved 202410251223-36-329072-127-335804_jpg.rf.683a8b40960be150575effc3a67d57ef.jpg to C:\\Users\\test\\Desktop\\waste detection.v4-add-pp-bag-8-1-1-.coco\\train\\images\n",
      "Moved 202410251311-36-326256-127-345521_jpg.rf.5b9d390704321aba1f8512dc7155ed25.jpg to C:\\Users\\test\\Desktop\\waste detection.v4-add-pp-bag-8-1-1-.coco\\train\\images\n",
      "Moved 202410251412-36-320140-127-342537_jpg.rf.a5e03caa53b8d8f2a14c5e976f4b7b90.jpg to C:\\Users\\test\\Desktop\\waste detection.v4-add-pp-bag-8-1-1-.coco\\train\\images\n",
      "Moved 202410251521-36-310510-127-353319_jpg.rf.768e55f573a5d5092b8d394a8a2ab3e8.jpg to C:\\Users\\test\\Desktop\\waste detection.v4-add-pp-bag-8-1-1-.coco\\train\\images\n",
      "Moved 202410251630-36-323023-127-343636-1_jpg.rf.f82825cf0484af0f16935cb1f0da0322.jpg to C:\\Users\\test\\Desktop\\waste detection.v4-add-pp-bag-8-1-1-.coco\\train\\images\n",
      "Moved 202410251630-36-323023-127-343636-2_jpg.rf.a74490413978439900cee25f1dfdf545.jpg to C:\\Users\\test\\Desktop\\waste detection.v4-add-pp-bag-8-1-1-.coco\\train\\images\n",
      "Moved 202410291230-36-304517-127-349056_jpg.rf.fd56eba73d607d41507aaa690b4dfd0a.jpg to C:\\Users\\test\\Desktop\\waste detection.v4-add-pp-bag-8-1-1-.coco\\train\\images\n",
      "Moved 202410291231-36-305407-127-348838_jpg.rf.8aee57230bd69e47f6fc68df79225fba.jpg to C:\\Users\\test\\Desktop\\waste detection.v4-add-pp-bag-8-1-1-.coco\\train\\images\n",
      "Moved 202410291233-36-305737-127-350237_jpg.rf.732c25550d1b8e476953ea5251c6d81b.jpg to C:\\Users\\test\\Desktop\\waste detection.v4-add-pp-bag-8-1-1-.coco\\train\\images\n",
      "Moved 202410291235-36-306001-127-349362_jpg.rf.bf9e97513a02c9de1b8e063a25d0a1fb.jpg to C:\\Users\\test\\Desktop\\waste detection.v4-add-pp-bag-8-1-1-.coco\\train\\images\n",
      "Moved 202410291236-36-306625-127-349790-1_jpg.rf.c3f862e99f18e45460b65a1500b76a7b.jpg to C:\\Users\\test\\Desktop\\waste detection.v4-add-pp-bag-8-1-1-.coco\\train\\images\n",
      "Moved 202410291236-36-306625-127-349790-2_jpg.rf.fdddc0ac5197f3aefddee0d1ebd20410.jpg to C:\\Users\\test\\Desktop\\waste detection.v4-add-pp-bag-8-1-1-.coco\\train\\images\n",
      "Moved 202410291237-36-306863-127-350438_jpg.rf.e63daf844359c35646491e07d8d4ff8e.jpg to C:\\Users\\test\\Desktop\\waste detection.v4-add-pp-bag-8-1-1-.coco\\train\\images\n",
      "Moved 202410291239-36-306997-127-351164_jpg.rf.304fcb7167cb37ade168b90d1ad93434.jpg to C:\\Users\\test\\Desktop\\waste detection.v4-add-pp-bag-8-1-1-.coco\\train\\images\n",
      "Moved 202410291241-36-306079-127-351546_jpg.rf.f2c4f44c318125c2243c748f4e238c3c.jpg to C:\\Users\\test\\Desktop\\waste detection.v4-add-pp-bag-8-1-1-.coco\\train\\images\n",
      "Moved 202410291242-36-306565-127-352169_jpg.rf.ec2ce5b43252e3be96ad34dd25636f16.jpg to C:\\Users\\test\\Desktop\\waste detection.v4-add-pp-bag-8-1-1-.coco\\train\\images\n",
      "Moved 202410291243-36-307253-127-351947_jpg.rf.07fa55030d695590de14cc54d668e0fd.jpg to C:\\Users\\test\\Desktop\\waste detection.v4-add-pp-bag-8-1-1-.coco\\train\\images\n",
      "Moved 202410291245-36-307637-127-351064_jpg.rf.49b595e9c7cb35c6fb570a5df3998a5b.jpg to C:\\Users\\test\\Desktop\\waste detection.v4-add-pp-bag-8-1-1-.coco\\train\\images\n",
      "Moved 202410291245-36-311435-127-348147_jpg.rf.080f6b9cfc250832b0b94a7036964d81.jpg to C:\\Users\\test\\Desktop\\waste detection.v4-add-pp-bag-8-1-1-.coco\\train\\images\n",
      "Moved 202410291246-36-308009-127-351804_jpg.rf.2f3f03089393ca85fa68b24e6b4eeaa2.jpg to C:\\Users\\test\\Desktop\\waste detection.v4-add-pp-bag-8-1-1-.coco\\train\\images\n",
      "Moved 202410291246-36-309595-127-348975-1_jpg.rf.d658f956a35d7627dd5e7060ef972142.jpg to C:\\Users\\test\\Desktop\\waste detection.v4-add-pp-bag-8-1-1-.coco\\train\\images\n",
      "Moved 202410291246-36-309595-127-348975-2_jpg.rf.cf36cacc43c2c79cce618b31bc417b7e.jpg to C:\\Users\\test\\Desktop\\waste detection.v4-add-pp-bag-8-1-1-.coco\\train\\images\n",
      "Moved 202410291247-36-308507-127-351318_jpg.rf.f4d4d406885f583617a34d361aaff721.jpg to C:\\Users\\test\\Desktop\\waste detection.v4-add-pp-bag-8-1-1-.coco\\train\\images\n",
      "Moved 202410291248-36-318769-127-345123_jpg.rf.7ad8b5a1c8f43eee5dea8170750f585e.jpg to C:\\Users\\test\\Desktop\\waste detection.v4-add-pp-bag-8-1-1-.coco\\train\\images\n",
      "Moved 202410291250-36-307488-127-352668_jpg.rf.dda5e6bdea321b9333b93e33a7c0a797.jpg to C:\\Users\\test\\Desktop\\waste detection.v4-add-pp-bag-8-1-1-.coco\\train\\images\n",
      "Moved 202410291250-36-320283-127-344434_jpg.rf.d02e853a146d37cbcfed3e5686737385.jpg to C:\\Users\\test\\Desktop\\waste detection.v4-add-pp-bag-8-1-1-.coco\\train\\images\n",
      "Moved 202410291252-36-306652-127-353674_jpg.rf.7846308825129a35a2ed9e2c727f9209.jpg to C:\\Users\\test\\Desktop\\waste detection.v4-add-pp-bag-8-1-1-.coco\\train\\images\n",
      "Moved 202410291253-36-306967-127-355016-1_jpg.rf.0ff7dc8b605e51128ff3d2dd4edeeb68.jpg to C:\\Users\\test\\Desktop\\waste detection.v4-add-pp-bag-8-1-1-.coco\\train\\images\n",
      "Moved 202410291253-36-306967-127-355016-2_jpg.rf.4128afec121b6d6274208af9d4a85e4c.jpg to C:\\Users\\test\\Desktop\\waste detection.v4-add-pp-bag-8-1-1-.coco\\train\\images\n",
      "Moved 202410291253-36-310124-127-347785-1_jpg.rf.e8bb86720a4677c5fcf6b248ebe21ef5.jpg to C:\\Users\\test\\Desktop\\waste detection.v4-add-pp-bag-8-1-1-.coco\\train\\images\n",
      "Moved 202410291253-36-310124-127-347785-2_jpg.rf.953745aeabab19d5a68a33337c01d4b3.jpg to C:\\Users\\test\\Desktop\\waste detection.v4-add-pp-bag-8-1-1-.coco\\train\\images\n",
      "Moved 202410291253-36-310124-127-347785-3_jpg.rf.d4c1a6eb7cc0605e46ede9aaec82c162.jpg to C:\\Users\\test\\Desktop\\waste detection.v4-add-pp-bag-8-1-1-.coco\\train\\images\n",
      "Moved 202410291254-36-307974-127-355197-1_jpg.rf.ebccbf8a1c04444906fa418356c772a6.jpg to C:\\Users\\test\\Desktop\\waste detection.v4-add-pp-bag-8-1-1-.coco\\train\\images\n",
      "Moved 202410291254-36-307974-127-355197-2_jpg.rf.2a44aa77c85877317ab26d568d3c596e.jpg to C:\\Users\\test\\Desktop\\waste detection.v4-add-pp-bag-8-1-1-.coco\\train\\images\n",
      "Moved 202410291256-36-307550-127-354681-1_jpg.rf.6734e61d227fb565d62c6890d286d4d1.jpg to C:\\Users\\test\\Desktop\\waste detection.v4-add-pp-bag-8-1-1-.coco\\train\\images\n",
      "Moved 202410291256-36-307550-127-354681-2_jpg.rf.7275ffc0375cb984d48a438a01a7f221.jpg to C:\\Users\\test\\Desktop\\waste detection.v4-add-pp-bag-8-1-1-.coco\\train\\images\n",
      "Moved 202410291257-36-307340-127-353540-1_jpg.rf.c2cb16d195da3ca0cadcfdb0ebd2a2c1.jpg to C:\\Users\\test\\Desktop\\waste detection.v4-add-pp-bag-8-1-1-.coco\\train\\images\n",
      "Moved 202410291257-36-307340-127-353540-2_jpg.rf.838ccb531c48b9eaac3bd8df66911a95.jpg to C:\\Users\\test\\Desktop\\waste detection.v4-add-pp-bag-8-1-1-.coco\\train\\images\n",
      "Moved 202410291257-36-320831-127-345537_jpg.rf.072ef47108f5b164241111635207f666.jpg to C:\\Users\\test\\Desktop\\waste detection.v4-add-pp-bag-8-1-1-.coco\\train\\images\n",
      "Moved 202410291258-36-308081-127-353130-1_jpg.rf.f2541835234136fafa478e3c16e9d519.jpg to C:\\Users\\test\\Desktop\\waste detection.v4-add-pp-bag-8-1-1-.coco\\train\\images\n",
      "Moved 202410291258-36-308081-127-353130-2_jpg.rf.da6a19d32a44d18d5dc89de69e4bff7b.jpg to C:\\Users\\test\\Desktop\\waste detection.v4-add-pp-bag-8-1-1-.coco\\train\\images\n",
      "Moved 202410291259-36-308399-127-354248_jpg.rf.661e422853b7e1ddcc46f1e2b8616c6d.jpg to C:\\Users\\test\\Desktop\\waste detection.v4-add-pp-bag-8-1-1-.coco\\train\\images\n",
      "Moved 202410291259-36-308465-127-354548_jpg.rf.b9c36853c27783891c229a4ac8a0c5b3.jpg to C:\\Users\\test\\Desktop\\waste detection.v4-add-pp-bag-8-1-1-.coco\\train\\images\n",
      "Moved 202410291259-36-317889-127-346708-1_jpg.rf.b8dbe1af31e6207aed6f320b566009f2.jpg to C:\\Users\\test\\Desktop\\waste detection.v4-add-pp-bag-8-1-1-.coco\\train\\images\n",
      "Moved 202410291259-36-317889-127-346708-2_jpg.rf.aa1b693aca75c1039040103077f9651e.jpg to C:\\Users\\test\\Desktop\\waste detection.v4-add-pp-bag-8-1-1-.coco\\train\\images\n",
      "Moved 202410291301-36-321175-127-345252_jpg.rf.0d4e87167e12dfd48d229dcac3c1f590.jpg to C:\\Users\\test\\Desktop\\waste detection.v4-add-pp-bag-8-1-1-.coco\\train\\images\n",
      "Moved 202410291301-36-330942-127-338586_jpg.rf.1e971c4143c11a0a34c81fb94c42c5c1.jpg to C:\\Users\\test\\Desktop\\waste detection.v4-add-pp-bag-8-1-1-.coco\\train\\images\n",
      "Moved 202410291302-36-317824-127-346665_jpg.rf.c6f5728a5b29106a6a829fe886f60927.jpg to C:\\Users\\test\\Desktop\\waste detection.v4-add-pp-bag-8-1-1-.coco\\train\\images\n",
      "Moved 202410291303-36-321147-127-344562-1_jpg.rf.e5bd3a550fdbcc97add19b82ae5ba131.jpg to C:\\Users\\test\\Desktop\\waste detection.v4-add-pp-bag-8-1-1-.coco\\train\\images\n",
      "Moved 202410291303-36-321147-127-344562-2_jpg.rf.28eadf0aa517f9d0a3ea6c33fb0c2282.jpg to C:\\Users\\test\\Desktop\\waste detection.v4-add-pp-bag-8-1-1-.coco\\train\\images\n",
      "Moved 202410291303-36-331686-127-340556_jpg.rf.e8b267fd08d16580d893a96eb4690fc7.jpg to C:\\Users\\test\\Desktop\\waste detection.v4-add-pp-bag-8-1-1-.coco\\train\\images\n",
      "Moved 202410291305-36-321538-127-344293_jpg.rf.f1690af6df8f1472c8d75575389f71e8.jpg to C:\\Users\\test\\Desktop\\waste detection.v4-add-pp-bag-8-1-1-.coco\\train\\images\n",
      "Moved 202410291305-36-331874-127-341114_jpg.rf.6d21568ed91618db2160f65b6d3691c0.jpg to C:\\Users\\test\\Desktop\\waste detection.v4-add-pp-bag-8-1-1-.coco\\train\\images\n",
      "Moved 202410291306-36-309239-127-353916_jpg.rf.481ea5531ba48bb5bc967ead6f8bc65d.jpg to C:\\Users\\test\\Desktop\\waste detection.v4-add-pp-bag-8-1-1-.coco\\train\\images\n",
      "Moved 202410291306-36-330088-127-335431_jpg.rf.347612be053f8dee28883e2b730777a3.jpg to C:\\Users\\test\\Desktop\\waste detection.v4-add-pp-bag-8-1-1-.coco\\train\\images\n",
      "Moved 202410291307-36-309841-127-353640_jpg.rf.0e417706936f8a233e27049b1e3138e8.jpg to C:\\Users\\test\\Desktop\\waste detection.v4-add-pp-bag-8-1-1-.coco\\train\\images\n",
      "Moved 202410291307-36-321900-127-344257_jpg.rf.11700c49ad9d82011bb1d560dd1fde4e.jpg to C:\\Users\\test\\Desktop\\waste detection.v4-add-pp-bag-8-1-1-.coco\\train\\images\n",
      "Moved 202410291307-36-330253-127-341215_jpg.rf.faac1505ee97977988370c47565d5660.jpg to C:\\Users\\test\\Desktop\\waste detection.v4-add-pp-bag-8-1-1-.coco\\train\\images\n",
      "Moved 202410291308-36-322646-127-344785_jpg.rf.bcf6f7af386095771613e1288cbbd160.jpg to C:\\Users\\test\\Desktop\\waste detection.v4-add-pp-bag-8-1-1-.coco\\train\\images\n",
      "Moved 202410291308-36-329998-127-341195_jpg.rf.a5b500ab75b28e9babfbc2d825106c6a.jpg to C:\\Users\\test\\Desktop\\waste detection.v4-add-pp-bag-8-1-1-.coco\\train\\images\n",
      "Moved 202410291309-36-309133-127-353018_jpg.rf.b68f9ac7b311fe536d2fa8d76845fe2f.jpg to C:\\Users\\test\\Desktop\\waste detection.v4-add-pp-bag-8-1-1-.coco\\train\\images\n",
      "Moved 202410291309-36-323193-127-345449_jpg.rf.bbd8a9d6d2b470c9afeb99f69860d7db.jpg to C:\\Users\\test\\Desktop\\waste detection.v4-add-pp-bag-8-1-1-.coco\\train\\images\n",
      "Moved 202410291309-36-331699-127-339169-1_jpg.rf.e8c15df64d5792fa3b2fcee1b6598241.jpg to C:\\Users\\test\\Desktop\\waste detection.v4-add-pp-bag-8-1-1-.coco\\train\\images\n",
      "Moved 202410291309-36-331699-127-339169-2_jpg.rf.12ac1e1bbd864920749e51bfde26607f.jpg to C:\\Users\\test\\Desktop\\waste detection.v4-add-pp-bag-8-1-1-.coco\\train\\images\n",
      "Moved 202410291310-36-329073-127-341781_jpg.rf.aea72a2977dd4afe3c3d98459a0e5ca1.jpg to C:\\Users\\test\\Desktop\\waste detection.v4-add-pp-bag-8-1-1-.coco\\train\\images\n",
      "Moved 202410291311-36-309176-127-351941_jpg.rf.0f68cfbfee39165d8f25f52ee76d389e.jpg to C:\\Users\\test\\Desktop\\waste detection.v4-add-pp-bag-8-1-1-.coco\\train\\images\n",
      "Moved 202410291311-36-322725-127-346738-1_jpg.rf.2eacb3281c9f729c6d14c6e31232bf7d.jpg to C:\\Users\\test\\Desktop\\waste detection.v4-add-pp-bag-8-1-1-.coco\\train\\images\n",
      "Moved 202410291311-36-322725-127-346738-2_jpg.rf.604174a2bcf05da2f3323d531140bfb6.jpg to C:\\Users\\test\\Desktop\\waste detection.v4-add-pp-bag-8-1-1-.coco\\train\\images\n",
      "Moved 202410291311-36-328129-127-341174_jpg.rf.65652665caba52c078e86ecc2f72beb4.jpg to C:\\Users\\test\\Desktop\\waste detection.v4-add-pp-bag-8-1-1-.coco\\train\\images\n",
      "Moved 202410291314-36-309758-127-352424-1_jpg.rf.da5b8a6382f3c6fe1a735923d5c5158d.jpg to C:\\Users\\test\\Desktop\\waste detection.v4-add-pp-bag-8-1-1-.coco\\train\\images\n",
      "Moved 202410291314-36-309758-127-352424-2_jpg.rf.3d2eba606ec6ed627733be99fe8eb6bb.jpg to C:\\Users\\test\\Desktop\\waste detection.v4-add-pp-bag-8-1-1-.coco\\train\\images\n",
      "Moved 202410291315-36-322337-127-347163_jpg.rf.b7d4b97bd149cb352972da1ebfeb6f72.jpg to C:\\Users\\test\\Desktop\\waste detection.v4-add-pp-bag-8-1-1-.coco\\train\\images\n",
      "Moved 202410291316-36-310790-127-352166-1_jpg.rf.dbf1fac0df03190c552263c3e22b6fb8.jpg to C:\\Users\\test\\Desktop\\waste detection.v4-add-pp-bag-8-1-1-.coco\\train\\images\n",
      "Moved 202410291316-36-310790-127-352166-2_jpg.rf.5f988ee4ae8f33cca93f7f56369a02df.jpg to C:\\Users\\test\\Desktop\\waste detection.v4-add-pp-bag-8-1-1-.coco\\train\\images\n",
      "Moved 202410291316-36-314705-127-346308_jpg.rf.6cd163b341ee3137981f39d92de3f9b2.jpg to C:\\Users\\test\\Desktop\\waste detection.v4-add-pp-bag-8-1-1-.coco\\train\\images\n",
      "Moved 202410291316-36-330346-127-339664_jpg.rf.b7cb98e98d062f15b20a53a332d86870.jpg to C:\\Users\\test\\Desktop\\waste detection.v4-add-pp-bag-8-1-1-.coco\\train\\images\n",
      "Moved 202410291317-36-316058-127-345992-1_jpg.rf.cf20960c9da1804c3655141811726d47.jpg to C:\\Users\\test\\Desktop\\waste detection.v4-add-pp-bag-8-1-1-.coco\\train\\images\n",
      "Moved 202410291317-36-316058-127-345992-2_jpg.rf.cef902dc0556a66b1ca72e76f9cf4479.jpg to C:\\Users\\test\\Desktop\\waste detection.v4-add-pp-bag-8-1-1-.coco\\train\\images\n",
      "Moved 202410291317-36-330765-127-339620_jpg.rf.eaade61823e86509e5855c995b8abbbd.jpg to C:\\Users\\test\\Desktop\\waste detection.v4-add-pp-bag-8-1-1-.coco\\train\\images\n",
      "Moved 202410291317-36-331076-127-339612_jpg.rf.116ce0132bc6d3dad59bcca42c8ddf97.jpg to C:\\Users\\test\\Desktop\\waste detection.v4-add-pp-bag-8-1-1-.coco\\train\\images\n",
      "Moved 202410291318-36-310510-127-353380-1_jpg.rf.54c83495310d2f631123b97966f623eb.jpg to C:\\Users\\test\\Desktop\\waste detection.v4-add-pp-bag-8-1-1-.coco\\train\\images\n",
      "Moved 202410291318-36-310510-127-353380-2_jpg.rf.602204ecc8d921aaabac40ebfe38fdea.jpg to C:\\Users\\test\\Desktop\\waste detection.v4-add-pp-bag-8-1-1-.coco\\train\\images\n",
      "Moved 202410291318-36-314180-127-348013_jpg.rf.9b1148bc549bd19cc606efc7ca278cea.jpg to C:\\Users\\test\\Desktop\\waste detection.v4-add-pp-bag-8-1-1-.coco\\train\\images\n",
      "Moved 202410291318-36-321677-127-347224_jpg.rf.2d81e6c4565dc2a6a6678552129c39cd.jpg to C:\\Users\\test\\Desktop\\waste detection.v4-add-pp-bag-8-1-1-.coco\\train\\images\n",
      "Moved 202410291320-36-311745-127-353092_jpg.rf.8f0e9d7bd86dfd0d2de17857761c69d3.jpg to C:\\Users\\test\\Desktop\\waste detection.v4-add-pp-bag-8-1-1-.coco\\train\\images\n",
      "Moved 202410291322-36-311481-127-352093_jpg.rf.ec767d084a0297ada7287692251c13fc.jpg to C:\\Users\\test\\Desktop\\waste detection.v4-add-pp-bag-8-1-1-.coco\\train\\images\n",
      "Moved 202410291323-36-321164-127-346772-1_jpg.rf.3e4197edb83ae4ad2f8bd75d1712c238.jpg to C:\\Users\\test\\Desktop\\waste detection.v4-add-pp-bag-8-1-1-.coco\\train\\images\n",
      "Moved 202410291323-36-321164-127-346772-2_jpg.rf.a86978b45d3c603e8e56b55c82a1b64f.jpg to C:\\Users\\test\\Desktop\\waste detection.v4-add-pp-bag-8-1-1-.coco\\train\\images\n",
      "Moved 202410291324-36-309978-127-351556_jpg.rf.10e29af6bec58a8a0c714d30e1e1244c.jpg to C:\\Users\\test\\Desktop\\waste detection.v4-add-pp-bag-8-1-1-.coco\\train\\images\n",
      "Moved 202410291324-36-325551-127-346341_jpg.rf.f062cc599b325de753e5c9ef62033fa3.jpg to C:\\Users\\test\\Desktop\\waste detection.v4-add-pp-bag-8-1-1-.coco\\train\\images\n",
      "Moved 202410291327-36-326256-127-345540-1_jpg.rf.0f33bd2fdeb3515798e2a16406d189b6.jpg to C:\\Users\\test\\Desktop\\waste detection.v4-add-pp-bag-8-1-1-.coco\\train\\images\n",
      "Moved 202410291327-36-326256-127-345540-2_jpg.rf.d3079a9001ec72aa734c28b160eb36b3.jpg to C:\\Users\\test\\Desktop\\waste detection.v4-add-pp-bag-8-1-1-.coco\\train\\images\n",
      "Moved 202410291327-36-326256-127-345540-3_jpg.rf.17b14bdaf2241fe3236fb5a31c2a8a4f.jpg to C:\\Users\\test\\Desktop\\waste detection.v4-add-pp-bag-8-1-1-.coco\\train\\images\n",
      "Moved 202410291329-36-324966-127-344294_jpg.rf.0441e2999942203630da16ae9908d59e.jpg to C:\\Users\\test\\Desktop\\waste detection.v4-add-pp-bag-8-1-1-.coco\\train\\images\n",
      "Moved 202410291329-36-329613-127-334544-1_jpg.rf.a6ceb76e652efc4847f7fddb18984dc9.jpg to C:\\Users\\test\\Desktop\\waste detection.v4-add-pp-bag-8-1-1-.coco\\train\\images\n",
      "Moved 202410291329-36-329613-127-334544-2_jpg.rf.97ae6e8fd8a099ec7f42adb733279e16.jpg to C:\\Users\\test\\Desktop\\waste detection.v4-add-pp-bag-8-1-1-.coco\\train\\images\n",
      "Moved 202410291330-36-330560-127-334527_jpg.rf.02ca5496744ba898626534feb062743b.jpg to C:\\Users\\test\\Desktop\\waste detection.v4-add-pp-bag-8-1-1-.coco\\train\\images\n",
      "Moved 202410291331-36-331165-127-333801-1_jpg.rf.88050bf983583d3911e5a7d05562c7bf.jpg to C:\\Users\\test\\Desktop\\waste detection.v4-add-pp-bag-8-1-1-.coco\\train\\images\n",
      "Moved 202410291331-36-331165-127-333801-2_jpg.rf.dfd50ef5fc08be515eeb4351a62e71d0.jpg to C:\\Users\\test\\Desktop\\waste detection.v4-add-pp-bag-8-1-1-.coco\\train\\images\n",
      "Moved 202410291332-36-314987-127-346077-1_jpg.rf.9d68af2cdac6087355e73ab66ba46c9c.jpg to C:\\Users\\test\\Desktop\\waste detection.v4-add-pp-bag-8-1-1-.coco\\train\\images\n",
      "Moved 202410291332-36-314987-127-346077-2_jpg.rf.d65ef9d6a08d1c402f75a133b69d7ed3.jpg to C:\\Users\\test\\Desktop\\waste detection.v4-add-pp-bag-8-1-1-.coco\\train\\images\n",
      "Moved 202410291332-36-322120-127-348552_jpg.rf.bd019e02cbfd85098021135b8b7a75cc.jpg to C:\\Users\\test\\Desktop\\waste detection.v4-add-pp-bag-8-1-1-.coco\\train\\images\n",
      "Moved 202410291333-36-322844-127-348629_jpg.rf.7384ce93fe25724b3ee515b77d2577c9.jpg to C:\\Users\\test\\Desktop\\waste detection.v4-add-pp-bag-8-1-1-.coco\\train\\images\n",
      "Moved 202410291335-36-323356-127-348566_jpg.rf.cd84bbdbe39af7953204739991ae689f.jpg to C:\\Users\\test\\Desktop\\waste detection.v4-add-pp-bag-8-1-1-.coco\\train\\images\n",
      "Moved 202410291338-36-316361-127-346933-1_jpg.rf.327c4bcc2c150b99adb453e06f63e17d.jpg to C:\\Users\\test\\Desktop\\waste detection.v4-add-pp-bag-8-1-1-.coco\\train\\images\n",
      "Moved 202410291339-36-316778-127-346080-1_jpg.rf.f0f11f1cfd7855cd64aad4a7f27bea87.jpg to C:\\Users\\test\\Desktop\\waste detection.v4-add-pp-bag-8-1-1-.coco\\train\\images\n",
      "Moved 202410291339-36-316778-127-346080-2_jpg.rf.7a77c1a064bb87d2f5539134677ac0eb.jpg to C:\\Users\\test\\Desktop\\waste detection.v4-add-pp-bag-8-1-1-.coco\\train\\images\n",
      "Moved 202410291340-36-313040-127-350293-1_jpg.rf.4df7c367d5ce4fd39662a746964efa7b.jpg to C:\\Users\\test\\Desktop\\waste detection.v4-add-pp-bag-8-1-1-.coco\\train\\images\n",
      "Moved 202410291340-36-313040-127-350293-2_jpg.rf.5e22f7c51caf1efd4d61967d16251234.jpg to C:\\Users\\test\\Desktop\\waste detection.v4-add-pp-bag-8-1-1-.coco\\train\\images\n",
      "Moved 202410291340-36-325923-127-349163_jpg.rf.e0ab639dba6857e07ff9d94b5e79886b.jpg to C:\\Users\\test\\Desktop\\waste detection.v4-add-pp-bag-8-1-1-.coco\\train\\images\n",
      "Moved 202410291343-36-313215-127-351277_jpg.rf.db7f078c525e260e433e559bb07950ce.jpg to C:\\Users\\test\\Desktop\\waste detection.v4-add-pp-bag-8-1-1-.coco\\train\\images\n",
      "Moved 202410291343-36-325845-127-351041_jpg.rf.c5baa0f2fe0222db75a195445f8cae76.jpg to C:\\Users\\test\\Desktop\\waste detection.v4-add-pp-bag-8-1-1-.coco\\train\\images\n",
      "Moved 202410291344-36-315474-127-347950-1_jpg.rf.867dd3bbac50e10f61eebc8439e141dd.jpg to C:\\Users\\test\\Desktop\\waste detection.v4-add-pp-bag-8-1-1-.coco\\train\\images\n",
      "Moved 202410291344-36-315474-127-347950-2_jpg.rf.f067f730c03bcc2353905762256b1366.jpg to C:\\Users\\test\\Desktop\\waste detection.v4-add-pp-bag-8-1-1-.coco\\train\\images\n",
      "Moved 202410291344-36-315474-127-347950-3_jpg.rf.0194494a9c1b20b0d59c881a03e49d34.jpg to C:\\Users\\test\\Desktop\\waste detection.v4-add-pp-bag-8-1-1-.coco\\train\\images\n",
      "Moved 202410291344-36-325680-127-350869_jpg.rf.5e89faf81c4ef3805ae286d61460ed03.jpg to C:\\Users\\test\\Desktop\\waste detection.v4-add-pp-bag-8-1-1-.coco\\train\\images\n",
      "Moved 202410291345-36-313711-127-349988-1_jpg.rf.99c37d2e9c9c0c35968f79def42f59c4.jpg to C:\\Users\\test\\Desktop\\waste detection.v4-add-pp-bag-8-1-1-.coco\\train\\images\n",
      "Moved 202410291345-36-313711-127-349988-2_jpg.rf.d8878512f42cd7fb5773d8f870cd6097.jpg to C:\\Users\\test\\Desktop\\waste detection.v4-add-pp-bag-8-1-1-.coco\\train\\images\n",
      "Moved 202410291348-36-314376-127-349722-1_jpg.rf.bea5c9e4fa7300209978f22566632376.jpg to C:\\Users\\test\\Desktop\\waste detection.v4-add-pp-bag-8-1-1-.coco\\train\\images\n",
      "Moved 202410291348-36-314376-127-349722-2_jpg.rf.4079ad8e060ed6fc84cb56645d34fad6.jpg to C:\\Users\\test\\Desktop\\waste detection.v4-add-pp-bag-8-1-1-.coco\\train\\images\n",
      "Moved 202410291348-36-325019-127-350944_jpg.rf.ef42202cf374d53fcaf0a323c525fdcb.jpg to C:\\Users\\test\\Desktop\\waste detection.v4-add-pp-bag-8-1-1-.coco\\train\\images\n",
      "Moved 202410291349-36-314850-127-350158-1_jpg.rf.f6ce4a651737e41df32acfd501b30ef1.jpg to C:\\Users\\test\\Desktop\\waste detection.v4-add-pp-bag-8-1-1-.coco\\train\\images\n",
      "Moved 202410291349-36-314850-127-350158-2_jpg.rf.5d0e2ab368fe8f252e4527f417597caa.jpg to C:\\Users\\test\\Desktop\\waste detection.v4-add-pp-bag-8-1-1-.coco\\train\\images\n",
      "Moved 202410291350-36-314129-127-351297_jpg.rf.ef6e9643fe6d1a12f369044176c7c9fa.jpg to C:\\Users\\test\\Desktop\\waste detection.v4-add-pp-bag-8-1-1-.coco\\train\\images\n",
      "Moved 202410291350-36-324034-127-350837_jpg.rf.f28acfd71aa02bebc85ab4d208b6d43d.jpg to C:\\Users\\test\\Desktop\\waste detection.v4-add-pp-bag-8-1-1-.coco\\train\\images\n",
      "Moved 202410291353-36-315640-127-349174-1_jpg.rf.7acca1c69571b2808c7e2678f7503b59.jpg to C:\\Users\\test\\Desktop\\waste detection.v4-add-pp-bag-8-1-1-.coco\\train\\images\n",
      "Moved 202410291353-36-315640-127-349174-2_jpg.rf.4a83f29c5afc2d4e38066b3f5398fc58.jpg to C:\\Users\\test\\Desktop\\waste detection.v4-add-pp-bag-8-1-1-.coco\\train\\images\n",
      "Moved 202410291354-36-315732-127-349908-1_jpg.rf.1c56f8ba3eb9aca76c2a096fea2892af.jpg to C:\\Users\\test\\Desktop\\waste detection.v4-add-pp-bag-8-1-1-.coco\\train\\images\n",
      "Moved 202410291354-36-315732-127-349908-2_jpg.rf.7f02c4eab60abc35a5bfd41204a31bfa.jpg to C:\\Users\\test\\Desktop\\waste detection.v4-add-pp-bag-8-1-1-.coco\\train\\images\n",
      "Moved 202410291355-36-314198-127-350451-1_jpg.rf.69b5db381761d911b5cde281c40727c6.jpg to C:\\Users\\test\\Desktop\\waste detection.v4-add-pp-bag-8-1-1-.coco\\train\\images\n",
      "Moved 202410291355-36-314198-127-350451-2_jpg.rf.669d81f8ae93d1588b58c1a57d75556b.jpg to C:\\Users\\test\\Desktop\\waste detection.v4-add-pp-bag-8-1-1-.coco\\train\\images\n",
      "Moved 202410291356-36-322309-127-342752_jpg.rf.0eaf44035e8b4306f05d095e2953aebd.jpg to C:\\Users\\test\\Desktop\\waste detection.v4-add-pp-bag-8-1-1-.coco\\train\\images\n",
      "Moved 202410291359-36-318897-127-343185-1_jpg.rf.ad9cc34454e599ccb4df9b38b51185af.jpg to C:\\Users\\test\\Desktop\\waste detection.v4-add-pp-bag-8-1-1-.coco\\train\\images\n",
      "Moved 202410291359-36-318897-127-343185-2_jpg.rf.401f3c35e6bae591bc4fc44012efa12a.jpg to C:\\Users\\test\\Desktop\\waste detection.v4-add-pp-bag-8-1-1-.coco\\train\\images\n",
      "Moved 202410291400-36-319426-127-343581-1_jpg.rf.f9710534f8ead07ecc700ecbc346102b.jpg to C:\\Users\\test\\Desktop\\waste detection.v4-add-pp-bag-8-1-1-.coco\\train\\images\n",
      "Moved 202410291400-36-319426-127-343581-2_jpg.rf.44311eb751eab324277c650121f4c49b.jpg to C:\\Users\\test\\Desktop\\waste detection.v4-add-pp-bag-8-1-1-.coco\\train\\images\n",
      "Moved 202410291403-36-319722-127-342728_jpg.rf.addc4fc0fdc58feacd430a6dc38780cf.jpg to C:\\Users\\test\\Desktop\\waste detection.v4-add-pp-bag-8-1-1-.coco\\train\\images\n",
      "Moved 202410291406-36-320170-127-342580-1_jpg.rf.091e5e06b31dca27465c849ffc0a771c.jpg to C:\\Users\\test\\Desktop\\waste detection.v4-add-pp-bag-8-1-1-.coco\\train\\images\n",
      "Moved 202410291406-36-320170-127-342580-2_jpg.rf.2f288e98f214cc7ad63f42e83fe3e168.jpg to C:\\Users\\test\\Desktop\\waste detection.v4-add-pp-bag-8-1-1-.coco\\train\\images\n",
      "Moved 202410291409-36-320218-127-343319_jpg.rf.5720e94cc8ca54041b998819aa638c00.jpg to C:\\Users\\test\\Desktop\\waste detection.v4-add-pp-bag-8-1-1-.coco\\train\\images\n",
      "Moved 202410291411-36-321100-127-343077_jpg.rf.a9b08b6089b838fa05e7fad49549df2e.jpg to C:\\Users\\test\\Desktop\\waste detection.v4-add-pp-bag-8-1-1-.coco\\train\\images\n",
      "Moved 202410291412-36-321934-127-343575_jpg.rf.b1a203551e6606c130a26c048ca9e22a.jpg to C:\\Users\\test\\Desktop\\waste detection.v4-add-pp-bag-8-1-1-.coco\\train\\images\n",
      "Moved 202410291413-36-321129-127-342652_jpg.rf.9a85a37e44fedee57bcc71addd532165.jpg to C:\\Users\\test\\Desktop\\waste detection.v4-add-pp-bag-8-1-1-.coco\\train\\images\n",
      "Moved 202410291413-36-322309-127-342752_jpg.rf.fb177e643e693435ba1ddc4376cb4fc2.jpg to C:\\Users\\test\\Desktop\\waste detection.v4-add-pp-bag-8-1-1-.coco\\train\\images\n",
      "Moved 202410291414-36-322871-127-343483_jpg.rf.0b7ed48f619835c29efc166942a1f7b8.jpg to C:\\Users\\test\\Desktop\\waste detection.v4-add-pp-bag-8-1-1-.coco\\train\\images\n",
      "Moved 202410291414-36-326020-127-347625_jpg.rf.2cfda6655f9bce6af812205fd76559e2.jpg to C:\\Users\\test\\Desktop\\waste detection.v4-add-pp-bag-8-1-1-.coco\\train\\images\n",
      "Moved 202410291414-36-326874-127-347127-1_jpg.rf.de3d11bd000864b4b051ac9bb42b19dc.jpg to C:\\Users\\test\\Desktop\\waste detection.v4-add-pp-bag-8-1-1-.coco\\train\\images\n",
      "Moved 202410291414-36-326874-127-347127-2_jpg.rf.d29d932285cd380565d721afa61ea588.jpg to C:\\Users\\test\\Desktop\\waste detection.v4-add-pp-bag-8-1-1-.coco\\train\\images\n",
      "Moved 202410291414-36-326945-127-347601_jpg.rf.077e14d9bb1d549d8816df7b97c7883e.jpg to C:\\Users\\test\\Desktop\\waste detection.v4-add-pp-bag-8-1-1-.coco\\train\\images\n",
      "Moved 202410291415-36-322625-127-343835_jpg.rf.a126dfc231c61ae2a6a26fa9884916ab.jpg to C:\\Users\\test\\Desktop\\waste detection.v4-add-pp-bag-8-1-1-.coco\\train\\images\n",
      "Moved 202410291416-36-318467-127-342773-1_jpg.rf.6d0b811be1366aecde7faae5f4816c8c.jpg to C:\\Users\\test\\Desktop\\waste detection.v4-add-pp-bag-8-1-1-.coco\\train\\images\n",
      "Moved 202410291416-36-318467-127-342773-2_jpg.rf.dbe326c6be575aeea834c345fdf66a8f.jpg to C:\\Users\\test\\Desktop\\waste detection.v4-add-pp-bag-8-1-1-.coco\\train\\images\n",
      "Moved 202410291416-36-323181-127-344405_jpg.rf.370ea5bf71687471e88dd5cafd3705ea.jpg to C:\\Users\\test\\Desktop\\waste detection.v4-add-pp-bag-8-1-1-.coco\\train\\images\n",
      "Moved 202410291416-36-325397-127-347430_jpg.rf.e10bad138e1d71d4e89a3f933449f328.jpg to C:\\Users\\test\\Desktop\\waste detection.v4-add-pp-bag-8-1-1-.coco\\train\\images\n",
      "Moved 202410291417-36-323457-127-347467_jpg.rf.7f4c193476d3d41f119b998e69889bfc.jpg to C:\\Users\\test\\Desktop\\waste detection.v4-add-pp-bag-8-1-1-.coco\\train\\images\n",
      "Moved 202410291417-36-324233-127-344985_jpg.rf.6caadd2cf52b66b75c233a44bbf3a07d.jpg to C:\\Users\\test\\Desktop\\waste detection.v4-add-pp-bag-8-1-1-.coco\\train\\images\n",
      "Moved 202410291417-36-324358-127-347517_jpg.rf.6fe6bb803fc9124e6fb49f0205d0b571.jpg to C:\\Users\\test\\Desktop\\waste detection.v4-add-pp-bag-8-1-1-.coco\\train\\images\n",
      "Moved 202410291418-36-325115-127-345317_jpg.rf.b050b3a9b172f507e081f1dfd1191e3d.jpg to C:\\Users\\test\\Desktop\\waste detection.v4-add-pp-bag-8-1-1-.coco\\train\\images\n",
      "Moved 202410291419-36-323745-127-344972_jpg.rf.53636df61aa521195eb2cc98b9fb3593.jpg to C:\\Users\\test\\Desktop\\waste detection.v4-add-pp-bag-8-1-1-.coco\\train\\images\n",
      "Moved 202410291419-36-324229-127-345402_jpg.rf.fe0a908cac0f4fe9d1e0c56d1de4a1eb.jpg to C:\\Users\\test\\Desktop\\waste detection.v4-add-pp-bag-8-1-1-.coco\\train\\images\n",
      "Moved 202410291420-36-324050-127-345946_jpg.rf.4247cd0bd82435286333b7866a4facbc.jpg to C:\\Users\\test\\Desktop\\waste detection.v4-add-pp-bag-8-1-1-.coco\\train\\images\n",
      "Moved 202410291420-36-324526-127-346244_jpg.rf.c58e21376b8d351eae6ee26550b40422.jpg to C:\\Users\\test\\Desktop\\waste detection.v4-add-pp-bag-8-1-1-.coco\\train\\images\n",
      "Moved 202410291421-36-324333-127-344193_jpg.rf.62264c9ec597826c9888d20fca7b1805.jpg to C:\\Users\\test\\Desktop\\waste detection.v4-add-pp-bag-8-1-1-.coco\\train\\images\n",
      "Moved 202410291422-36-324966-127-344294_jpg.rf.c45dc8a1144d8603fabc64c4bd2476ee.jpg to C:\\Users\\test\\Desktop\\waste detection.v4-add-pp-bag-8-1-1-.coco\\train\\images\n",
      "Moved 202410291422-36-325551-127-346341-1_jpg.rf.cbb5cba7a86d1eb6c48e0c57db28c611.jpg to C:\\Users\\test\\Desktop\\waste detection.v4-add-pp-bag-8-1-1-.coco\\train\\images\n",
      "Moved 202410291422-36-325551-127-346341-2_jpg.rf.34f38e233c1568539280c31d7e5eff5b.jpg to C:\\Users\\test\\Desktop\\waste detection.v4-add-pp-bag-8-1-1-.coco\\train\\images\n",
      "Moved 202410291422-36-325573-127-344706_jpg.rf.99037f63714a4e53a05b7a9845086ddb.jpg to C:\\Users\\test\\Desktop\\waste detection.v4-add-pp-bag-8-1-1-.coco\\train\\images\n",
      "Moved 202410291422-36-326165-127-346387_jpg.rf.ace0be208cd4a4988d9c8f93c5d2ffb0.jpg to C:\\Users\\test\\Desktop\\waste detection.v4-add-pp-bag-8-1-1-.coco\\train\\images\n",
      "Moved 202410291423-36-326256-127-345540_jpg.rf.43db436bba4806337ac8abb2b6614cb8.jpg to C:\\Users\\test\\Desktop\\waste detection.v4-add-pp-bag-8-1-1-.coco\\train\\images\n",
      "Moved 202410301122-36-314851-127-347123_jpg.rf.d1054b3ff426833851e5565f93795b25.jpg to C:\\Users\\test\\Desktop\\waste detection.v4-add-pp-bag-8-1-1-.coco\\train\\images\n",
      "Moved 202410301205-36-324358-127-347517_jpg.rf.d19af0b4f8afe0db639b34e74ec13d07.jpg to C:\\Users\\test\\Desktop\\waste detection.v4-add-pp-bag-8-1-1-.coco\\train\\images\n",
      "Moved 202410301223-36-314198-127-350451_jpg.rf.1d0bafcd026b35a47e909194d17290ea.jpg to C:\\Users\\test\\Desktop\\waste detection.v4-add-pp-bag-8-1-1-.coco\\train\\images\n",
      "Moved 202410301231-36-309908-127-348185_jpg.rf.dca94213d6dc95a7577809852f26058d.jpg to C:\\Users\\test\\Desktop\\waste detection.v4-add-pp-bag-8-1-1-.coco\\train\\images\n",
      "Moved 202410301418-36-315697-127-346125_jpg.rf.b1107c075d644264c283ffe9fa3139a2.jpg to C:\\Users\\test\\Desktop\\waste detection.v4-add-pp-bag-8-1-1-.coco\\train\\images\n",
      "Moved 202410311227-36-320218-127-343319_jpg.rf.014ddcf1a1d94cb657874918be6001c8.jpg to C:\\Users\\test\\Desktop\\waste detection.v4-add-pp-bag-8-1-1-.coco\\train\\images\n",
      "Moved 202410311303-36-321147-127-344562_jpg.rf.0a56690d87a649f7961146a29a79fb50.jpg to C:\\Users\\test\\Desktop\\waste detection.v4-add-pp-bag-8-1-1-.coco\\train\\images\n",
      "Moved 202410311307-36-321900-127-344257_jpg.rf.39caa954b8ae2a657da505ba56b337da.jpg to C:\\Users\\test\\Desktop\\waste detection.v4-add-pp-bag-8-1-1-.coco\\train\\images\n",
      "Moved 202410311309-36-323193-127-345449_jpg.rf.706565dd70956d05940c3b6a352fdbe4.jpg to C:\\Users\\test\\Desktop\\waste detection.v4-add-pp-bag-8-1-1-.coco\\train\\images\n",
      "Moved 202410311521-36-423194-127-390267_jpg.rf.bffa54d5f97c268003b6aaf413e1fd02.jpg to C:\\Users\\test\\Desktop\\waste detection.v4-add-pp-bag-8-1-1-.coco\\train\\images\n",
      "Moved 202411011236-36-423913-127-407165d_jpg.rf.1c3b96a45981f9a18b48396beeb80f01.jpg to C:\\Users\\test\\Desktop\\waste detection.v4-add-pp-bag-8-1-1-.coco\\train\\images\n",
      "Moved 202411011236-36-423913-127-407165_jpg.rf.1c3810a4e5a83cbbcf1a7ee316f5e4aa.jpg to C:\\Users\\test\\Desktop\\waste detection.v4-add-pp-bag-8-1-1-.coco\\train\\images\n",
      "Moved 2024110171236-36-426750-127-403895_jpg.rf.fbd8d632705140c0fd727226ae9ef2ad.jpg to C:\\Users\\test\\Desktop\\waste detection.v4-add-pp-bag-8-1-1-.coco\\train\\images\n",
      "Moved 2024110181236-36-423815-127-406915-1_jpg.rf.151550c475ea8c164ac82fa9d93c7cfa.jpg to C:\\Users\\test\\Desktop\\waste detection.v4-add-pp-bag-8-1-1-.coco\\train\\images\n",
      "Moved 2024110181236-36-423815-127-406915-2_jpg.rf.cb26658c1c026e38efb69aad7d250449.jpg to C:\\Users\\test\\Desktop\\waste detection.v4-add-pp-bag-8-1-1-.coco\\train\\images\n",
      "Moved 2024110181236-36-423915-127-407371-1_jpg.rf.c3059a67fc222e5c3bdcea0cf85f88b6.jpg to C:\\Users\\test\\Desktop\\waste detection.v4-add-pp-bag-8-1-1-.coco\\train\\images\n",
      "Moved 2024110181236-36-423915-127-407371-2_jpg.rf.81b018e3aa6297156c8ed489b5a9f0c9.jpg to C:\\Users\\test\\Desktop\\waste detection.v4-add-pp-bag-8-1-1-.coco\\train\\images\n",
      "Moved 2024110281236-36-423913-127-407165-1_jpg.rf.f90103e3f65cadfbb0140acbc14d2e8c.jpg to C:\\Users\\test\\Desktop\\waste detection.v4-add-pp-bag-8-1-1-.coco\\train\\images\n",
      "Moved 2024110281236-36-423913-127-407165-2_jpg.rf.56f6dc312487df266d8917b6d7de67bc.jpg to C:\\Users\\test\\Desktop\\waste detection.v4-add-pp-bag-8-1-1-.coco\\train\\images\n",
      "Moved 202411041400-36-326945-127-347601_jpg.rf.c6d265e67308e1cf62a73089d6b4a802.jpg to C:\\Users\\test\\Desktop\\waste detection.v4-add-pp-bag-8-1-1-.coco\\train\\images\n",
      "Moved 202411041402-36-326874-127-347127_jpg.rf.87bffc167f8dd24f612d0b9855adbdb1.jpg to C:\\Users\\test\\Desktop\\waste detection.v4-add-pp-bag-8-1-1-.coco\\train\\images\n",
      "Moved 202411041403-36-326020-127-347625_jpg.rf.2ac02e4f7d7cec075267c59040984677.jpg to C:\\Users\\test\\Desktop\\waste detection.v4-add-pp-bag-8-1-1-.coco\\train\\images\n",
      "Moved 202411041405-36-325397-127-347430_jpg.rf.2fc48152d0afe02f9dd115b61f50ff2c.jpg to C:\\Users\\test\\Desktop\\waste detection.v4-add-pp-bag-8-1-1-.coco\\train\\images\n",
      "Moved 202411041406-36-324358-127-347517-1_jpg.rf.d77044bbf2a295d00e864f3a32df6d74.jpg to C:\\Users\\test\\Desktop\\waste detection.v4-add-pp-bag-8-1-1-.coco\\train\\images\n",
      "Moved 202411041406-36-324358-127-347517-2_jpg.rf.d92398f1db9123f75b15f53da8619782.jpg to C:\\Users\\test\\Desktop\\waste detection.v4-add-pp-bag-8-1-1-.coco\\train\\images\n",
      "Moved 202411041407-36-323457-127-347467_jpg.rf.9c1d643274d3ffcdb84960dbc74e47c5.jpg to C:\\Users\\test\\Desktop\\waste detection.v4-add-pp-bag-8-1-1-.coco\\train\\images\n",
      "Moved 202411041409-36-323745-127-344972_jpg.rf.58c14844caa3c58acce5df21e4e60bdc.jpg to C:\\Users\\test\\Desktop\\waste detection.v4-add-pp-bag-8-1-1-.coco\\train\\images\n",
      "Moved 202411041410-36-324229-127-345402_jpg.rf.a8cf31ac5e07c60495ee5db558d56ee1.jpg to C:\\Users\\test\\Desktop\\waste detection.v4-add-pp-bag-8-1-1-.coco\\train\\images\n",
      "Moved 202411041411-36-324050-127-345946_jpg.rf.ecb8e4d5d2fcb08ac72daea3f18fc5cd.jpg to C:\\Users\\test\\Desktop\\waste detection.v4-add-pp-bag-8-1-1-.coco\\train\\images\n",
      "Moved 202411041412-36-315732-127-349908_jpg.rf.0b39fc75726c22d9c71ba7f9a45142bf.jpg to C:\\Users\\test\\Desktop\\waste detection.v4-add-pp-bag-8-1-1-.coco\\train\\images\n",
      "Moved 202411041412-36-324526-127-346244_jpg.rf.ff52f63df9382d907b67630dfc1c3c22.jpg to C:\\Users\\test\\Desktop\\waste detection.v4-add-pp-bag-8-1-1-.coco\\train\\images\n",
      "Moved 202411041413-36-315640-127-349174_jpg.rf.a64410eb8f28a9982ca01d04318058f4.jpg to C:\\Users\\test\\Desktop\\waste detection.v4-add-pp-bag-8-1-1-.coco\\train\\images\n",
      "Moved 202411041415-36-325551-127-346341_jpg.rf.a21e823ff0e007c983f88a475501edc3.jpg to C:\\Users\\test\\Desktop\\waste detection.v4-add-pp-bag-8-1-1-.coco\\train\\images\n",
      "Moved 202411041416-36-314850-127-350158_jpg.rf.ce822f991ea5fb2f685d3e421882c264.jpg to C:\\Users\\test\\Desktop\\waste detection.v4-add-pp-bag-8-1-1-.coco\\train\\images\n",
      "Moved 202411041417-36-314198-127-350451_jpg.rf.07b99a1657f3a062544d12b348a11ab8.jpg to C:\\Users\\test\\Desktop\\waste detection.v4-add-pp-bag-8-1-1-.coco\\train\\images\n",
      "Moved 202411041417-36-326165-127-346387_jpg.rf.2bc372c9ecc36148c45bf968a32aadc9.jpg to C:\\Users\\test\\Desktop\\waste detection.v4-add-pp-bag-8-1-1-.coco\\train\\images\n",
      "Moved 202411041418-36-326256-127-345540_jpg.rf.d3aafc476fba8df61573b1ff21fcdfb9.jpg to C:\\Users\\test\\Desktop\\waste detection.v4-add-pp-bag-8-1-1-.coco\\train\\images\n",
      "Moved 202411041419-36-314376-127-349722_jpg.rf.35bf051494d722809e2d349bd8cd449c.jpg to C:\\Users\\test\\Desktop\\waste detection.v4-add-pp-bag-8-1-1-.coco\\train\\images\n",
      "Moved 202411041419-36-325573-127-344706_jpg.rf.6e24d1da8ccbcb6e82d2a9c235491587.jpg to C:\\Users\\test\\Desktop\\waste detection.v4-add-pp-bag-8-1-1-.coco\\train\\images\n",
      "Moved 202411041420-36-324966-127-344294_jpg.rf.f0ea3eaef5788277f0c783f9476f5e96.jpg to C:\\Users\\test\\Desktop\\waste detection.v4-add-pp-bag-8-1-1-.coco\\train\\images\n",
      "Moved 202411041421-36-324333-127-344193_jpg.rf.4f3c32c7532c97439b6fd4844a8c5798.jpg to C:\\Users\\test\\Desktop\\waste detection.v4-add-pp-bag-8-1-1-.coco\\train\\images\n",
      "Moved 202411041422-36-314129-127-351297_jpg.rf.179d516740cd0b85a6e3f7dc283ad4ba.jpg to C:\\Users\\test\\Desktop\\waste detection.v4-add-pp-bag-8-1-1-.coco\\train\\images\n",
      "Moved 202411041423-36-313711-127-349988_jpg.rf.d0e67a0a50b9eb436c2423f963c704bd.jpg to C:\\Users\\test\\Desktop\\waste detection.v4-add-pp-bag-8-1-1-.coco\\train\\images\n",
      "Moved 202411041423-36-325115-127-345317_jpg.rf.2a541f41ed75536b0df4c38e0102e376.jpg to C:\\Users\\test\\Desktop\\waste detection.v4-add-pp-bag-8-1-1-.coco\\train\\images\n",
      "Moved 202411041425-36-313215-127-351277_jpg.rf.2c529ba570ef2bb162ee204e6e9a36c1.jpg to C:\\Users\\test\\Desktop\\waste detection.v4-add-pp-bag-8-1-1-.coco\\train\\images\n",
      "Moved 202411041425-36-324233-127-344985_jpg.rf.90857abcba8d882abe2f3a5d5da15818.jpg to C:\\Users\\test\\Desktop\\waste detection.v4-add-pp-bag-8-1-1-.coco\\train\\images\n",
      "Moved 202411041426-36-313040-127-350293_jpg.rf.4f25d9bc70a4ef3d7fd9fc9f75204528.jpg to C:\\Users\\test\\Desktop\\waste detection.v4-add-pp-bag-8-1-1-.coco\\train\\images\n",
      "Moved 202411041426-36-323181-127-344405_jpg.rf.4d4ae963492c2f32c6bde4076b28e9b9.jpg to C:\\Users\\test\\Desktop\\waste detection.v4-add-pp-bag-8-1-1-.coco\\train\\images\n",
      "Moved 202411041427-36-322625-127-343835_jpg.rf.05e6bfbec068f475ebed81b1e6bb2dbb.jpg to C:\\Users\\test\\Desktop\\waste detection.v4-add-pp-bag-8-1-1-.coco\\train\\images\n",
      "Moved 202411041429-36-322871-127-343483_jpg.rf.ada92d7f1bfbb080d564547f6f06585d.jpg to C:\\Users\\test\\Desktop\\waste detection.v4-add-pp-bag-8-1-1-.coco\\train\\images\n",
      "Moved 202411041431-36-322309-127-342752_jpg.rf.7a0062f1edee2d9071c47bf3a66bd2b3.jpg to C:\\Users\\test\\Desktop\\waste detection.v4-add-pp-bag-8-1-1-.coco\\train\\images\n",
      "Moved 202411041432-36-309978-127-351556_jpg.rf.2a948b77342492caee737276e2276f34.jpg to C:\\Users\\test\\Desktop\\waste detection.v4-add-pp-bag-8-1-1-.coco\\train\\images\n",
      "Moved 202411041433-36-321934-127-343575_jpg.rf.bf7087f9243e973fe61b6c8473534d8a.jpg to C:\\Users\\test\\Desktop\\waste detection.v4-add-pp-bag-8-1-1-.coco\\train\\images\n",
      "Moved 202411041434-36-321100-127-343077_jpg.rf.4afc5bd56ad47cb3116807cf7eab9ab8.jpg to C:\\Users\\test\\Desktop\\waste detection.v4-add-pp-bag-8-1-1-.coco\\train\\images\n",
      "Moved 202411041435-36-311481-127-352093_jpg.rf.f7bd73baa8148a42ed936642d9cb88c1.jpg to C:\\Users\\test\\Desktop\\waste detection.v4-add-pp-bag-8-1-1-.coco\\train\\images\n",
      "Moved 202411041437-36-311745-127-353092_jpg.rf.7097b76e06686bd5669bc394d7f95980.jpg to C:\\Users\\test\\Desktop\\waste detection.v4-add-pp-bag-8-1-1-.coco\\train\\images\n",
      "Moved 202411041438-36-310510-127-353380_jpg.rf.6106bfd157283c1b7ea67080f553c85a.jpg to C:\\Users\\test\\Desktop\\waste detection.v4-add-pp-bag-8-1-1-.coco\\train\\images\n",
      "Moved 202411041438-36-321129-127-342652-1_jpg.rf.16cff16459d15c07cfc57ba0965c1602.jpg to C:\\Users\\test\\Desktop\\waste detection.v4-add-pp-bag-8-1-1-.coco\\train\\images\n",
      "Moved 202411041438-36-321129-127-342652-2_jpg.rf.7c711e0dc699a6ef64815ef9f43ea91d.jpg to C:\\Users\\test\\Desktop\\waste detection.v4-add-pp-bag-8-1-1-.coco\\train\\images\n",
      "Moved 202411041439-36-320170-127-342580_jpg.rf.40467f4872efae51c8629f5ab7dc48de.jpg to C:\\Users\\test\\Desktop\\waste detection.v4-add-pp-bag-8-1-1-.coco\\train\\images\n",
      "Moved 202411041440-36-310957-127-353130_jpg.rf.a116d203e8a1629b5af0c0199ba722b4.jpg to C:\\Users\\test\\Desktop\\waste detection.v4-add-pp-bag-8-1-1-.coco\\train\\images\n",
      "Moved 202411041440-36-320218-127-343319_jpg.rf.5791fb32953d5bb666df6374042dc977.jpg to C:\\Users\\test\\Desktop\\waste detection.v4-add-pp-bag-8-1-1-.coco\\train\\images\n",
      "Moved 202411041441-36-319426-127-343581_jpg.rf.4337036712703d5d36e45d526b168513.jpg to C:\\Users\\test\\Desktop\\waste detection.v4-add-pp-bag-8-1-1-.coco\\train\\images\n",
      "Moved 202411041442-36-309758-127-352424-1_jpg.rf.75e0b43d5bb254bb4f4d4fb10aa3fe18.jpg to C:\\Users\\test\\Desktop\\waste detection.v4-add-pp-bag-8-1-1-.coco\\train\\images\n",
      "Moved 202411041442-36-309758-127-352424-2_jpg.rf.e22b446ef2e858297c44ea385e17038f.jpg to C:\\Users\\test\\Desktop\\waste detection.v4-add-pp-bag-8-1-1-.coco\\train\\images\n",
      "Moved 202411041442-36-319722-127-342728_jpg.rf.b9b4a0258a0dbc11fe89a632041bddde.jpg to C:\\Users\\test\\Desktop\\waste detection.v4-add-pp-bag-8-1-1-.coco\\train\\images\n",
      "Moved 202411041443-36-318897-127-343185_jpg.rf.f588b8296cf4b04bef8b68d1d27d5d27.jpg to C:\\Users\\test\\Desktop\\waste detection.v4-add-pp-bag-8-1-1-.coco\\train\\images\n",
      "Moved 202411041444-36-309176-127-351941_jpg.rf.9026252cc1bacc9c0a8a9d5586755d16.jpg to C:\\Users\\test\\Desktop\\waste detection.v4-add-pp-bag-8-1-1-.coco\\train\\images\n",
      "Moved 202411041444-36-310790-127-352166_jpg.rf.dd68c8efe895b10c75711d3ad4cbf384.jpg to C:\\Users\\test\\Desktop\\waste detection.v4-add-pp-bag-8-1-1-.coco\\train\\images\n",
      "Moved 202411041445-36-309133-127-353018_jpg.rf.8e0d217706609760e5aa8ca4bbd0830b.jpg to C:\\Users\\test\\Desktop\\waste detection.v4-add-pp-bag-8-1-1-.coco\\train\\images\n",
      "Moved 202411041445-36-318467-127-342773_jpg.rf.d15a79ad034d7ebc97b2ba963c1ab221.jpg to C:\\Users\\test\\Desktop\\waste detection.v4-add-pp-bag-8-1-1-.coco\\train\\images\n",
      "Moved 202411041446-36-309841-127-353640_jpg.rf.4289020b24939aaced74d8e272bddac5.jpg to C:\\Users\\test\\Desktop\\waste detection.v4-add-pp-bag-8-1-1-.coco\\train\\images\n",
      "Moved 202411041447-36-318047-127-344154_jpg.rf.09f4955d396c8c0bf8bfc0785b1fe574.jpg to C:\\Users\\test\\Desktop\\waste detection.v4-add-pp-bag-8-1-1-.coco\\train\\images\n",
      "Moved 202411041448-36-309239-127-353916_jpg.rf.15e27d06dfec86cbda600256dd24db6f.jpg to C:\\Users\\test\\Desktop\\waste detection.v4-add-pp-bag-8-1-1-.coco\\train\\images\n",
      "Moved 202411041448-36-318792-127-344275_jpg.rf.e1dc573dba1b5054a56cdae4d0fa3ec3.jpg to C:\\Users\\test\\Desktop\\waste detection.v4-add-pp-bag-8-1-1-.coco\\train\\images\n",
      "Moved 202411041449-36-308465-127-354548_jpg.rf.ee8a018fb65466c7ece6ff469ab9ad7a.jpg to C:\\Users\\test\\Desktop\\waste detection.v4-add-pp-bag-8-1-1-.coco\\train\\images\n",
      "Moved 202411041450-36-308399-127-354248-1_jpg.rf.027835fab6fe3ef9765f65ef3ee604da.jpg to C:\\Users\\test\\Desktop\\waste detection.v4-add-pp-bag-8-1-1-.coco\\train\\images\n",
      "Moved 202411041452-36-308399-127-354248-2_jpg.rf.2f8dfad5fb5188780f5bd6c9e62b616f.jpg to C:\\Users\\test\\Desktop\\waste detection.v4-add-pp-bag-8-1-1-.coco\\train\\images\n",
      "Moved 202411041453-36-307550-127-354681_jpg.rf.66ac72fdb59f5b5c02ace61063357998.jpg to C:\\Users\\test\\Desktop\\waste detection.v4-add-pp-bag-8-1-1-.coco\\train\\images\n",
      "Moved 202411041453-36-308081-127-353130_jpg.rf.7b0e94503001ddfc3f76ecb1332d0768.jpg to C:\\Users\\test\\Desktop\\waste detection.v4-add-pp-bag-8-1-1-.coco\\train\\images\n",
      "Moved 202411041456-36-307340-127-353540_jpg.rf.597115e393382da69ced30c9d3529750.jpg to C:\\Users\\test\\Desktop\\waste detection.v4-add-pp-bag-8-1-1-.coco\\train\\images\n",
      "Moved 202411041457-36-307974-127-355197_jpg.rf.1cb0d8bb0f689dd6b16292ae847a98c8.jpg to C:\\Users\\test\\Desktop\\waste detection.v4-add-pp-bag-8-1-1-.coco\\train\\images\n",
      "Moved 202411041458-36-306967-127-355016_jpg.rf.be50769b1ee5df13dbadf7e541e377ea.jpg to C:\\Users\\test\\Desktop\\waste detection.v4-add-pp-bag-8-1-1-.coco\\train\\images\n",
      "Moved 202411041459-36-306652-127-353674_jpg.rf.68648817eaa38da0ab87bb6cdefc0a67.jpg to C:\\Users\\test\\Desktop\\waste detection.v4-add-pp-bag-8-1-1-.coco\\train\\images\n",
      "Moved 202411041500-36-307488-127-352668_jpg.rf.ca90dc86e8e88893abfac5d74832982d.jpg to C:\\Users\\test\\Desktop\\waste detection.v4-add-pp-bag-8-1-1-.coco\\train\\images\n",
      "Moved 202411041502-36-308507-127-351318_jpg.rf.239b156599ed60b6c038c4cba77c5464.jpg to C:\\Users\\test\\Desktop\\waste detection.v4-add-pp-bag-8-1-1-.coco\\train\\images\n",
      "Moved 202411041503-36-308009-127-351804_jpg.rf.d57de8b758a0c7de8e642e85277e9645.jpg to C:\\Users\\test\\Desktop\\waste detection.v4-add-pp-bag-8-1-1-.coco\\train\\images\n",
      "Moved 202411041504-36-307637-127-351064_jpg.rf.5a171d95c9e2076f70e1b1a348431793.jpg to C:\\Users\\test\\Desktop\\waste detection.v4-add-pp-bag-8-1-1-.coco\\train\\images\n",
      "Moved 202411041506-36-307253-127-351947_jpg.rf.a886ac4432f97b18d940399520a91bd7.jpg to C:\\Users\\test\\Desktop\\waste detection.v4-add-pp-bag-8-1-1-.coco\\train\\images\n",
      "Moved 202411041507-36-306565-127-352169_jpg.rf.1e89e27ce7de19efe2d4f5cbb0345562.jpg to C:\\Users\\test\\Desktop\\waste detection.v4-add-pp-bag-8-1-1-.coco\\train\\images\n",
      "Moved 202411041508-36-306079-127-351546_jpg.rf.43e11c80e0eadc398f7d908c1e2a903f.jpg to C:\\Users\\test\\Desktop\\waste detection.v4-add-pp-bag-8-1-1-.coco\\train\\images\n",
      "Moved 202411041510-36-306997-127-351164-1_jpg.rf.1c738471ed1065b2538371ca1e258baf.jpg to C:\\Users\\test\\Desktop\\waste detection.v4-add-pp-bag-8-1-1-.coco\\train\\images\n",
      "Moved 202411041510-36-306997-127-351164-2_jpg.rf.6d8bc547688947a858456d3424005cc4.jpg to C:\\Users\\test\\Desktop\\waste detection.v4-add-pp-bag-8-1-1-.coco\\train\\images\n",
      "Moved 202411041512-36-306863-127-350438_jpg.rf.17c7df38da6f493339958e4702e5301f.jpg to C:\\Users\\test\\Desktop\\waste detection.v4-add-pp-bag-8-1-1-.coco\\train\\images\n",
      "Moved 202411041513-36-306625-127-349790_jpg.rf.0fb7f252d9dfa1daf4caa0e742af5e5e.jpg to C:\\Users\\test\\Desktop\\waste detection.v4-add-pp-bag-8-1-1-.coco\\train\\images\n",
      "Moved 202411041515-36-306001-127-349362_jpg.rf.7facc48e4a06724500f834e639c0f078.jpg to C:\\Users\\test\\Desktop\\waste detection.v4-add-pp-bag-8-1-1-.coco\\train\\images\n",
      "Moved 202411041516-36-305407-127-348838_jpg.rf.addb5deee251913320cf1dc2d4a71ad1.jpg to C:\\Users\\test\\Desktop\\waste detection.v4-add-pp-bag-8-1-1-.coco\\train\\images\n",
      "Moved 202411041516-36-305737-127-350237_jpg.rf.ee3597aadd9e6f7f58c9cb1357ce653b.jpg to C:\\Users\\test\\Desktop\\waste detection.v4-add-pp-bag-8-1-1-.coco\\train\\images\n",
      "Moved 202411041517-36-304517-127-349056_jpg.rf.d1d71fd9de4350bef2eca9fc369ccb44.jpg to C:\\Users\\test\\Desktop\\waste detection.v4-add-pp-bag-8-1-1-.coco\\train\\images\n",
      "Moved 202411061145-36-330461-127-335843_jpg.rf.8693b65373b6203a4ea6beac51ef9206.jpg to C:\\Users\\test\\Desktop\\waste detection.v4-add-pp-bag-8-1-1-.coco\\train\\images\n",
      "Moved 202411061146-36-330088-127-335431_jpg.rf.118f5832d5e004ffe591684d6299e7ba.jpg to C:\\Users\\test\\Desktop\\waste detection.v4-add-pp-bag-8-1-1-.coco\\train\\images\n",
      "Moved 202411061148-36-329048-127-335824_jpg.rf.8759007280a296da3346c16c303c2c3e.jpg to C:\\Users\\test\\Desktop\\waste detection.v4-add-pp-bag-8-1-1-.coco\\train\\images\n",
      "Moved 202411061149-36-329141-127-334531-1_jpg.rf.8962dc6f8995fbfcd2801685380e83f9.jpg to C:\\Users\\test\\Desktop\\waste detection.v4-add-pp-bag-8-1-1-.coco\\train\\images\n",
      "Moved 202411061149-36-329141-127-334531-2_jpg.rf.4a75c632c8a083c131a8b35b7bf9210d.jpg to C:\\Users\\test\\Desktop\\waste detection.v4-add-pp-bag-8-1-1-.coco\\train\\images\n",
      "Moved 202411061149-36-329613-127-334544_jpg.rf.fd0edea3418f799da1ef7141ee57fd4c.jpg to C:\\Users\\test\\Desktop\\waste detection.v4-add-pp-bag-8-1-1-.coco\\train\\images\n",
      "Moved 202411061150-36-330560-127-334527_jpg.rf.6312ba895772828161137db8911ec143.jpg to C:\\Users\\test\\Desktop\\waste detection.v4-add-pp-bag-8-1-1-.coco\\train\\images\n",
      "Moved 202411061152-36-331165-127-333801_jpg.rf.2f1e5fad86d2848d98c8e3f3055f3086.jpg to C:\\Users\\test\\Desktop\\waste detection.v4-add-pp-bag-8-1-1-.coco\\train\\images\n",
      "Moved 202411061158-36-330942-127-338586_jpg.rf.b0a93f7ba86dd28cbcf9847a14b94dd5.jpg to C:\\Users\\test\\Desktop\\waste detection.v4-add-pp-bag-8-1-1-.coco\\train\\images\n",
      "Moved 202411061201-36-331699-127-339169_jpg.rf.5d8dca3a4284b06df6c50915f1000caf.jpg to C:\\Users\\test\\Desktop\\waste detection.v4-add-pp-bag-8-1-1-.coco\\train\\images\n",
      "Moved 202411061203-36-331686-127-340556_jpg.rf.7793c452cca9fba2519f90a0a997abe6.jpg to C:\\Users\\test\\Desktop\\waste detection.v4-add-pp-bag-8-1-1-.coco\\train\\images\n",
      "Moved 202411061205-36-331874-127-341114_jpg.rf.e9886e1640448ae96e4f4744410e49df.jpg to C:\\Users\\test\\Desktop\\waste detection.v4-add-pp-bag-8-1-1-.coco\\train\\images\n",
      "Moved 202411061208-36-331079-127-341792_jpg.rf.687a4bee2b31999c1a5e1bb222b6ebd6.jpg to C:\\Users\\test\\Desktop\\waste detection.v4-add-pp-bag-8-1-1-.coco\\train\\images\n",
      "Moved 202411061209-36-330253-127-341215_jpg.rf.d6d2cc07db8dbbaa1dafad775d8654c4.jpg to C:\\Users\\test\\Desktop\\waste detection.v4-add-pp-bag-8-1-1-.coco\\train\\images\n",
      "Moved 202411061210-36-329998-127-341195_jpg.rf.84fa4014d61fa56dc34ba6cc07c21092.jpg to C:\\Users\\test\\Desktop\\waste detection.v4-add-pp-bag-8-1-1-.coco\\train\\images\n",
      "Moved 202411061213-36-329073-127-341781_jpg.rf.4e7e61d0ae73fc3e4e2d999bc293e378.jpg to C:\\Users\\test\\Desktop\\waste detection.v4-add-pp-bag-8-1-1-.coco\\train\\images\n",
      "Moved 202411061214-36-328129-127-341174-1_jpg.rf.c8e259fa4acd3dc042e699089846937d.jpg to C:\\Users\\test\\Desktop\\waste detection.v4-add-pp-bag-8-1-1-.coco\\train\\images\n",
      "Moved 202411061214-36-328129-127-341174-2_jpg.rf.ff44aad5112a723326b61ae0c3ada2c8.jpg to C:\\Users\\test\\Desktop\\waste detection.v4-add-pp-bag-8-1-1-.coco\\train\\images\n",
      "Moved 202411061217-36-330346-127-339664-1_jpg.rf.4e5bdacdc16fc04c38ff33882cc6a127.jpg to C:\\Users\\test\\Desktop\\waste detection.v4-add-pp-bag-8-1-1-.coco\\train\\images\n",
      "Moved 202411061217-36-330346-127-339664-2_jpg.rf.87b32a245229d54151edf24f2a80ec34.jpg to C:\\Users\\test\\Desktop\\waste detection.v4-add-pp-bag-8-1-1-.coco\\train\\images\n",
      "Moved 202411061218-36-330765-127-339620_jpg.rf.3c55381f3065988bc93083ad6d717061.jpg to C:\\Users\\test\\Desktop\\waste detection.v4-add-pp-bag-8-1-1-.coco\\train\\images\n",
      "Moved 202411061218-36-331076-127-339612_jpg.rf.2e8c69a590cfb26cf8a6bc5ed6e24afc.jpg to C:\\Users\\test\\Desktop\\waste detection.v4-add-pp-bag-8-1-1-.coco\\train\\images\n",
      "Moved 202411061238-36-326945-127-347601_jpg.rf.ce6d977141d58801cd50cae62e71fdd9.jpg to C:\\Users\\test\\Desktop\\waste detection.v4-add-pp-bag-8-1-1-.coco\\train\\images\n",
      "Moved 202411061239-36-326874-127-347127_jpg.rf.5733e624f9bee74de3fc03578925fcf7.jpg to C:\\Users\\test\\Desktop\\waste detection.v4-add-pp-bag-8-1-1-.coco\\train\\images\n",
      "Moved 202411061241-36-326020-127-347625_jpg.rf.bf986cb40c4b67d0d329e6645f6f1a33.jpg to C:\\Users\\test\\Desktop\\waste detection.v4-add-pp-bag-8-1-1-.coco\\train\\images\n",
      "Moved 202411061242-36-325397-127-347430_jpg.rf.1855f1cadb6389dee9ee45ae5edae242.jpg to C:\\Users\\test\\Desktop\\waste detection.v4-add-pp-bag-8-1-1-.coco\\train\\images\n",
      "Moved 202411061243-36-324358-127-347517_jpg.rf.fcfe6cc6bc097dc4b888da01022e66c4.jpg to C:\\Users\\test\\Desktop\\waste detection.v4-add-pp-bag-8-1-1-.coco\\train\\images\n",
      "Moved 202411061244-36-323457-127-347467_jpg.rf.f916d7fdfbc48e02a02b458513ceed38.jpg to C:\\Users\\test\\Desktop\\waste detection.v4-add-pp-bag-8-1-1-.coco\\train\\images\n",
      "Moved 202411061245-36-309978-127-351556_jpg.rf.a4a4120a52f707f276553a852693c4b9.jpg to C:\\Users\\test\\Desktop\\waste detection.v4-add-pp-bag-8-1-1-.coco\\train\\images\n",
      "Moved 202411061248-36-304517-127-349056_jpg.rf.c13ed2775298eccba0e493cb560e3e36.jpg to C:\\Users\\test\\Desktop\\waste detection.v4-add-pp-bag-8-1-1-.coco\\train\\images\n",
      "Moved 202411061248-36-323745-127-344972_jpg.rf.29330eeb9727200358deaa52d953f7a5.jpg to C:\\Users\\test\\Desktop\\waste detection.v4-add-pp-bag-8-1-1-.coco\\train\\images\n",
      "Moved 202411061249-36-324229-127-345402_jpg.rf.7d65c16adafb681f712b55bd69fe3822.jpg to C:\\Users\\test\\Desktop\\waste detection.v4-add-pp-bag-8-1-1-.coco\\train\\images\n",
      "Moved 202411061250-36-305407-127-348838_jpg.rf.e755c7a492c68d5bb09a5ecd97e722e8.jpg to C:\\Users\\test\\Desktop\\waste detection.v4-add-pp-bag-8-1-1-.coco\\train\\images\n",
      "Moved 202411061250-36-324050-127-345946_jpg.rf.bbc2162cf2cb471e3268d940976a9f66.jpg to C:\\Users\\test\\Desktop\\waste detection.v4-add-pp-bag-8-1-1-.coco\\train\\images\n",
      "Moved 202411061251-36-324526-127-346244-1_jpg.rf.30d4c087d42cb67aac542f7949cae374.jpg to C:\\Users\\test\\Desktop\\waste detection.v4-add-pp-bag-8-1-1-.coco\\train\\images\n",
      "Moved 202411061251-36-324526-127-346244-2_jpg.rf.15945fd5a7caeab322f1c9a94b1a2fd8.jpg to C:\\Users\\test\\Desktop\\waste detection.v4-add-pp-bag-8-1-1-.coco\\train\\images\n",
      "Moved 202411061252-36-305737-127-350237_jpg.rf.d5fb3a072748aac9f880ec9748972842.jpg to C:\\Users\\test\\Desktop\\waste detection.v4-add-pp-bag-8-1-1-.coco\\train\\images\n",
      "Moved 202411061254-36-306001-127-349362_jpg.rf.689fe2ad3331e79f3c7db6e9feeef10a.jpg to C:\\Users\\test\\Desktop\\waste detection.v4-add-pp-bag-8-1-1-.coco\\train\\images\n",
      "Moved 202411061254-36-325551-127-346341-1_jpg.rf.83951fd701d981880fcaaf65936f2bfb.jpg to C:\\Users\\test\\Desktop\\waste detection.v4-add-pp-bag-8-1-1-.coco\\train\\images\n",
      "Moved 202411061254-36-325551-127-346341-2_jpg.rf.0250dc1dc7298b75399958c6bf374119.jpg to C:\\Users\\test\\Desktop\\waste detection.v4-add-pp-bag-8-1-1-.coco\\train\\images\n",
      "Moved 202411061255-36-306625-127-349790_jpg.rf.a07a4c145832233e5364b0f361b05ac9.jpg to C:\\Users\\test\\Desktop\\waste detection.v4-add-pp-bag-8-1-1-.coco\\train\\images\n",
      "Moved 202411061256-36-326165-127-346387_jpg.rf.a9c5f27f368463a3c504f75abd71b5d1.jpg to C:\\Users\\test\\Desktop\\waste detection.v4-add-pp-bag-8-1-1-.coco\\train\\images\n",
      "Moved 202411061257-36-306863-127-350438_jpg.rf.5c20fc50ec9c7c8e0633ab24f363607f.jpg to C:\\Users\\test\\Desktop\\waste detection.v4-add-pp-bag-8-1-1-.coco\\train\\images\n",
      "Moved 202411061258-36-326256-127-345540_jpg.rf.b53e1f2811a9741f8ece3db41d7817c1.jpg to C:\\Users\\test\\Desktop\\waste detection.v4-add-pp-bag-8-1-1-.coco\\train\\images\n",
      "Moved 202411061259-36-325573-127-344706_jpg.rf.f3990e9518cfd7ce66f4f68d7cdc3862.jpg to C:\\Users\\test\\Desktop\\waste detection.v4-add-pp-bag-8-1-1-.coco\\train\\images\n",
      "Moved 202411061300-36-324966-127-344294_jpg.rf.6d924e62498e693cc25770e944933d4a.jpg to C:\\Users\\test\\Desktop\\waste detection.v4-add-pp-bag-8-1-1-.coco\\train\\images\n",
      "Moved 202411061301-36-306997-127-351164_jpg.rf.ff3381e3bb3f6cbbf9bf50de0914704c.jpg to C:\\Users\\test\\Desktop\\waste detection.v4-add-pp-bag-8-1-1-.coco\\train\\images\n",
      "Moved 202411061301-36-324333-127-344193_jpg.rf.5c72d253f3cf98c0913728e48f9f9578.jpg to C:\\Users\\test\\Desktop\\waste detection.v4-add-pp-bag-8-1-1-.coco\\train\\images\n",
      "Moved 202411061302-36-306079-127-351546_jpg.rf.4aeea516bc154420c93950be78174bc7.jpg to C:\\Users\\test\\Desktop\\waste detection.v4-add-pp-bag-8-1-1-.coco\\train\\images\n",
      "Moved 202411061303-36-306565-127-352169_jpg.rf.6b7941e81178b0bdd52749f51f79908c.jpg to C:\\Users\\test\\Desktop\\waste detection.v4-add-pp-bag-8-1-1-.coco\\train\\images\n",
      "Moved 202411061303-36-325115-127-345317_jpg.rf.9aaa991d3cfae3218c08d001b2367797.jpg to C:\\Users\\test\\Desktop\\waste detection.v4-add-pp-bag-8-1-1-.coco\\train\\images\n",
      "Moved 202411061304-36-307253-127-351947_jpg.rf.60911cf37b6aa27d8e85d47f35613d8d.jpg to C:\\Users\\test\\Desktop\\waste detection.v4-add-pp-bag-8-1-1-.coco\\train\\images\n",
      "Moved 202411061305-36-324233-127-344985_jpg.rf.d8ad24a0ce51b3a8864025530fef039e.jpg to C:\\Users\\test\\Desktop\\waste detection.v4-add-pp-bag-8-1-1-.coco\\train\\images\n",
      "Moved 202411061306-36-307637-127-351064_jpg.rf.4c79c8ea1e55c2fad00f5eed3bd624f9.jpg to C:\\Users\\test\\Desktop\\waste detection.v4-add-pp-bag-8-1-1-.coco\\train\\images\n",
      "Moved 202411061306-36-323181-127-344405_jpg.rf.8c28c45306f4761b67e6a1a9aa9c725a.jpg to C:\\Users\\test\\Desktop\\waste detection.v4-add-pp-bag-8-1-1-.coco\\train\\images\n",
      "Moved 202411061307-36-308009-127-351804_jpg.rf.9a1d23aa002b05afc4614f3e93018b35.jpg to C:\\Users\\test\\Desktop\\waste detection.v4-add-pp-bag-8-1-1-.coco\\train\\images\n",
      "Moved 202411061307-36-322625-127-343835_jpg.rf.82cca2ec563a9a0f2329b368070b9779.jpg to C:\\Users\\test\\Desktop\\waste detection.v4-add-pp-bag-8-1-1-.coco\\train\\images\n",
      "Moved 202411061308-36-308507-127-351318_jpg.rf.c8ebfa117f409da05b4e88980ee7f015.jpg to C:\\Users\\test\\Desktop\\waste detection.v4-add-pp-bag-8-1-1-.coco\\train\\images\n",
      "Moved 202411061310-36-322871-127-343483_jpg.rf.886285482ba9b332bb13d307001bda3b.jpg to C:\\Users\\test\\Desktop\\waste detection.v4-add-pp-bag-8-1-1-.coco\\train\\images\n",
      "Moved 202411061311-36-322309-127-342752_jpg.rf.f5ec35a0637595266f23b8af15580e76.jpg to C:\\Users\\test\\Desktop\\waste detection.v4-add-pp-bag-8-1-1-.coco\\train\\images\n",
      "Moved 202411061313-36-321934-127-343575_jpg.rf.1385040d701e9ed6a1ece850ffedfdd8.jpg to C:\\Users\\test\\Desktop\\waste detection.v4-add-pp-bag-8-1-1-.coco\\train\\images\n",
      "Moved 202411061315-36-306652-127-353674_jpg.rf.86dc459627e8cff1aa1915af2fe4d7be.jpg to C:\\Users\\test\\Desktop\\waste detection.v4-add-pp-bag-8-1-1-.coco\\train\\images\n",
      "Moved 202411061315-36-321100-127-343077_jpg.rf.652a7f5cf7802556577f7cbaa1114e95.jpg to C:\\Users\\test\\Desktop\\waste detection.v4-add-pp-bag-8-1-1-.coco\\train\\images\n",
      "Moved 202411061316-36-306967-127-355016_jpg.rf.cd7b27b731abbfa61a10ac71c5efc92c.jpg to C:\\Users\\test\\Desktop\\waste detection.v4-add-pp-bag-8-1-1-.coco\\train\\images\n",
      "Moved 202411061319-36-321129-127-342652_jpg.rf.64fad9f7d9fef181d93423cad51d85a8.jpg to C:\\Users\\test\\Desktop\\waste detection.v4-add-pp-bag-8-1-1-.coco\\train\\images\n",
      "Moved 202411061321-36-307340-127-353540_jpg.rf.c1287c245369867959a6880e56aa59b6.jpg to C:\\Users\\test\\Desktop\\waste detection.v4-add-pp-bag-8-1-1-.coco\\train\\images\n",
      "Moved 202411061321-36-320170-127-342580-1_jpg.rf.a0f87cbe555ffecd3de1041d2010fac3.jpg to C:\\Users\\test\\Desktop\\waste detection.v4-add-pp-bag-8-1-1-.coco\\train\\images\n",
      "Moved 202411061321-36-320170-127-342580-2_jpg.rf.a16060ab9d6212b2d87dec9b76390b19.jpg to C:\\Users\\test\\Desktop\\waste detection.v4-add-pp-bag-8-1-1-.coco\\train\\images\n",
      "Moved 202411061323-36-319426-127-343581-1_jpg.rf.3444f599312074b2f6a42c74952268d8.jpg to C:\\Users\\test\\Desktop\\waste detection.v4-add-pp-bag-8-1-1-.coco\\train\\images\n",
      "Moved 202411111154-36-315732-127-349908_jpg.rf.5072dab14c71c090667bde3d7d44706c.jpg to C:\\Users\\test\\Desktop\\waste detection.v4-add-pp-bag-8-1-1-.coco\\train\\images\n",
      "Moved 202411111155-36-315640-127-349174_jpg.rf.80c2fbea1ecf8381e37d1bdda8512e3e.jpg to C:\\Users\\test\\Desktop\\waste detection.v4-add-pp-bag-8-1-1-.coco\\train\\images\n",
      "Moved 202411111156-36-314850-127-350158_jpg.rf.13c93831e289c6cdc35777c226cc40be.jpg to C:\\Users\\test\\Desktop\\waste detection.v4-add-pp-bag-8-1-1-.coco\\train\\images\n",
      "Moved 202411111157-36-314198-127-350451_jpg.rf.5e3a73e422a345aef9b636a1a5c5b60c.jpg to C:\\Users\\test\\Desktop\\waste detection.v4-add-pp-bag-8-1-1-.coco\\train\\images\n",
      "Moved 202411111159-36-314376-127-349722_jpg.rf.24aba0d852af922e5b4375439fb1739c.jpg to C:\\Users\\test\\Desktop\\waste detection.v4-add-pp-bag-8-1-1-.coco\\train\\images\n",
      "Moved 202411111200-36-313711-127-349988-1-2_jpg.rf.29bb0f936c9a8e63b421990da6c8814d.jpg to C:\\Users\\test\\Desktop\\waste detection.v4-add-pp-bag-8-1-1-.coco\\train\\images\n",
      "Moved 202411111200-36-313711-127-349988-1_jpg.rf.d2fadeac35cc22191fc810a3a172b3f6.jpg to C:\\Users\\test\\Desktop\\waste detection.v4-add-pp-bag-8-1-1-.coco\\train\\images\n",
      "Moved 202411111201-36-314129-127-351297_jpg.rf.abe3debaf89062106c401bd3bcf536f3.jpg to C:\\Users\\test\\Desktop\\waste detection.v4-add-pp-bag-8-1-1-.coco\\train\\images\n",
      "Moved 202411111202-36-313215-127-351277_jpg.rf.34358fbc7519117f39cec65eae22d687.jpg to C:\\Users\\test\\Desktop\\waste detection.v4-add-pp-bag-8-1-1-.coco\\train\\images\n",
      "Moved 202411111204-36-313040-127-350293_jpg.rf.c538ad0c40a9e89ef85f58c6c7ebcb94.jpg to C:\\Users\\test\\Desktop\\waste detection.v4-add-pp-bag-8-1-1-.coco\\train\\images\n",
      "Moved 202411111205-36-309978-127-351556_jpg.rf.d27940d4f9c26a3d807443577f273cf9.jpg to C:\\Users\\test\\Desktop\\waste detection.v4-add-pp-bag-8-1-1-.coco\\train\\images\n",
      "Moved 202411111206-36-311481-127-352093_jpg.rf.939a693ba4643289f1f83778bee316d8.jpg to C:\\Users\\test\\Desktop\\waste detection.v4-add-pp-bag-8-1-1-.coco\\train\\images\n",
      "Moved 202411111212-36-309758-127-352424_jpg.rf.59b5a1c343a995ce37c02069f81d0b7c.jpg to C:\\Users\\test\\Desktop\\waste detection.v4-add-pp-bag-8-1-1-.coco\\train\\images\n",
      "Moved 202411111219-36-308399-127-354248_jpg.rf.7ac4295857230083611ce3b330386374.jpg to C:\\Users\\test\\Desktop\\waste detection.v4-add-pp-bag-8-1-1-.coco\\train\\images\n",
      "Moved 202411111219-36-308465-127-354548_jpg.rf.4b77b5ef71398659698d8c5b15f42293.jpg to C:\\Users\\test\\Desktop\\waste detection.v4-add-pp-bag-8-1-1-.coco\\train\\images\n",
      "Moved 202411111226-36-306967-127-355016-2_jpg.rf.b45527eb3b56015f9026652fba9fee24.jpg to C:\\Users\\test\\Desktop\\waste detection.v4-add-pp-bag-8-1-1-.coco\\train\\images\n",
      "Moved 202411111230-36-308009-127-351804_jpg.rf.a6982579d2c47378f0f3164625231451.jpg to C:\\Users\\test\\Desktop\\waste detection.v4-add-pp-bag-8-1-1-.coco\\train\\images\n",
      "Moved 202411111232-36-307253-127-351947_jpg.rf.987104fc3c80a11099af07fdda6dd0ae.jpg to C:\\Users\\test\\Desktop\\waste detection.v4-add-pp-bag-8-1-1-.coco\\train\\images\n",
      "Moved 202411111233-36-306565-127-352169_jpg.rf.fcac772062463c4ece46ebbdcaaea45a.jpg to C:\\Users\\test\\Desktop\\waste detection.v4-add-pp-bag-8-1-1-.coco\\train\\images\n",
      "Moved 202411111239-36-306001-127-349362_jpg.rf.84a53ecfc8e1456852aa797ae3c5fdeb.jpg to C:\\Users\\test\\Desktop\\waste detection.v4-add-pp-bag-8-1-1-.coco\\train\\images\n",
      "Moved 202411111239-36-306625-127-349790_jpg.rf.c7a2b38c750c7955f88638e93ea980c5.jpg to C:\\Users\\test\\Desktop\\waste detection.v4-add-pp-bag-8-1-1-.coco\\train\\images\n",
      "Moved 202411111243-36-304517-127-349056_jpg.rf.6bed211bfc9931b4a55e8b3771a3a50a.jpg to C:\\Users\\test\\Desktop\\waste detection.v4-add-pp-bag-8-1-1-.coco\\train\\images\n",
      "Moved 280_jpg.rf.76bd4eb877d14a2c45feb7f90bb2a322.jpg to C:\\Users\\test\\Desktop\\waste detection.v4-add-pp-bag-8-1-1-.coco\\train\\images\n",
      "Moved 36de3e12eed9f425921221f5ad577d22_jpg.rf.a9679570e808c6aacadca211f317304f.jpg to C:\\Users\\test\\Desktop\\waste detection.v4-add-pp-bag-8-1-1-.coco\\train\\images\n",
      "Moved 469_temp_16164815400370view_jpg.rf.96bf47224ed95c3088a5200e6d729a4c.jpg to C:\\Users\\test\\Desktop\\waste detection.v4-add-pp-bag-8-1-1-.coco\\train\\images\n",
      "Moved 5ee44f3118524b5d56a49e88da1bf544f8bf560d7730f2263ca4f07dccab_jpg.rf.4a3e518b6c0b554eeba2fadda76bba43.jpg to C:\\Users\\test\\Desktop\\waste detection.v4-add-pp-bag-8-1-1-.coco\\train\\images\n",
      "Moved 608387_508729_1532_jpg.rf.7575b9ba786e3dc0a2c402e03be986d1.jpg to C:\\Users\\test\\Desktop\\waste detection.v4-add-pp-bag-8-1-1-.coco\\train\\images\n",
      "Moved 643a5279e6bdc3c68770e49dfcafa349_jpg.rf.73aa2748588924dc034af16984d098b1.jpg to C:\\Users\\test\\Desktop\\waste detection.v4-add-pp-bag-8-1-1-.coco\\train\\images\n",
      "Moved art_1310089760_jpg.rf.0290071a4baa1dac1e6f2bef36a62db3.jpg to C:\\Users\\test\\Desktop\\waste detection.v4-add-pp-bag-8-1-1-.coco\\train\\images\n",
      "Moved IMG_2245_jpg.rf.24a695d92e19cc9813beb7790c8c2fb4.jpg to C:\\Users\\test\\Desktop\\waste detection.v4-add-pp-bag-8-1-1-.coco\\train\\images\n",
      "Moved img_jpg.rf.3173c77e2e01d9444e34db6e38e478d5.jpg to C:\\Users\\test\\Desktop\\waste detection.v4-add-pp-bag-8-1-1-.coco\\train\\images\n",
      "Moved KakaoTalk_20190917_171733316_jpg.rf.60826f4e26097c7767efa08f6fe384b2.jpg to C:\\Users\\test\\Desktop\\waste detection.v4-add-pp-bag-8-1-1-.coco\\train\\images\n",
      "Moved KakaoTalk_20220803_002954369_jpg.rf.9afdbbde726aad8a74667c4f065322ab.jpg to C:\\Users\\test\\Desktop\\waste detection.v4-add-pp-bag-8-1-1-.coco\\train\\images\n",
      "Moved KakaoTalk_20220803_014831499-1-_jpg.rf.c3ee5d08244c3b4b67e98a23d58aa6b4.jpg to C:\\Users\\test\\Desktop\\waste detection.v4-add-pp-bag-8-1-1-.coco\\train\\images\n",
      "Moved SE-5e0a733b-9d8d-4923-8a4a-f6e9979a84d0_jpg.rf.0e03ac4420732a09c8dadc703b911853.jpg to C:\\Users\\test\\Desktop\\waste detection.v4-add-pp-bag-8-1-1-.coco\\train\\images\n",
      "Moved unnamed_jpg.rf.879804241ddbeb428ba5615d84a2609a.jpg to C:\\Users\\test\\Desktop\\waste detection.v4-add-pp-bag-8-1-1-.coco\\train\\images\n",
      "Moved -2-_jpg.rf.8dd67388a091767a62ee66d391b5b634.jpg to C:\\Users\\test\\Desktop\\waste detection.v4-add-pp-bag-8-1-1-.coco\\valid\\images\n",
      "Moved -5-_jpg.rf.bce0779ad93073b72b6a25e8d439d135.jpg to C:\\Users\\test\\Desktop\\waste detection.v4-add-pp-bag-8-1-1-.coco\\valid\\images\n",
      "Moved 202411061344-36-309841-127-353640_jpg.rf.c9d8eb77fd2bcd7064d897fe050dc226.jpg to C:\\Users\\test\\Desktop\\waste detection.v4-add-pp-bag-8-1-1-.coco\\valid\\images\n",
      "Moved 202411061350-36-311481-127-352093_jpg.rf.3580c55c235057ace8d53870bf1b005b.jpg to C:\\Users\\test\\Desktop\\waste detection.v4-add-pp-bag-8-1-1-.coco\\valid\\images\n",
      "Moved 202411061352-36-313215-127-351277-1_jpg.rf.97916cd76e0ddcc427631cabac1daa17.jpg to C:\\Users\\test\\Desktop\\waste detection.v4-add-pp-bag-8-1-1-.coco\\valid\\images\n",
      "Moved 202411081236-36-423913-127-407165-3_jpg.rf.774f6b73920238d54130a17e465f5d11.jpg to C:\\Users\\test\\Desktop\\waste detection.v4-add-pp-bag-8-1-1-.coco\\valid\\images\n",
      "Moved 202411111154-36-331874-127-341114_jpg.rf.82fb4f3c05b7b9d8ce14a9d218aade9a.jpg to C:\\Users\\test\\Desktop\\waste detection.v4-add-pp-bag-8-1-1-.coco\\valid\\images\n",
      "Moved 202411111157-36-330253-127-341215_jpg.rf.8adad0f70f65f24702e160694211571d.jpg to C:\\Users\\test\\Desktop\\waste detection.v4-add-pp-bag-8-1-1-.coco\\valid\\images\n",
      "Moved 202411111159-36-329998-127-341195_jpg.rf.d12a212ad06f7bb36012b190d47475fa.jpg to C:\\Users\\test\\Desktop\\waste detection.v4-add-pp-bag-8-1-1-.coco\\valid\\images\n",
      "Moved 202411111201-36-329073-127-341781_jpg.rf.ffa121e9a02d4a6dd57ba6c992b8c968.jpg to C:\\Users\\test\\Desktop\\waste detection.v4-add-pp-bag-8-1-1-.coco\\valid\\images\n",
      "Moved 202411111202-36-328129-127-341174_jpg.rf.1dd777c7a54a4eaf1564bb7735114377.jpg to C:\\Users\\test\\Desktop\\waste detection.v4-add-pp-bag-8-1-1-.coco\\valid\\images\n",
      "Moved 202411111203-36-330346-127-339664_jpg.rf.88d4db0b214b09598bf04627ab9b0707.jpg to C:\\Users\\test\\Desktop\\waste detection.v4-add-pp-bag-8-1-1-.coco\\valid\\images\n",
      "Moved 202411111204-36-330765-127-339620_jpg.rf.274b86b07d7fb15a435490dce2a9bd08.jpg to C:\\Users\\test\\Desktop\\waste detection.v4-add-pp-bag-8-1-1-.coco\\valid\\images\n",
      "Moved 202411111204-36-331076-127-339612_jpg.rf.4279e4031e43228444a1ea490e7bfba6.jpg to C:\\Users\\test\\Desktop\\waste detection.v4-add-pp-bag-8-1-1-.coco\\valid\\images\n",
      "Moved 202411111208-36-330461-127-335843_jpg.rf.bd2a2d698cdaf472183d54a97201c27c.jpg to C:\\Users\\test\\Desktop\\waste detection.v4-add-pp-bag-8-1-1-.coco\\valid\\images\n",
      "Moved 202411111209-36-330088-127-335431_jpg.rf.68029156e015a2b911e4b9224c49b926.jpg to C:\\Users\\test\\Desktop\\waste detection.v4-add-pp-bag-8-1-1-.coco\\valid\\images\n",
      "Moved 202411111213-36-329048-127-335824-1_jpg.rf.7f5a5ce7a0e4b0ebf6bdb1a4d4747ac0.jpg to C:\\Users\\test\\Desktop\\waste detection.v4-add-pp-bag-8-1-1-.coco\\valid\\images\n",
      "Moved 202411111213-36-329048-127-335824-2_jpg.rf.4dcb07187c3f79939ab8a6950e7ea015.jpg to C:\\Users\\test\\Desktop\\waste detection.v4-add-pp-bag-8-1-1-.coco\\valid\\images\n",
      "Moved 202411111215-36-328161-127-334911_jpg.rf.17376ad343625960a0ac0d467260fb29.jpg to C:\\Users\\test\\Desktop\\waste detection.v4-add-pp-bag-8-1-1-.coco\\valid\\images\n",
      "Moved 202411111216-36-329141-127-334531-1_jpg.rf.4d0fc17841504dd91b10e35a9cb9afcc.jpg to C:\\Users\\test\\Desktop\\waste detection.v4-add-pp-bag-8-1-1-.coco\\valid\\images\n",
      "Moved 202411111216-36-329141-127-334531-2_jpg.rf.31610da31b1d644e794dc046c5da7e03.jpg to C:\\Users\\test\\Desktop\\waste detection.v4-add-pp-bag-8-1-1-.coco\\valid\\images\n",
      "Moved 202411111217-36-329613-127-334544-1_jpg.rf.7c3dd9e602349f4dec6b4df9a0b58edc.jpg to C:\\Users\\test\\Desktop\\waste detection.v4-add-pp-bag-8-1-1-.coco\\valid\\images\n",
      "Moved 202411111217-36-329613-127-334544-2_jpg.rf.2cb4181f9a0fde3230aaa1cfc3d74cb7.jpg to C:\\Users\\test\\Desktop\\waste detection.v4-add-pp-bag-8-1-1-.coco\\valid\\images\n",
      "Moved 202411111218-36-330560-127-334527_jpg.rf.89919404ecb1066ffcf859ced6a22bc4.jpg to C:\\Users\\test\\Desktop\\waste detection.v4-add-pp-bag-8-1-1-.coco\\valid\\images\n",
      "Moved 202411111219-36-331165-127-333801_jpg.rf.e9724931432bac80c08516fb82eb4797.jpg to C:\\Users\\test\\Desktop\\waste detection.v4-add-pp-bag-8-1-1-.coco\\valid\\images\n",
      "Moved 202411111221-36-326945-127-347601_jpg.rf.dfd4124022b4ddec11c70c9948f1d53a.jpg to C:\\Users\\test\\Desktop\\waste detection.v4-add-pp-bag-8-1-1-.coco\\valid\\images\n",
      "Moved 202411111222-36-326874-127-347127_jpg.rf.ea7121f5c3a6e81b02f7ca0be4939e43.jpg to C:\\Users\\test\\Desktop\\waste detection.v4-add-pp-bag-8-1-1-.coco\\valid\\images\n",
      "Moved 202411111224-36-326020-127-347625_jpg.rf.410e0aaef3d4c4565d84ea9567f0160a.jpg to C:\\Users\\test\\Desktop\\waste detection.v4-add-pp-bag-8-1-1-.coco\\valid\\images\n",
      "Moved 202411111226-36-325397-127-347430_jpg.rf.33b0cf9d58b66d25ef90a9be550f3b64.jpg to C:\\Users\\test\\Desktop\\waste detection.v4-add-pp-bag-8-1-1-.coco\\valid\\images\n",
      "Moved 202411111227-36-319722-127-342728_jpg.rf.7444308b4b79cf6cbe5e0e9898f103a0.jpg to C:\\Users\\test\\Desktop\\waste detection.v4-add-pp-bag-8-1-1-.coco\\valid\\images\n",
      "Moved 202411111228-36-323457-127-347467_jpg.rf.b2829d6f6b22c9dfd0b1074102a3e68b.jpg to C:\\Users\\test\\Desktop\\waste detection.v4-add-pp-bag-8-1-1-.coco\\valid\\images\n",
      "Moved 202411111231-36-323745-127-344972_jpg.rf.279bf9b23bed43be51198cef41d3d9b6.jpg to C:\\Users\\test\\Desktop\\waste detection.v4-add-pp-bag-8-1-1-.coco\\valid\\images\n",
      "Moved 202411111232-36-324229-127-345402_jpg.rf.e8c210b4ddffbacdab3624ac61865837.jpg to C:\\Users\\test\\Desktop\\waste detection.v4-add-pp-bag-8-1-1-.coco\\valid\\images\n",
      "Moved 202411111233-36-324050-127-345946_jpg.rf.58e2081483b15b31440485ceebe8632e.jpg to C:\\Users\\test\\Desktop\\waste detection.v4-add-pp-bag-8-1-1-.coco\\valid\\images\n",
      "Moved 202411111234-36-324526-127-346244-1_jpg.rf.3268bc07408116742d0d46fe946fa11d.jpg to C:\\Users\\test\\Desktop\\waste detection.v4-add-pp-bag-8-1-1-.coco\\valid\\images\n",
      "Moved 202411111234-36-324526-127-346244-2_jpg.rf.52fe7250fcfc593b42f9192418c58279.jpg to C:\\Users\\test\\Desktop\\waste detection.v4-add-pp-bag-8-1-1-.coco\\valid\\images\n",
      "Moved 202411111236-36-325551-127-346341_jpg.rf.e8495c51940582fe440b178cc5c21d37.jpg to C:\\Users\\test\\Desktop\\waste detection.v4-add-pp-bag-8-1-1-.coco\\valid\\images\n",
      "Moved 202411111237-36-326165-127-346387_jpg.rf.fd91d1f84d065e841933d10326f4dd7c.jpg to C:\\Users\\test\\Desktop\\waste detection.v4-add-pp-bag-8-1-1-.coco\\valid\\images\n",
      "Moved 202411111239-36-326256-127-345540_jpg.rf.41211de7d1452e55bac93a5f27212787.jpg to C:\\Users\\test\\Desktop\\waste detection.v4-add-pp-bag-8-1-1-.coco\\valid\\images\n",
      "Moved 202411111240-36-325573-127-344706_jpg.rf.bd849b5f52f84e33277f3186a0e5d600.jpg to C:\\Users\\test\\Desktop\\waste detection.v4-add-pp-bag-8-1-1-.coco\\valid\\images\n",
      "Moved 202411111241-36-324966-127-344294_jpg.rf.44f330d098b3cb5597e2bacf6fd32c91.jpg to C:\\Users\\test\\Desktop\\waste detection.v4-add-pp-bag-8-1-1-.coco\\valid\\images\n",
      "Moved 202411111242-36-324333-127-344193_jpg.rf.8c37d09dab62000481efc67fe7a76a20.jpg to C:\\Users\\test\\Desktop\\waste detection.v4-add-pp-bag-8-1-1-.coco\\valid\\images\n",
      "Moved 202411111244-36-325115-127-345317-1_jpg.rf.6e0931969cfd61fbc4f3be86d563c805.jpg to C:\\Users\\test\\Desktop\\waste detection.v4-add-pp-bag-8-1-1-.coco\\valid\\images\n",
      "Moved 202411111244-36-325115-127-345317-2_jpg.rf.21b4a0fe4b174cff3d2ffe0789cd8abe.jpg to C:\\Users\\test\\Desktop\\waste detection.v4-add-pp-bag-8-1-1-.coco\\valid\\images\n",
      "Moved 202411111247-36-323181-127-344405_jpg.rf.e2f02b5fe75ae14dc005f484e8a9e584.jpg to C:\\Users\\test\\Desktop\\waste detection.v4-add-pp-bag-8-1-1-.coco\\valid\\images\n",
      "Moved 202411111248-36-322625-127-343835_jpg.rf.c35b466bbf651f3b02f1969e138d90da.jpg to C:\\Users\\test\\Desktop\\waste detection.v4-add-pp-bag-8-1-1-.coco\\valid\\images\n",
      "Moved 202411111250-36-322871-127-343483_jpg.rf.99453f6cf27c42b1017af9acaddde2a8.jpg to C:\\Users\\test\\Desktop\\waste detection.v4-add-pp-bag-8-1-1-.coco\\valid\\images\n",
      "Moved 202411111253-36-321100-127-343077_jpg.rf.436b19eb98f109cbb7c88a8dd9bac7d6.jpg to C:\\Users\\test\\Desktop\\waste detection.v4-add-pp-bag-8-1-1-.coco\\valid\\images\n",
      "Moved 202411111258-36-321129-127-342652_jpg.rf.8acc162562152df0fdbcc1ccc9d787a7.jpg to C:\\Users\\test\\Desktop\\waste detection.v4-add-pp-bag-8-1-1-.coco\\valid\\images\n",
      "Moved 202411111259-36-320170-127-342580-1_jpg.rf.e83b6cd73c1ac467486adb1c9929ec95.jpg to C:\\Users\\test\\Desktop\\waste detection.v4-add-pp-bag-8-1-1-.coco\\valid\\images\n",
      "Moved 202411111259-36-320170-127-342580-2_jpg.rf.6fcb602bcfcca74b9bed945982654a3d.jpg to C:\\Users\\test\\Desktop\\waste detection.v4-add-pp-bag-8-1-1-.coco\\valid\\images\n",
      "Moved 202411111301-36-320218-127-343319_jpg.rf.74b331b8663f7681fc08eac9a4918cb9.jpg to C:\\Users\\test\\Desktop\\waste detection.v4-add-pp-bag-8-1-1-.coco\\valid\\images\n",
      "Moved 202411111303-36-319426-127-343581_jpg.rf.3ea79fdee4bf4dfb21046016e0670652.jpg to C:\\Users\\test\\Desktop\\waste detection.v4-add-pp-bag-8-1-1-.coco\\valid\\images\n",
      "Moved 202411111304-36-319722-127-342728_jpg.rf.cbf89e7b205ec3584bcbae9f1793b85b.jpg to C:\\Users\\test\\Desktop\\waste detection.v4-add-pp-bag-8-1-1-.coco\\valid\\images\n",
      "Moved 202411111305-36-318897-127-343185_jpg.rf.d9003138b34acb2a74bdfc0ffd103162.jpg to C:\\Users\\test\\Desktop\\waste detection.v4-add-pp-bag-8-1-1-.coco\\valid\\images\n",
      "Moved 202411111307-36-318467-127-342773_jpg.rf.7711d05b1ee8a571f70d1074bd0faaab.jpg to C:\\Users\\test\\Desktop\\waste detection.v4-add-pp-bag-8-1-1-.coco\\valid\\images\n",
      "Moved 202411111308-36-318047-127-344154_jpg.rf.9461736934a9e3add65a0caa1ce4a6c8.jpg to C:\\Users\\test\\Desktop\\waste detection.v4-add-pp-bag-8-1-1-.coco\\valid\\images\n",
      "Moved 202411111310-36-318792-127-344275_jpg.rf.fc75be28ba6c61d7d723b6fe039971ca.jpg to C:\\Users\\test\\Desktop\\waste detection.v4-add-pp-bag-8-1-1-.coco\\valid\\images\n",
      "Moved 202411111320-36-320268-127-345166_jpg.rf.0c457aa805469f4e1743cbfe3d6ed4ad.jpg to C:\\Users\\test\\Desktop\\waste detection.v4-add-pp-bag-8-1-1-.coco\\valid\\images\n",
      "Moved 202411111322-36-320082-127-346705_jpg.rf.65967a9cafe9230f0437d8fe69d37782.jpg to C:\\Users\\test\\Desktop\\waste detection.v4-add-pp-bag-8-1-1-.coco\\valid\\images\n",
      "Moved 202411111324-36-318984-127-345745_jpg.rf.891f95e05671ca9fd00c874c37c3979e.jpg to C:\\Users\\test\\Desktop\\waste detection.v4-add-pp-bag-8-1-1-.coco\\valid\\images\n",
      "Moved 202411111325-36-319464-127-345852_jpg.rf.516fc0b21ae245bf5abeb809ebad3455.jpg to C:\\Users\\test\\Desktop\\waste detection.v4-add-pp-bag-8-1-1-.coco\\valid\\images\n",
      "Moved 202411111329-36-316227-127-345817_jpg.rf.1aa9faff139d55bbe55611c7670f3eee.jpg to C:\\Users\\test\\Desktop\\waste detection.v4-add-pp-bag-8-1-1-.coco\\valid\\images\n",
      "Moved 202411111331-36-315484-127-346549_jpg.rf.d8bf96ee93672343da87c5988879c8b9.jpg to C:\\Users\\test\\Desktop\\waste detection.v4-add-pp-bag-8-1-1-.coco\\valid\\images\n",
      "Moved 202411111333-36-313993-127-347738_jpg.rf.214cbf0aa3ebd970e699fc01c9c52bb4.jpg to C:\\Users\\test\\Desktop\\waste detection.v4-add-pp-bag-8-1-1-.coco\\valid\\images\n",
      "Moved 202411111336-36-313150-127-347480_jpg.rf.6f6c1e29244f6b6ccba501a8e0433e91.jpg to C:\\Users\\test\\Desktop\\waste detection.v4-add-pp-bag-8-1-1-.coco\\valid\\images\n",
      "Moved 202411111337-36-313577-127-348105_jpg.rf.1b929506650fc91b5717390b8dc39913.jpg to C:\\Users\\test\\Desktop\\waste detection.v4-add-pp-bag-8-1-1-.coco\\valid\\images\n",
      "Moved 202411121154-36-421945-127-402068_jpg.rf.4a9eb018a5ac00b986e639f2c40a9285.jpg to C:\\Users\\test\\Desktop\\waste detection.v4-add-pp-bag-8-1-1-.coco\\valid\\images\n",
      "Moved 202411121224-36-422929-127-401889_jpg.rf.cfc97a8608ee442a07943f0ddf21d286.jpg to C:\\Users\\test\\Desktop\\waste detection.v4-add-pp-bag-8-1-1-.coco\\valid\\images\n",
      "Moved 202411121232-36-421351-127-397284_jpg.rf.6e179fdbadcb4d57a6d861235508ac29.jpg to C:\\Users\\test\\Desktop\\waste detection.v4-add-pp-bag-8-1-1-.coco\\valid\\images\n",
      "Moved 202411121235-36-423095-127-390353_jpg.rf.47bf89def32b1d69facf7c367de0cb01.jpg to C:\\Users\\test\\Desktop\\waste detection.v4-add-pp-bag-8-1-1-.coco\\valid\\images\n",
      "Moved 202411121236-36-423095-127-390353_jpg.rf.42ca7be08ab18c1ca5e66483e9bfde99.jpg to C:\\Users\\test\\Desktop\\waste detection.v4-add-pp-bag-8-1-1-.coco\\valid\\images\n",
      "Moved 2024111281236-36-423831-127-406969-1_jpg.rf.be273d76dd873146cdd6a20ddd36f412.jpg to C:\\Users\\test\\Desktop\\waste detection.v4-add-pp-bag-8-1-1-.coco\\valid\\images\n",
      "Moved 2024111281236-36-423831-127-406969-2_jpg.rf.22116e3c525cf91c7486209b98811fc4.jpg to C:\\Users\\test\\Desktop\\waste detection.v4-add-pp-bag-8-1-1-.coco\\valid\\images\n",
      "Moved 2024111281236-36-423831-127-406969-3_jpg.rf.a68f7c64c3c04ce9aa5beb6f10798ec3.jpg to C:\\Users\\test\\Desktop\\waste detection.v4-add-pp-bag-8-1-1-.coco\\valid\\images\n",
      "Moved images_jpg.rf.2f189c4fcee1589d285e465e67903aa1.jpg to C:\\Users\\test\\Desktop\\waste detection.v4-add-pp-bag-8-1-1-.coco\\valid\\images\n",
      "Moved img-1-_jpg.rf.1f70e75bd35cec5486833930f3b02674.jpg to C:\\Users\\test\\Desktop\\waste detection.v4-add-pp-bag-8-1-1-.coco\\valid\\images\n",
      "Moved KakaoTalk_20241023_143916234_04_jpg.rf.84c85928489c057d69bc0f90e46dbf68.jpg to C:\\Users\\test\\Desktop\\waste detection.v4-add-pp-bag-8-1-1-.coco\\valid\\images\n",
      "Moved KakaoTalk_20241024_085212877_07_jpg.rf.21dee11018701caadc04a67beae5eb80.jpg to C:\\Users\\test\\Desktop\\waste detection.v4-add-pp-bag-8-1-1-.coco\\valid\\images\n",
      "Moved -7-_jpg.rf.3e4e45f01df8da1ac999a94efb60473e.jpg to C:\\Users\\test\\Desktop\\waste detection.v4-add-pp-bag-8-1-1-.coco\\test\\images\n",
      "Moved 202411061313-36-307488-127-352668_jpg.rf.2debbe814df92503a0079be859650cc0.jpg to C:\\Users\\test\\Desktop\\waste detection.v4-add-pp-bag-8-1-1-.coco\\test\\images\n",
      "Moved 202411061319-36-307974-127-355197_jpg.rf.40e66b47ea454f90ee055c740410cc1c.jpg to C:\\Users\\test\\Desktop\\waste detection.v4-add-pp-bag-8-1-1-.coco\\test\\images\n",
      "Moved 202411061322-36-307550-127-354681_jpg.rf.e09f59bc4cc8915a9da9c47c91f306f0.jpg to C:\\Users\\test\\Desktop\\waste detection.v4-add-pp-bag-8-1-1-.coco\\test\\images\n",
      "Moved 202411061322-36-320218-127-343319_jpg.rf.86814c1d60da676d5d9596a2a3da0efb.jpg to C:\\Users\\test\\Desktop\\waste detection.v4-add-pp-bag-8-1-1-.coco\\test\\images\n",
      "Moved 202411061323-36-319426-127-343581-2_jpg.rf.5c85eeb865231f3fb9ac4fd355319416.jpg to C:\\Users\\test\\Desktop\\waste detection.v4-add-pp-bag-8-1-1-.coco\\test\\images\n",
      "Moved 202411061325-36-308399-127-354248_jpg.rf.fe8e74b6e0015e468fad270eb87ca499.jpg to C:\\Users\\test\\Desktop\\waste detection.v4-add-pp-bag-8-1-1-.coco\\test\\images\n",
      "Moved 202411061326-36-318897-127-343185_jpg.rf.d6707abf64c488ae79ddec26206a2f89.jpg to C:\\Users\\test\\Desktop\\waste detection.v4-add-pp-bag-8-1-1-.coco\\test\\images\n",
      "Moved 202411061328-36-318047-127-344154_jpg.rf.7aefec6f116650e0e611553b9811a6d8.jpg to C:\\Users\\test\\Desktop\\waste detection.v4-add-pp-bag-8-1-1-.coco\\test\\images\n",
      "Moved 202411061328-36-318467-127-342773_jpg.rf.8e7d885664cc4a093d1ef0afcc79b2e8.jpg to C:\\Users\\test\\Desktop\\waste detection.v4-add-pp-bag-8-1-1-.coco\\test\\images\n",
      "Moved 202411061329-36-309133-127-353018_jpg.rf.66723f2b0a1f776c240789b2605d7c6e.jpg to C:\\Users\\test\\Desktop\\waste detection.v4-add-pp-bag-8-1-1-.coco\\test\\images\n",
      "Moved 202411061330-36-318792-127-344275_jpg.rf.3f74fb24878d9a28014f79a8ad00e4c4.jpg to C:\\Users\\test\\Desktop\\waste detection.v4-add-pp-bag-8-1-1-.coco\\test\\images\n",
      "Moved 202411061337-36-309239-127-353916_jpg.rf.4c7a323affb98f997405ec20ca6d216e.jpg to C:\\Users\\test\\Desktop\\waste detection.v4-add-pp-bag-8-1-1-.coco\\test\\images\n",
      "Moved 202411061339-36-310790-127-352166_jpg.rf.78fd2988c35f72ab7c8c932764bb04c6.jpg to C:\\Users\\test\\Desktop\\waste detection.v4-add-pp-bag-8-1-1-.coco\\test\\images\n",
      "Moved 202411061342-36-309176-127-351941_jpg.rf.05afb3c8e078242b96c4a730357296bb.jpg to C:\\Users\\test\\Desktop\\waste detection.v4-add-pp-bag-8-1-1-.coco\\test\\images\n",
      "Moved 202411061342-36-315640-127-349174_jpg.rf.5444f5989d8b4ed01d08d05553d63571.jpg to C:\\Users\\test\\Desktop\\waste detection.v4-add-pp-bag-8-1-1-.coco\\test\\images\n",
      "Moved 202411061343-36-315732-127-349908_jpg.rf.f32a738af7e8cb0569568da90e660036.jpg to C:\\Users\\test\\Desktop\\waste detection.v4-add-pp-bag-8-1-1-.coco\\test\\images\n",
      "Moved 202411061345-36-314850-127-350158_jpg.rf.a5c076f0199e673c36da4ac790ee940e.jpg to C:\\Users\\test\\Desktop\\waste detection.v4-add-pp-bag-8-1-1-.coco\\test\\images\n",
      "Moved 202411061346-36-308081-127-353130_jpg.rf.83770fab01c2a2e62838a2a2729231a7.jpg to C:\\Users\\test\\Desktop\\waste detection.v4-add-pp-bag-8-1-1-.coco\\test\\images\n",
      "Moved 202411061346-36-311745-127-353092_jpg.rf.3e408eccde358b63c05fd5a29f956aab.jpg to C:\\Users\\test\\Desktop\\waste detection.v4-add-pp-bag-8-1-1-.coco\\test\\images\n",
      "Moved 202411061346-36-314198-127-350451_jpg.rf.c77a12c283995fb4057bd0ca00b83161.jpg to C:\\Users\\test\\Desktop\\waste detection.v4-add-pp-bag-8-1-1-.coco\\test\\images\n",
      "Moved 202411061348-36-310510-127-353380_jpg.rf.1b445c1bbde0cedac1df9b0f9c220dd4.jpg to C:\\Users\\test\\Desktop\\waste detection.v4-add-pp-bag-8-1-1-.coco\\test\\images\n",
      "Moved 202411061348-36-313711-127-349988_jpg.rf.3581e8d79a3a050686554a20476cdb34.jpg to C:\\Users\\test\\Desktop\\waste detection.v4-add-pp-bag-8-1-1-.coco\\test\\images\n",
      "Moved 202411061349-36-311745-127-353092_jpg.rf.fb5f4cbdb3036192e55d681050fe72da.jpg to C:\\Users\\test\\Desktop\\waste detection.v4-add-pp-bag-8-1-1-.coco\\test\\images\n",
      "Moved 202411061349-36-313040-127-350293_jpg.rf.52fab8e4c82156dcff635e98319420f9.jpg to C:\\Users\\test\\Desktop\\waste detection.v4-add-pp-bag-8-1-1-.coco\\test\\images\n",
      "Moved 202411061350-36-314129-127-351297_jpg.rf.7b7238965a8cae0683e4d2bac4f5a06a.jpg to C:\\Users\\test\\Desktop\\waste detection.v4-add-pp-bag-8-1-1-.coco\\test\\images\n",
      "Moved 202411061352-36-313215-127-351277-2_jpg.rf.f6aa801aed2a6e2e10462b781d4358bd.jpg to C:\\Users\\test\\Desktop\\waste detection.v4-add-pp-bag-8-1-1-.coco\\test\\images\n",
      "Moved 202411061352-36-313215-127-351277-3_jpg.rf.46cfc13747bebd1a1755da3b8a3cd8dd.jpg to C:\\Users\\test\\Desktop\\waste detection.v4-add-pp-bag-8-1-1-.coco\\test\\images\n",
      "Moved 202411061358-36-308465-127-354548_jpg.rf.965f2f2b47de25bdc9d795cb71576543.jpg to C:\\Users\\test\\Desktop\\waste detection.v4-add-pp-bag-8-1-1-.coco\\test\\images\n",
      "Moved 202411061359-36-310957-127-353130_jpg.rf.906b474010a7ba8fcea77eeef01433cd.jpg to C:\\Users\\test\\Desktop\\waste detection.v4-add-pp-bag-8-1-1-.coco\\test\\images\n",
      "Moved 202411061415-36-316636-127-347495_jpg.rf.79ef2fb18c5b765ead9711ec6516fcea.jpg to C:\\Users\\test\\Desktop\\waste detection.v4-add-pp-bag-8-1-1-.coco\\test\\images\n",
      "Moved 202411061418-36-315697-127-346125_jpg.rf.e9aab1e2970ae7ad8efb2ab0e3dd7b81.jpg to C:\\Users\\test\\Desktop\\waste detection.v4-add-pp-bag-8-1-1-.coco\\test\\images\n",
      "Moved 202411061420-36-315055-127-346190_jpg.rf.f735fd248bc6690f4c75068de0897d1f.jpg to C:\\Users\\test\\Desktop\\waste detection.v4-add-pp-bag-8-1-1-.coco\\test\\images\n",
      "Moved 202411061423-36-313839-127-348579_jpg.rf.4c6e29fd453c998c1710c6dd014daacf.jpg to C:\\Users\\test\\Desktop\\waste detection.v4-add-pp-bag-8-1-1-.coco\\test\\images\n",
      "Moved 202411061423-36-314851-127-347123_jpg.rf.6b1796d5ce76d550ec8c684a8c23fafd.jpg to C:\\Users\\test\\Desktop\\waste detection.v4-add-pp-bag-8-1-1-.coco\\test\\images\n",
      "Moved 202411061423-36-315046-127-346080_jpg.rf.bdc3f041759c2e28c0f15e1397a3584d.jpg to C:\\Users\\test\\Desktop\\waste detection.v4-add-pp-bag-8-1-1-.coco\\test\\images\n",
      "Moved 202411061431-36-309908-127-348185_jpg.rf.23fe7b1ddec31535d885e6cc9288d2da.jpg to C:\\Users\\test\\Desktop\\waste detection.v4-add-pp-bag-8-1-1-.coco\\test\\images\n",
      "Moved 202411061431-36-311574-127-349342_jpg.rf.5182513e42f5000cf9af2f91816f2114.jpg to C:\\Users\\test\\Desktop\\waste detection.v4-add-pp-bag-8-1-1-.coco\\test\\images\n",
      "Moved 202411061433-36-309089-127-349308_jpg.rf.680978375d34a5ce6bd988b65213fe68.jpg to C:\\Users\\test\\Desktop\\waste detection.v4-add-pp-bag-8-1-1-.coco\\test\\images\n",
      "Moved 202411061434-36-309502-127-348344_jpg.rf.18196b3699941fd051eb67f4246945bb.jpg to C:\\Users\\test\\Desktop\\waste detection.v4-add-pp-bag-8-1-1-.coco\\test\\images\n",
      "Moved 202411061438-36-309254-127-350078_jpg.rf.63980ab462c1a491c72131a321aa9bc4.jpg to C:\\Users\\test\\Desktop\\waste detection.v4-add-pp-bag-8-1-1-.coco\\test\\images\n",
      "Moved 202411081236-36-423913-127-407165-1_jpg.rf.0dfb1f31bd1bafebca3f8424e98cdc61.jpg to C:\\Users\\test\\Desktop\\waste detection.v4-add-pp-bag-8-1-1-.coco\\test\\images\n",
      "Moved 202411081236-36-423913-127-407165-2_jpg.rf.f6e2a098f84601afac7d2350a475d4cc.jpg to C:\\Users\\test\\Desktop\\waste detection.v4-add-pp-bag-8-1-1-.coco\\test\\images\n",
      "Moved 202411111136-36-331616-127-335799_jpg.rf.896aa812873491b43e52dfbd3261d149.jpg to C:\\Users\\test\\Desktop\\waste detection.v4-add-pp-bag-8-1-1-.coco\\test\\images\n",
      "Moved 202411111137-36-331383-127-335375_jpg.rf.a50332a13cae1728d2c5dc6162c5b05d.jpg to C:\\Users\\test\\Desktop\\waste detection.v4-add-pp-bag-8-1-1-.coco\\test\\images\n",
      "Moved 202411111139-36-331111-127-337848_jpg.rf.cbb982f1d1e160b11ae586add407ded9.jpg to C:\\Users\\test\\Desktop\\waste detection.v4-add-pp-bag-8-1-1-.coco\\test\\images\n",
      "Moved 202411111148-36-330942-127-338586_jpg.rf.09088434bf25f50d833296c7059228a4.jpg to C:\\Users\\test\\Desktop\\waste detection.v4-add-pp-bag-8-1-1-.coco\\test\\images\n",
      "Moved 202411111150-36-331699-127-339169-1_jpg.rf.2dfbaba491bab23e08d12300bdec0a40.jpg to C:\\Users\\test\\Desktop\\waste detection.v4-add-pp-bag-8-1-1-.coco\\test\\images\n",
      "Moved 202411111150-36-331699-127-339169-2_jpg.rf.30de6ea0a36f7a5dff4c2d5633c75ff7.jpg to C:\\Users\\test\\Desktop\\waste detection.v4-add-pp-bag-8-1-1-.coco\\test\\images\n",
      "Moved 202411111153-36-36-331686-127-340556_jpg.rf.f610735c1c46cf5328fb96c544f43dd2.jpg to C:\\Users\\test\\Desktop\\waste detection.v4-add-pp-bag-8-1-1-.coco\\test\\images\n",
      "Moved 202411111156-36-331079-127-341792_jpg.rf.fe0c796d57c7083f244e29ed95c6585c.jpg to C:\\Users\\test\\Desktop\\waste detection.v4-add-pp-bag-8-1-1-.coco\\test\\images\n",
      "Moved 202411111206-36-311745-127-353092_jpg.rf.175848f0b77ba404e4e6f11f44f8c590.jpg to C:\\Users\\test\\Desktop\\waste detection.v4-add-pp-bag-8-1-1-.coco\\test\\images\n",
      "Moved 202411111207-36-310510-127-353380_jpg.rf.816d4f9ca63a539abb4e7bd0bfafc0e0.jpg to C:\\Users\\test\\Desktop\\waste detection.v4-add-pp-bag-8-1-1-.coco\\test\\images\n",
      "Moved 202411111210-36-310957-127-353130_jpg.rf.693876733d993c585b16039273a00299.jpg to C:\\Users\\test\\Desktop\\waste detection.v4-add-pp-bag-8-1-1-.coco\\test\\images\n",
      "Moved 202411111212-36-310790-127-352166_jpg.rf.d4bb484b862d3105c60cdbe0712b5651.jpg to C:\\Users\\test\\Desktop\\waste detection.v4-add-pp-bag-8-1-1-.coco\\test\\images\n",
      "Moved 202411111213-36-309176-127-351941_jpg.rf.ddc9885bd847ea5b84dc27ccf6fd9fd9.jpg to C:\\Users\\test\\Desktop\\waste detection.v4-add-pp-bag-8-1-1-.coco\\test\\images\n",
      "Moved 202411111215-36-309133-127-353018_jpg.rf.d74fb20ba076ca562ab4b9922841c5e4.jpg to C:\\Users\\test\\Desktop\\waste detection.v4-add-pp-bag-8-1-1-.coco\\test\\images\n",
      "Moved 202411111216-36-309841-127-353640_jpg.rf.0cfe34d4e561604f27e4d6d51709d093.jpg to C:\\Users\\test\\Desktop\\waste detection.v4-add-pp-bag-8-1-1-.coco\\test\\images\n",
      "Moved 202411111217-36-309239-127-353916_jpg.rf.45de2cd861119d382d4752616a1c7e31.jpg to C:\\Users\\test\\Desktop\\waste detection.v4-add-pp-bag-8-1-1-.coco\\test\\images\n",
      "Moved 202411111220-36-308081-127-353130_jpg.rf.d482c4c6079ceee93fea151e3af3092a.jpg to C:\\Users\\test\\Desktop\\waste detection.v4-add-pp-bag-8-1-1-.coco\\test\\images\n",
      "Moved 202411111221-36-307340-127-353540_jpg.rf.44607ac9cf9e836b2131ef722b16478e.jpg to C:\\Users\\test\\Desktop\\waste detection.v4-add-pp-bag-8-1-1-.coco\\test\\images\n",
      "Moved 202411111223-36-307550-127-354681_jpg.rf.23480e44a8092c9c3311ca80c0ed1d96.jpg to C:\\Users\\test\\Desktop\\waste detection.v4-add-pp-bag-8-1-1-.coco\\test\\images\n",
      "Moved 202411111224-36-307974-127-355197_jpg.rf.8824813e9e1263d3c32b197514edcf0b.jpg to C:\\Users\\test\\Desktop\\waste detection.v4-add-pp-bag-8-1-1-.coco\\test\\images\n",
      "Moved 202411111226-36-306652-127-353674_jpg.rf.bf1c0077ff4820a3e86121a92f4c3b79.jpg to C:\\Users\\test\\Desktop\\waste detection.v4-add-pp-bag-8-1-1-.coco\\test\\images\n",
      "Moved 202411111226-36-306967-127-355016-1_jpg.rf.7b71d120bd3741d88af836c1e341b460.jpg to C:\\Users\\test\\Desktop\\waste detection.v4-add-pp-bag-8-1-1-.coco\\test\\images\n",
      "Moved 202411111228-36-307488-127-352668_jpg.rf.c021bf13ef90ee8f5a21b75c386ba96e.jpg to C:\\Users\\test\\Desktop\\waste detection.v4-add-pp-bag-8-1-1-.coco\\test\\images\n",
      "Moved 202411111229-36-308507-127-351318_jpg.rf.d6a1f843c6a43aa44bb88941b03a0142.jpg to C:\\Users\\test\\Desktop\\waste detection.v4-add-pp-bag-8-1-1-.coco\\test\\images\n",
      "Moved 202411111231-36-307637-127-351064_jpg.rf.089c4d450857dd4dca741be2cf4f1cbb.jpg to C:\\Users\\test\\Desktop\\waste detection.v4-add-pp-bag-8-1-1-.coco\\test\\images\n",
      "Moved 202411111234-36-306079-127-351546_jpg.rf.c9c863d9067d40dd0035692f3d78d305.jpg to C:\\Users\\test\\Desktop\\waste detection.v4-add-pp-bag-8-1-1-.coco\\test\\images\n",
      "Moved 202411111237-36-306997-127-351164_jpg.rf.45266fd2de02a14c1c674892c8a0ae33.jpg to C:\\Users\\test\\Desktop\\waste detection.v4-add-pp-bag-8-1-1-.coco\\test\\images\n",
      "Moved 202411111238-36-306863-127-350438_jpg.rf.6129b71701b75171bd7c11bce00321de.jpg to C:\\Users\\test\\Desktop\\waste detection.v4-add-pp-bag-8-1-1-.coco\\test\\images\n",
      "Moved 202411111240-36-305737-127-350237_jpg.rf.07a211fd644530b35bcda797c76089f0.jpg to C:\\Users\\test\\Desktop\\waste detection.v4-add-pp-bag-8-1-1-.coco\\test\\images\n",
      "Moved 202411111241-36-305407-127-348838_jpg.rf.c9a72083f4584c5401821f536b962985.jpg to C:\\Users\\test\\Desktop\\waste detection.v4-add-pp-bag-8-1-1-.coco\\test\\images\n",
      "Moved 202411111246-36-324233-127-344985_jpg.rf.d4fac2031eba1010c932d2ba451f0b9e.jpg to C:\\Users\\test\\Desktop\\waste detection.v4-add-pp-bag-8-1-1-.coco\\test\\images\n",
      "Moved 202411111251-36-322309-127-342752_jpg.rf.cee98eb6f397c8e712d2cc1e38b025ba.jpg to C:\\Users\\test\\Desktop\\waste detection.v4-add-pp-bag-8-1-1-.coco\\test\\images\n",
      "Moved 202411111252-36-321934-127-343575_jpg.rf.f74b0372f7638eef7e00d1d9f0c16f70.jpg to C:\\Users\\test\\Desktop\\waste detection.v4-add-pp-bag-8-1-1-.coco\\test\\images\n",
      "Moved 23907_68481_2024_jpg.rf.b54912c39030808ac7c4302f5f2a9541.jpg to C:\\Users\\test\\Desktop\\waste detection.v4-add-pp-bag-8-1-1-.coco\\test\\images\n",
      "Moved 280-1-_jpg.rf.da456a3686d9264b2091920e32945993.jpg to C:\\Users\\test\\Desktop\\waste detection.v4-add-pp-bag-8-1-1-.coco\\test\\images\n",
      "Moved 40e6c194a7_jpg.rf.d53564843314e6adb88ef92998cdaf82.jpg to C:\\Users\\test\\Desktop\\waste detection.v4-add-pp-bag-8-1-1-.coco\\test\\images\n",
      "\n",
      "Extracting classes from all datasets...\n",
      "\n",
      "Found 47 unique classes across all datasets:\n",
      "0: Air conditioner\n",
      "1: Aquarium\n",
      "2: Bathtub\n",
      "3: Bed\n",
      "4: Bedding items\n",
      "5: Bookcase\n",
      "6: Bookstand\n",
      "7: Cabinet\n",
      "8: CleanNet\n",
      "9: Clothes drying rack\n",
      "10: Desk\n",
      "11: Dining table\n",
      "12: Display cabinet\n",
      "13: Display stand\n",
      "14: Door panel\n",
      "15: Drawer unit\n",
      "16: Earthenware jar\n",
      "17: Floor covering\n",
      "18: Frame\n",
      "19: General waste bag\n",
      "20: Heater\n",
      "21: Humidifier\n",
      "22: Mat\n",
      "23: PP bag\n",
      "24: Piano\n",
      "25: Printer\n",
      "26: Shoe rack\n",
      "27: Small cabinet\n",
      "28: Sofa\n",
      "29: Spin dryer\n",
      "30: Stroller\n",
      "31: TV\n",
      "32: TV stand\n",
      "33: Table\n",
      "34: Toilet bowl\n",
      "35: Vacuum cleaner\n",
      "36: Vanity table\n",
      "37: Wardrobe\n",
      "38: Washing machine\n",
      "39: Water tank\n",
      "40: bicycle\n",
      "41: chair\n",
      "42: dish dryer\n",
      "43: lumber\n",
      "44: refrigerator\n",
      "45: suitcase\n",
      "46: waste pile\n",
      "\n",
      "Converting annotations to YOLO format...\n",
      "Successfully converted 2795 annotations for 636 images to: C:\\Users\\test\\Desktop\\waste detection.v4-add-pp-bag-8-1-1-.coco\\train\\labels\n",
      "Successfully converted 333 annotations for 79 images to: C:\\Users\\test\\Desktop\\waste detection.v4-add-pp-bag-8-1-1-.coco\\valid\\labels\n",
      "Successfully converted 428 annotations for 79 images to: C:\\Users\\test\\Desktop\\waste detection.v4-add-pp-bag-8-1-1-.coco\\test\\labels\n",
      "\n",
      "Creating data.yaml file...\n",
      "Created YAML file at: C:\\Users\\test\\Desktop\\waste detection.v4-add-pp-bag-8-1-1-.coco\\data.yaml\n",
      "Number of classes: 47\n",
      "Classes in order:\n",
      "0: Air conditioner\n",
      "1: Aquarium\n",
      "2: Bathtub\n",
      "3: Bed\n",
      "4: Bedding items\n",
      "5: Bookcase\n",
      "6: Bookstand\n",
      "7: Cabinet\n",
      "8: CleanNet\n",
      "9: Clothes drying rack\n",
      "10: Desk\n",
      "11: Dining table\n",
      "12: Display cabinet\n",
      "13: Display stand\n",
      "14: Door panel\n",
      "15: Drawer unit\n",
      "16: Earthenware jar\n",
      "17: Floor covering\n",
      "18: Frame\n",
      "19: General waste bag\n",
      "20: Heater\n",
      "21: Humidifier\n",
      "22: Mat\n",
      "23: PP bag\n",
      "24: Piano\n",
      "25: Printer\n",
      "26: Shoe rack\n",
      "27: Small cabinet\n",
      "28: Sofa\n",
      "29: Spin dryer\n",
      "30: Stroller\n",
      "31: TV\n",
      "32: TV stand\n",
      "33: Table\n",
      "34: Toilet bowl\n",
      "35: Vacuum cleaner\n",
      "36: Vanity table\n",
      "37: Wardrobe\n",
      "38: Washing machine\n",
      "39: Water tank\n",
      "40: bicycle\n",
      "41: chair\n",
      "42: dish dryer\n",
      "43: lumber\n",
      "44: refrigerator\n",
      "45: suitcase\n",
      "46: waste pile\n",
      "\n",
      "Found model file: C:\\Users\\test\\Desktop\\waste detection.v4-add-pp-bag-8-1-1-.coco\\yolov8n.pt\n",
      "\n",
      "Initializing YOLOv8 model...\n",
      "\n",
      "Starting training with CPU configuration...\n",
      "Ultralytics 8.3.13  Python-3.12.7 torch-2.4.1+cpu CPU (12th Gen Intel Core(TM) i7-12700K)\n",
      "\u001b[34m\u001b[1mengine\\trainer: \u001b[0mtask=detect, mode=train, model=C:\\Users\\test\\Desktop\\waste detection.v4-add-pp-bag-8-1-1-.coco\\yolov8n.pt, data=C:\\Users\\test\\Desktop\\waste detection.v4-add-pp-bag-8-1-1-.coco\\data.yaml, epochs=100, time=None, patience=5, batch=8, imgsz=640, save=True, save_period=-1, cache=False, device=cpu, workers=4, project=C:\\Users\\test\\Desktop\\waste detection.v4-add-pp-bag-8-1-1-.coco\\results_20241122_201936, name=waste_detection_model, exist_ok=True, pretrained=True, optimizer=auto, verbose=True, seed=0, deterministic=True, single_cls=False, rect=False, cos_lr=False, close_mosaic=10, resume=False, amp=True, fraction=1.0, profile=False, freeze=None, multi_scale=False, overlap_mask=True, mask_ratio=4, dropout=0.0, val=True, split=val, save_json=False, save_hybrid=False, conf=None, iou=0.7, max_det=300, half=False, dnn=False, plots=True, source=None, vid_stride=1, stream_buffer=False, visualize=False, augment=False, agnostic_nms=False, classes=None, retina_masks=False, embed=None, show=False, save_frames=False, save_txt=False, save_conf=False, save_crop=False, show_labels=True, show_conf=True, show_boxes=True, line_width=None, format=torchscript, keras=False, optimize=False, int8=False, dynamic=False, simplify=True, opset=None, workspace=4, nms=False, lr0=0.01, lrf=0.01, momentum=0.937, weight_decay=0.0005, warmup_epochs=3.0, warmup_momentum=0.8, warmup_bias_lr=0.1, box=7.5, cls=0.5, dfl=1.5, pose=12.0, kobj=1.0, label_smoothing=0.0, nbs=64, hsv_h=0.015, hsv_s=0.7, hsv_v=0.4, degrees=0.0, translate=0.1, scale=0.5, shear=0.0, perspective=0.0, flipud=0.0, fliplr=0.5, bgr=0.0, mosaic=1.0, mixup=0.0, copy_paste=0.0, copy_paste_mode=flip, auto_augment=randaugment, erasing=0.4, crop_fraction=1.0, cfg=None, tracker=botsort.yaml, save_dir=C:\\Users\\test\\Desktop\\waste detection.v4-add-pp-bag-8-1-1-.coco\\results_20241122_201936\\waste_detection_model\n",
      "Overriding model.yaml nc=80 with nc=47\n",
      "\n",
      "                   from  n    params  module                                       arguments                     \n",
      "  0                  -1  1       464  ultralytics.nn.modules.conv.Conv             [3, 16, 3, 2]                 \n",
      "  1                  -1  1      4672  ultralytics.nn.modules.conv.Conv             [16, 32, 3, 2]                \n",
      "  2                  -1  1      7360  ultralytics.nn.modules.block.C2f             [32, 32, 1, True]             \n",
      "  3                  -1  1     18560  ultralytics.nn.modules.conv.Conv             [32, 64, 3, 2]                \n",
      "  4                  -1  2     49664  ultralytics.nn.modules.block.C2f             [64, 64, 2, True]             \n",
      "  5                  -1  1     73984  ultralytics.nn.modules.conv.Conv             [64, 128, 3, 2]               \n",
      "  6                  -1  2    197632  ultralytics.nn.modules.block.C2f             [128, 128, 2, True]           \n",
      "  7                  -1  1    295424  ultralytics.nn.modules.conv.Conv             [128, 256, 3, 2]              \n",
      "  8                  -1  1    460288  ultralytics.nn.modules.block.C2f             [256, 256, 1, True]           \n",
      "  9                  -1  1    164608  ultralytics.nn.modules.block.SPPF            [256, 256, 5]                 \n",
      " 10                  -1  1         0  torch.nn.modules.upsampling.Upsample         [None, 2, 'nearest']          \n",
      " 11             [-1, 6]  1         0  ultralytics.nn.modules.conv.Concat           [1]                           \n",
      " 12                  -1  1    148224  ultralytics.nn.modules.block.C2f             [384, 128, 1]                 \n",
      " 13                  -1  1         0  torch.nn.modules.upsampling.Upsample         [None, 2, 'nearest']          \n",
      " 14             [-1, 4]  1         0  ultralytics.nn.modules.conv.Concat           [1]                           \n",
      " 15                  -1  1     37248  ultralytics.nn.modules.block.C2f             [192, 64, 1]                  \n",
      " 16                  -1  1     36992  ultralytics.nn.modules.conv.Conv             [64, 64, 3, 2]                \n",
      " 17            [-1, 12]  1         0  ultralytics.nn.modules.conv.Concat           [1]                           \n",
      " 18                  -1  1    123648  ultralytics.nn.modules.block.C2f             [192, 128, 1]                 \n",
      " 19                  -1  1    147712  ultralytics.nn.modules.conv.Conv             [128, 128, 3, 2]              \n",
      " 20             [-1, 9]  1         0  ultralytics.nn.modules.conv.Concat           [1]                           \n",
      " 21                  -1  1    493056  ultralytics.nn.modules.block.C2f             [384, 256, 1]                 \n",
      " 22        [15, 18, 21]  1    439837  ultralytics.nn.modules.head.Detect           [47, [64, 128, 256]]          \n",
      "Model summary: 249 layers, 2,699,373 parameters, 2,699,357 gradients, 7.0 GFLOPs\n",
      "\n",
      "Transferred 313/391 items from pretrained weights\n",
      "Freezing layer 'model.22.dfl.conv.weight'\n"
     ]
    },
    {
     "name": "stderr",
     "output_type": "stream",
     "text": [
      "\u001b[34m\u001b[1mtrain: \u001b[0mScanning C:\\Users\\test\\Desktop\\waste detection.v4-add-pp-bag-8-1-1-.coco\\train\\labels... 636 images, 2 backgrounds, 0 corrupt: 100%|██████████| 638/638 [00:00<00:00, 1118.79it/s]"
     ]
    },
    {
     "name": "stdout",
     "output_type": "stream",
     "text": [
      "\u001b[34m\u001b[1mtrain: \u001b[0mNew cache created: C:\\Users\\test\\Desktop\\waste detection.v4-add-pp-bag-8-1-1-.coco\\train\\labels.cache\n"
     ]
    },
    {
     "name": "stderr",
     "output_type": "stream",
     "text": [
      "\n",
      "\u001b[34m\u001b[1mval: \u001b[0mScanning C:\\Users\\test\\Desktop\\waste detection.v4-add-pp-bag-8-1-1-.coco\\valid\\labels... 79 images, 0 backgrounds, 0 corrupt: 100%|██████████| 79/79 [00:00<00:00, 1040.08it/s]"
     ]
    },
    {
     "name": "stdout",
     "output_type": "stream",
     "text": [
      "\u001b[34m\u001b[1mval: \u001b[0mNew cache created: C:\\Users\\test\\Desktop\\waste detection.v4-add-pp-bag-8-1-1-.coco\\valid\\labels.cache\n"
     ]
    },
    {
     "name": "stderr",
     "output_type": "stream",
     "text": [
      "\n"
     ]
    },
    {
     "name": "stdout",
     "output_type": "stream",
     "text": [
      "Plotting labels to C:\\Users\\test\\Desktop\\waste detection.v4-add-pp-bag-8-1-1-.coco\\results_20241122_201936\\waste_detection_model\\labels.jpg... \n",
      "\u001b[34m\u001b[1moptimizer:\u001b[0m 'optimizer=auto' found, ignoring 'lr0=0.01' and 'momentum=0.937' and determining best 'optimizer', 'lr0' and 'momentum' automatically... \n",
      "\u001b[34m\u001b[1moptimizer:\u001b[0m AdamW(lr=0.000196, momentum=0.9) with parameter groups 63 weight(decay=0.0), 70 weight(decay=0.0005), 69 bias(decay=0.0)\n",
      "Image sizes 640 train, 640 val\n",
      "Using 0 dataloader workers\n",
      "Logging results to \u001b[1mC:\\Users\\test\\Desktop\\waste detection.v4-add-pp-bag-8-1-1-.coco\\results_20241122_201936\\waste_detection_model\u001b[0m\n",
      "Starting training for 100 epochs...\n",
      "\n",
      "      Epoch    GPU_mem   box_loss   cls_loss   dfl_loss  Instances       Size\n"
     ]
    },
    {
     "name": "stderr",
     "output_type": "stream",
     "text": [
      "      1/100         0G      1.502      4.759      1.468         57        640: 100%|██████████| 80/80 [01:26<00:00,  1.08s/it]\n",
      "                 Class     Images  Instances      Box(P          R      mAP50  mAP50-95): 100%|██████████| 5/5 [00:04<00:00,  1.16it/s]"
     ]
    },
    {
     "name": "stdout",
     "output_type": "stream",
     "text": [
      "                   all         79        333     0.0222     0.0138     0.0175     0.0133\n"
     ]
    },
    {
     "name": "stderr",
     "output_type": "stream",
     "text": [
      "\n"
     ]
    },
    {
     "name": "stdout",
     "output_type": "stream",
     "text": [
      "\n",
      "      Epoch    GPU_mem   box_loss   cls_loss   dfl_loss  Instances       Size\n"
     ]
    },
    {
     "name": "stderr",
     "output_type": "stream",
     "text": [
      "      2/100         0G      1.436      4.343       1.37         45        640: 100%|██████████| 80/80 [01:13<00:00,  1.08it/s]\n",
      "                 Class     Images  Instances      Box(P          R      mAP50  mAP50-95): 100%|██████████| 5/5 [00:03<00:00,  1.25it/s]"
     ]
    },
    {
     "name": "stdout",
     "output_type": "stream",
     "text": [
      "                   all         79        333      0.805     0.0314     0.0324     0.0223\n"
     ]
    },
    {
     "name": "stderr",
     "output_type": "stream",
     "text": [
      "\n"
     ]
    },
    {
     "name": "stdout",
     "output_type": "stream",
     "text": [
      "\n",
      "      Epoch    GPU_mem   box_loss   cls_loss   dfl_loss  Instances       Size\n"
     ]
    },
    {
     "name": "stderr",
     "output_type": "stream",
     "text": [
      "      3/100         0G      1.478      3.882      1.362         40        640: 100%|██████████| 80/80 [01:16<00:00,  1.04it/s]\n",
      "                 Class     Images  Instances      Box(P          R      mAP50  mAP50-95): 100%|██████████| 5/5 [00:03<00:00,  1.38it/s]"
     ]
    },
    {
     "name": "stdout",
     "output_type": "stream",
     "text": [
      "                   all         79        333       0.94     0.0403     0.0442     0.0288\n",
      "\n",
      "      Epoch    GPU_mem   box_loss   cls_loss   dfl_loss  Instances       Size\n"
     ]
    },
    {
     "name": "stderr",
     "output_type": "stream",
     "text": [
      "\n",
      "      4/100         0G      1.468      3.441      1.364         42        640: 100%|██████████| 80/80 [01:17<00:00,  1.03it/s]\n",
      "                 Class     Images  Instances      Box(P          R      mAP50  mAP50-95): 100%|██████████| 5/5 [00:03<00:00,  1.34it/s]"
     ]
    },
    {
     "name": "stdout",
     "output_type": "stream",
     "text": [
      "                   all         79        333      0.919     0.0473     0.0533     0.0332\n",
      "\n",
      "      Epoch    GPU_mem   box_loss   cls_loss   dfl_loss  Instances       Size\n"
     ]
    },
    {
     "name": "stderr",
     "output_type": "stream",
     "text": [
      "\n",
      "      5/100         0G      1.438      3.164      1.358         51        640: 100%|██████████| 80/80 [01:13<00:00,  1.08it/s]\n",
      "                 Class     Images  Instances      Box(P          R      mAP50  mAP50-95): 100%|██████████| 5/5 [00:03<00:00,  1.34it/s]"
     ]
    },
    {
     "name": "stdout",
     "output_type": "stream",
     "text": [
      "                   all         79        333      0.874     0.0587     0.0562     0.0334\n",
      "\n",
      "      Epoch    GPU_mem   box_loss   cls_loss   dfl_loss  Instances       Size\n"
     ]
    },
    {
     "name": "stderr",
     "output_type": "stream",
     "text": [
      "\n",
      "      6/100         0G      1.418      2.827      1.344         42        640: 100%|██████████| 80/80 [01:10<00:00,  1.13it/s]\n",
      "                 Class     Images  Instances      Box(P          R      mAP50  mAP50-95): 100%|██████████| 5/5 [00:03<00:00,  1.35it/s]"
     ]
    },
    {
     "name": "stdout",
     "output_type": "stream",
     "text": [
      "                   all         79        333      0.822     0.0446     0.0547     0.0333\n"
     ]
    },
    {
     "name": "stderr",
     "output_type": "stream",
     "text": [
      "\n"
     ]
    },
    {
     "name": "stdout",
     "output_type": "stream",
     "text": [
      "\n",
      "      Epoch    GPU_mem   box_loss   cls_loss   dfl_loss  Instances       Size\n"
     ]
    },
    {
     "name": "stderr",
     "output_type": "stream",
     "text": [
      "      7/100         0G       1.42      2.708      1.332         33        640: 100%|██████████| 80/80 [01:11<00:00,  1.12it/s]\n",
      "                 Class     Images  Instances      Box(P          R      mAP50  mAP50-95): 100%|██████████| 5/5 [00:03<00:00,  1.35it/s]"
     ]
    },
    {
     "name": "stdout",
     "output_type": "stream",
     "text": [
      "                   all         79        333      0.756     0.0599     0.0576     0.0346\n"
     ]
    },
    {
     "name": "stderr",
     "output_type": "stream",
     "text": [
      "\n"
     ]
    },
    {
     "name": "stdout",
     "output_type": "stream",
     "text": [
      "\n",
      "      Epoch    GPU_mem   box_loss   cls_loss   dfl_loss  Instances       Size\n"
     ]
    },
    {
     "name": "stderr",
     "output_type": "stream",
     "text": [
      "      8/100         0G      1.399       2.48       1.34         32        640: 100%|██████████| 80/80 [01:11<00:00,  1.12it/s]\n",
      "                 Class     Images  Instances      Box(P          R      mAP50  mAP50-95): 100%|██████████| 5/5 [00:03<00:00,  1.36it/s]"
     ]
    },
    {
     "name": "stdout",
     "output_type": "stream",
     "text": [
      "                   all         79        333      0.682     0.0794     0.0656     0.0382\n"
     ]
    },
    {
     "name": "stderr",
     "output_type": "stream",
     "text": [
      "\n"
     ]
    },
    {
     "name": "stdout",
     "output_type": "stream",
     "text": [
      "\n",
      "      Epoch    GPU_mem   box_loss   cls_loss   dfl_loss  Instances       Size\n"
     ]
    },
    {
     "name": "stderr",
     "output_type": "stream",
     "text": [
      "      9/100         0G      1.395      2.439      1.361         40        640: 100%|██████████| 80/80 [01:11<00:00,  1.12it/s]\n",
      "                 Class     Images  Instances      Box(P          R      mAP50  mAP50-95): 100%|██████████| 5/5 [00:03<00:00,  1.25it/s]"
     ]
    },
    {
     "name": "stdout",
     "output_type": "stream",
     "text": [
      "                   all         79        333      0.699     0.0587     0.0615      0.037\n"
     ]
    },
    {
     "name": "stderr",
     "output_type": "stream",
     "text": [
      "\n"
     ]
    },
    {
     "name": "stdout",
     "output_type": "stream",
     "text": [
      "\n",
      "      Epoch    GPU_mem   box_loss   cls_loss   dfl_loss  Instances       Size\n"
     ]
    },
    {
     "name": "stderr",
     "output_type": "stream",
     "text": [
      "     10/100         0G      1.359        2.3      1.331         40        640: 100%|██████████| 80/80 [01:11<00:00,  1.12it/s]\n",
      "                 Class     Images  Instances      Box(P          R      mAP50  mAP50-95): 100%|██████████| 5/5 [00:03<00:00,  1.36it/s]"
     ]
    },
    {
     "name": "stdout",
     "output_type": "stream",
     "text": [
      "                   all         79        333      0.689     0.0873     0.0727     0.0434\n"
     ]
    },
    {
     "name": "stderr",
     "output_type": "stream",
     "text": [
      "\n"
     ]
    },
    {
     "name": "stdout",
     "output_type": "stream",
     "text": [
      "\n",
      "      Epoch    GPU_mem   box_loss   cls_loss   dfl_loss  Instances       Size\n"
     ]
    },
    {
     "name": "stderr",
     "output_type": "stream",
     "text": [
      "     11/100         0G      1.369      2.251       1.32         45        640: 100%|██████████| 80/80 [01:10<00:00,  1.13it/s]\n",
      "                 Class     Images  Instances      Box(P          R      mAP50  mAP50-95): 100%|██████████| 5/5 [00:03<00:00,  1.34it/s]"
     ]
    },
    {
     "name": "stdout",
     "output_type": "stream",
     "text": [
      "                   all         79        333      0.665     0.0708      0.074     0.0448\n"
     ]
    },
    {
     "name": "stderr",
     "output_type": "stream",
     "text": [
      "\n"
     ]
    },
    {
     "name": "stdout",
     "output_type": "stream",
     "text": [
      "\n",
      "      Epoch    GPU_mem   box_loss   cls_loss   dfl_loss  Instances       Size\n"
     ]
    },
    {
     "name": "stderr",
     "output_type": "stream",
     "text": [
      "     12/100         0G      1.362      2.125       1.33         44        640: 100%|██████████| 80/80 [01:10<00:00,  1.13it/s]\n",
      "                 Class     Images  Instances      Box(P          R      mAP50  mAP50-95): 100%|██████████| 5/5 [00:03<00:00,  1.36it/s]"
     ]
    },
    {
     "name": "stdout",
     "output_type": "stream",
     "text": [
      "                   all         79        333      0.629     0.0883     0.0745     0.0446\n"
     ]
    },
    {
     "name": "stderr",
     "output_type": "stream",
     "text": [
      "\n"
     ]
    },
    {
     "name": "stdout",
     "output_type": "stream",
     "text": [
      "\n",
      "      Epoch    GPU_mem   box_loss   cls_loss   dfl_loss  Instances       Size\n"
     ]
    },
    {
     "name": "stderr",
     "output_type": "stream",
     "text": [
      "     13/100         0G      1.319      2.093      1.305         36        640: 100%|██████████| 80/80 [01:14<00:00,  1.07it/s]\n",
      "                 Class     Images  Instances      Box(P          R      mAP50  mAP50-95): 100%|██████████| 5/5 [00:03<00:00,  1.30it/s]"
     ]
    },
    {
     "name": "stdout",
     "output_type": "stream",
     "text": [
      "                   all         79        333      0.741     0.0715     0.0857     0.0488\n"
     ]
    },
    {
     "name": "stderr",
     "output_type": "stream",
     "text": [
      "\n"
     ]
    },
    {
     "name": "stdout",
     "output_type": "stream",
     "text": [
      "\n",
      "      Epoch    GPU_mem   box_loss   cls_loss   dfl_loss  Instances       Size\n"
     ]
    },
    {
     "name": "stderr",
     "output_type": "stream",
     "text": [
      "     14/100         0G       1.34       2.08      1.316         43        640: 100%|██████████| 80/80 [01:11<00:00,  1.13it/s]\n",
      "                 Class     Images  Instances      Box(P          R      mAP50  mAP50-95): 100%|██████████| 5/5 [00:03<00:00,  1.35it/s]"
     ]
    },
    {
     "name": "stdout",
     "output_type": "stream",
     "text": [
      "                   all         79        333      0.689     0.0928     0.0883     0.0505\n"
     ]
    },
    {
     "name": "stderr",
     "output_type": "stream",
     "text": [
      "\n"
     ]
    },
    {
     "name": "stdout",
     "output_type": "stream",
     "text": [
      "\n",
      "      Epoch    GPU_mem   box_loss   cls_loss   dfl_loss  Instances       Size\n"
     ]
    },
    {
     "name": "stderr",
     "output_type": "stream",
     "text": [
      "     15/100         0G      1.342      2.076      1.328         29        640: 100%|██████████| 80/80 [01:10<00:00,  1.13it/s]\n",
      "                 Class     Images  Instances      Box(P          R      mAP50  mAP50-95): 100%|██████████| 5/5 [00:03<00:00,  1.35it/s]"
     ]
    },
    {
     "name": "stdout",
     "output_type": "stream",
     "text": [
      "                   all         79        333      0.587      0.106     0.0958     0.0551\n"
     ]
    },
    {
     "name": "stderr",
     "output_type": "stream",
     "text": [
      "\n"
     ]
    },
    {
     "name": "stdout",
     "output_type": "stream",
     "text": [
      "\n",
      "      Epoch    GPU_mem   box_loss   cls_loss   dfl_loss  Instances       Size\n"
     ]
    },
    {
     "name": "stderr",
     "output_type": "stream",
     "text": [
      "     16/100         0G      1.321      1.988      1.306         39        640: 100%|██████████| 80/80 [01:10<00:00,  1.13it/s]\n",
      "                 Class     Images  Instances      Box(P          R      mAP50  mAP50-95): 100%|██████████| 5/5 [00:03<00:00,  1.34it/s]"
     ]
    },
    {
     "name": "stdout",
     "output_type": "stream",
     "text": [
      "                   all         79        333      0.617      0.109      0.099     0.0564\n"
     ]
    },
    {
     "name": "stderr",
     "output_type": "stream",
     "text": [
      "\n"
     ]
    },
    {
     "name": "stdout",
     "output_type": "stream",
     "text": [
      "\n",
      "      Epoch    GPU_mem   box_loss   cls_loss   dfl_loss  Instances       Size\n"
     ]
    },
    {
     "name": "stderr",
     "output_type": "stream",
     "text": [
      "     17/100         0G      1.333      1.959        1.3         31        640: 100%|██████████| 80/80 [01:10<00:00,  1.13it/s]\n",
      "                 Class     Images  Instances      Box(P          R      mAP50  mAP50-95): 100%|██████████| 5/5 [00:03<00:00,  1.35it/s]"
     ]
    },
    {
     "name": "stdout",
     "output_type": "stream",
     "text": [
      "                   all         79        333      0.639     0.0936      0.103     0.0592\n"
     ]
    },
    {
     "name": "stderr",
     "output_type": "stream",
     "text": [
      "\n"
     ]
    },
    {
     "name": "stdout",
     "output_type": "stream",
     "text": [
      "\n",
      "      Epoch    GPU_mem   box_loss   cls_loss   dfl_loss  Instances       Size\n"
     ]
    },
    {
     "name": "stderr",
     "output_type": "stream",
     "text": [
      "     18/100         0G      1.302      1.968      1.297         69        640: 100%|██████████| 80/80 [01:10<00:00,  1.13it/s]\n",
      "                 Class     Images  Instances      Box(P          R      mAP50  mAP50-95): 100%|██████████| 5/5 [00:03<00:00,  1.34it/s]"
     ]
    },
    {
     "name": "stdout",
     "output_type": "stream",
     "text": [
      "                   all         79        333       0.64     0.0915      0.108     0.0607\n"
     ]
    },
    {
     "name": "stderr",
     "output_type": "stream",
     "text": [
      "\n"
     ]
    },
    {
     "name": "stdout",
     "output_type": "stream",
     "text": [
      "\n",
      "      Epoch    GPU_mem   box_loss   cls_loss   dfl_loss  Instances       Size\n"
     ]
    },
    {
     "name": "stderr",
     "output_type": "stream",
     "text": [
      "     19/100         0G      1.325        1.9      1.298         48        640: 100%|██████████| 80/80 [01:10<00:00,  1.13it/s]\n",
      "                 Class     Images  Instances      Box(P          R      mAP50  mAP50-95): 100%|██████████| 5/5 [00:03<00:00,  1.35it/s]"
     ]
    },
    {
     "name": "stdout",
     "output_type": "stream",
     "text": [
      "                   all         79        333       0.62      0.105      0.107     0.0589\n",
      "\n",
      "      Epoch    GPU_mem   box_loss   cls_loss   dfl_loss  Instances       Size\n"
     ]
    },
    {
     "name": "stderr",
     "output_type": "stream",
     "text": [
      "\n",
      "     20/100         0G      1.289      1.837      1.285         48        640: 100%|██████████| 80/80 [01:10<00:00,  1.13it/s]\n",
      "                 Class     Images  Instances      Box(P          R      mAP50  mAP50-95): 100%|██████████| 5/5 [00:03<00:00,  1.35it/s]"
     ]
    },
    {
     "name": "stdout",
     "output_type": "stream",
     "text": [
      "                   all         79        333      0.664      0.121      0.117     0.0644\n",
      "\n",
      "      Epoch    GPU_mem   box_loss   cls_loss   dfl_loss  Instances       Size\n"
     ]
    },
    {
     "name": "stderr",
     "output_type": "stream",
     "text": [
      "\n",
      "     21/100         0G      1.264      1.848      1.274         34        640: 100%|██████████| 80/80 [01:10<00:00,  1.13it/s]\n",
      "                 Class     Images  Instances      Box(P          R      mAP50  mAP50-95): 100%|██████████| 5/5 [00:03<00:00,  1.35it/s]"
     ]
    },
    {
     "name": "stdout",
     "output_type": "stream",
     "text": [
      "                   all         79        333      0.554      0.114      0.117     0.0655\n"
     ]
    },
    {
     "name": "stderr",
     "output_type": "stream",
     "text": [
      "\n"
     ]
    },
    {
     "name": "stdout",
     "output_type": "stream",
     "text": [
      "\n",
      "      Epoch    GPU_mem   box_loss   cls_loss   dfl_loss  Instances       Size\n"
     ]
    },
    {
     "name": "stderr",
     "output_type": "stream",
     "text": [
      "     22/100         0G      1.274      1.827      1.291         24        640: 100%|██████████| 80/80 [01:10<00:00,  1.13it/s]\n",
      "                 Class     Images  Instances      Box(P          R      mAP50  mAP50-95): 100%|██████████| 5/5 [00:03<00:00,  1.35it/s]"
     ]
    },
    {
     "name": "stdout",
     "output_type": "stream",
     "text": [
      "                   all         79        333      0.613      0.107      0.113     0.0617\n"
     ]
    },
    {
     "name": "stderr",
     "output_type": "stream",
     "text": [
      "\n"
     ]
    },
    {
     "name": "stdout",
     "output_type": "stream",
     "text": [
      "\n",
      "      Epoch    GPU_mem   box_loss   cls_loss   dfl_loss  Instances       Size\n"
     ]
    },
    {
     "name": "stderr",
     "output_type": "stream",
     "text": [
      "     23/100         0G      1.268      1.803      1.285         43        640: 100%|██████████| 80/80 [01:10<00:00,  1.13it/s]\n",
      "                 Class     Images  Instances      Box(P          R      mAP50  mAP50-95): 100%|██████████| 5/5 [00:03<00:00,  1.35it/s]"
     ]
    },
    {
     "name": "stdout",
     "output_type": "stream",
     "text": [
      "                   all         79        333      0.503      0.135      0.128     0.0748\n"
     ]
    },
    {
     "name": "stderr",
     "output_type": "stream",
     "text": [
      "\n"
     ]
    },
    {
     "name": "stdout",
     "output_type": "stream",
     "text": [
      "\n",
      "      Epoch    GPU_mem   box_loss   cls_loss   dfl_loss  Instances       Size\n"
     ]
    },
    {
     "name": "stderr",
     "output_type": "stream",
     "text": [
      "     24/100         0G      1.253      1.761      1.272         47        640: 100%|██████████| 80/80 [01:10<00:00,  1.14it/s]\n",
      "                 Class     Images  Instances      Box(P          R      mAP50  mAP50-95): 100%|██████████| 5/5 [00:03<00:00,  1.34it/s]"
     ]
    },
    {
     "name": "stdout",
     "output_type": "stream",
     "text": [
      "                   all         79        333      0.507       0.12      0.121     0.0682\n",
      "\n",
      "      Epoch    GPU_mem   box_loss   cls_loss   dfl_loss  Instances       Size\n"
     ]
    },
    {
     "name": "stderr",
     "output_type": "stream",
     "text": [
      "\n",
      "     25/100         0G      1.259      1.789      1.271         31        640: 100%|██████████| 80/80 [01:10<00:00,  1.13it/s]\n",
      "                 Class     Images  Instances      Box(P          R      mAP50  mAP50-95): 100%|██████████| 5/5 [00:03<00:00,  1.35it/s]"
     ]
    },
    {
     "name": "stdout",
     "output_type": "stream",
     "text": [
      "                   all         79        333      0.564      0.121      0.119     0.0683\n"
     ]
    },
    {
     "name": "stderr",
     "output_type": "stream",
     "text": [
      "\n"
     ]
    },
    {
     "name": "stdout",
     "output_type": "stream",
     "text": [
      "\n",
      "      Epoch    GPU_mem   box_loss   cls_loss   dfl_loss  Instances       Size\n"
     ]
    },
    {
     "name": "stderr",
     "output_type": "stream",
     "text": [
      "     26/100         0G      1.276       1.75      1.269         35        640: 100%|██████████| 80/80 [01:10<00:00,  1.13it/s]\n",
      "                 Class     Images  Instances      Box(P          R      mAP50  mAP50-95): 100%|██████████| 5/5 [00:03<00:00,  1.34it/s]"
     ]
    },
    {
     "name": "stdout",
     "output_type": "stream",
     "text": [
      "                   all         79        333      0.573      0.116      0.123     0.0701\n",
      "\n",
      "      Epoch    GPU_mem   box_loss   cls_loss   dfl_loss  Instances       Size\n"
     ]
    },
    {
     "name": "stderr",
     "output_type": "stream",
     "text": [
      "\n",
      "     27/100         0G      1.259      1.741      1.265         54        640: 100%|██████████| 80/80 [01:10<00:00,  1.13it/s]\n",
      "                 Class     Images  Instances      Box(P          R      mAP50  mAP50-95): 100%|██████████| 5/5 [00:03<00:00,  1.34it/s]"
     ]
    },
    {
     "name": "stdout",
     "output_type": "stream",
     "text": [
      "                   all         79        333      0.573       0.12      0.119     0.0657\n",
      "\n",
      "      Epoch    GPU_mem   box_loss   cls_loss   dfl_loss  Instances       Size\n"
     ]
    },
    {
     "name": "stderr",
     "output_type": "stream",
     "text": [
      "\n",
      "     28/100         0G      1.247      1.693      1.257         41        640: 100%|██████████| 80/80 [01:10<00:00,  1.13it/s]\n",
      "                 Class     Images  Instances      Box(P          R      mAP50  mAP50-95): 100%|██████████| 5/5 [00:03<00:00,  1.36it/s]"
     ]
    },
    {
     "name": "stdout",
     "output_type": "stream",
     "text": [
      "                   all         79        333      0.548      0.179       0.13     0.0752\n",
      "\n",
      "      Epoch    GPU_mem   box_loss   cls_loss   dfl_loss  Instances       Size\n"
     ]
    },
    {
     "name": "stderr",
     "output_type": "stream",
     "text": [
      "\n",
      "     29/100         0G      1.222      1.713      1.254         48        640: 100%|██████████| 80/80 [01:10<00:00,  1.14it/s]\n",
      "                 Class     Images  Instances      Box(P          R      mAP50  mAP50-95): 100%|██████████| 5/5 [00:03<00:00,  1.35it/s]"
     ]
    },
    {
     "name": "stdout",
     "output_type": "stream",
     "text": [
      "                   all         79        333      0.488      0.156      0.137      0.077\n"
     ]
    },
    {
     "name": "stderr",
     "output_type": "stream",
     "text": [
      "\n"
     ]
    },
    {
     "name": "stdout",
     "output_type": "stream",
     "text": [
      "\n",
      "      Epoch    GPU_mem   box_loss   cls_loss   dfl_loss  Instances       Size\n"
     ]
    },
    {
     "name": "stderr",
     "output_type": "stream",
     "text": [
      "     30/100         0G      1.231       1.67       1.25         59        640: 100%|██████████| 80/80 [01:10<00:00,  1.13it/s]\n",
      "                 Class     Images  Instances      Box(P          R      mAP50  mAP50-95): 100%|██████████| 5/5 [00:03<00:00,  1.35it/s]"
     ]
    },
    {
     "name": "stdout",
     "output_type": "stream",
     "text": [
      "                   all         79        333      0.549      0.167      0.127     0.0712\n",
      "\n",
      "      Epoch    GPU_mem   box_loss   cls_loss   dfl_loss  Instances       Size\n"
     ]
    },
    {
     "name": "stderr",
     "output_type": "stream",
     "text": [
      "\n",
      "     31/100         0G      1.236      1.712       1.27         32        640: 100%|██████████| 80/80 [01:10<00:00,  1.13it/s]\n",
      "                 Class     Images  Instances      Box(P          R      mAP50  mAP50-95): 100%|██████████| 5/5 [00:03<00:00,  1.34it/s]"
     ]
    },
    {
     "name": "stdout",
     "output_type": "stream",
     "text": [
      "                   all         79        333      0.475      0.133      0.123     0.0697\n",
      "\n",
      "      Epoch    GPU_mem   box_loss   cls_loss   dfl_loss  Instances       Size\n"
     ]
    },
    {
     "name": "stderr",
     "output_type": "stream",
     "text": [
      "\n",
      "     32/100         0G      1.216      1.645      1.254         40        640: 100%|██████████| 80/80 [01:10<00:00,  1.14it/s]\n",
      "                 Class     Images  Instances      Box(P          R      mAP50  mAP50-95): 100%|██████████| 5/5 [00:03<00:00,  1.34it/s]"
     ]
    },
    {
     "name": "stdout",
     "output_type": "stream",
     "text": [
      "                   all         79        333      0.468      0.142      0.118     0.0679\n"
     ]
    },
    {
     "name": "stderr",
     "output_type": "stream",
     "text": [
      "\n"
     ]
    },
    {
     "name": "stdout",
     "output_type": "stream",
     "text": [
      "\n",
      "      Epoch    GPU_mem   box_loss   cls_loss   dfl_loss  Instances       Size\n"
     ]
    },
    {
     "name": "stderr",
     "output_type": "stream",
     "text": [
      "     33/100         0G       1.23      1.637      1.259         55        640: 100%|██████████| 80/80 [01:10<00:00,  1.13it/s]\n",
      "                 Class     Images  Instances      Box(P          R      mAP50  mAP50-95): 100%|██████████| 5/5 [00:03<00:00,  1.36it/s]"
     ]
    },
    {
     "name": "stdout",
     "output_type": "stream",
     "text": [
      "                   all         79        333      0.515      0.156      0.132     0.0696\n"
     ]
    },
    {
     "name": "stderr",
     "output_type": "stream",
     "text": [
      "\n"
     ]
    },
    {
     "name": "stdout",
     "output_type": "stream",
     "text": [
      "\n",
      "      Epoch    GPU_mem   box_loss   cls_loss   dfl_loss  Instances       Size\n"
     ]
    },
    {
     "name": "stderr",
     "output_type": "stream",
     "text": [
      "     34/100         0G       1.22      1.566      1.234         34        640: 100%|██████████| 80/80 [01:10<00:00,  1.13it/s]\n",
      "                 Class     Images  Instances      Box(P          R      mAP50  mAP50-95): 100%|██████████| 5/5 [00:03<00:00,  1.34it/s]"
     ]
    },
    {
     "name": "stdout",
     "output_type": "stream",
     "text": [
      "                   all         79        333      0.538      0.132      0.137     0.0708\n",
      "\u001b[34m\u001b[1mEarlyStopping: \u001b[0mTraining stopped early as no improvement observed in last 5 epochs. Best results observed at epoch 29, best model saved as best.pt.\n",
      "To update EarlyStopping(patience=5) pass a new patience value, i.e. `patience=300` or use `patience=0` to disable EarlyStopping.\n",
      "\n",
      "34 epochs completed in 0.716 hours.\n"
     ]
    },
    {
     "name": "stderr",
     "output_type": "stream",
     "text": [
      "\n"
     ]
    },
    {
     "name": "stdout",
     "output_type": "stream",
     "text": [
      "Optimizer stripped from C:\\Users\\test\\Desktop\\waste detection.v4-add-pp-bag-8-1-1-.coco\\results_20241122_201936\\waste_detection_model\\weights\\last.pt, 5.6MB\n",
      "Optimizer stripped from C:\\Users\\test\\Desktop\\waste detection.v4-add-pp-bag-8-1-1-.coco\\results_20241122_201936\\waste_detection_model\\weights\\best.pt, 5.6MB\n",
      "\n",
      "Validating C:\\Users\\test\\Desktop\\waste detection.v4-add-pp-bag-8-1-1-.coco\\results_20241122_201936\\waste_detection_model\\weights\\best.pt...\n",
      "Ultralytics 8.3.13  Python-3.12.7 torch-2.4.1+cpu CPU (12th Gen Intel Core(TM) i7-12700K)\n",
      "Model summary (fused): 186 layers, 2,693,533 parameters, 0 gradients, 6.9 GFLOPs\n"
     ]
    },
    {
     "name": "stderr",
     "output_type": "stream",
     "text": [
      "                 Class     Images  Instances      Box(P          R      mAP50  mAP50-95): 100%|██████████| 5/5 [00:03<00:00,  1.63it/s]\n"
     ]
    },
    {
     "name": "stdout",
     "output_type": "stream",
     "text": [
      "                   all         79        333      0.487      0.153      0.137     0.0766\n",
      "              Aquarium          1          1          0          0          0          0\n",
      "               Bathtub          1          1          1          0          0          0\n",
      "                   Bed          4          4      0.133       0.25     0.0685     0.0406\n",
      "         Bedding items          6          7          1          0        0.1     0.0678\n",
      "              Bookcase          2          4          0          0          0          0\n",
      "             Bookstand          2          2          1          0          0          0\n",
      "               Cabinet          2          4          1          0     0.0137     0.0123\n",
      "              CleanNet         47         87      0.799      0.912       0.92      0.664\n",
      "   Clothes drying rack          1          1          0          0          0          0\n",
      "                  Desk          1          1          0          0          0          0\n",
      "          Dining table          1          1          0          0     0.0076    0.00304\n",
      "         Display stand          1          1          1          0          0          0\n",
      "            Door panel          3          3          1          0     0.0305     0.0244\n",
      "           Drawer unit          8         13      0.239      0.459      0.154      0.103\n",
      "     General waste bag         20         39      0.235      0.615      0.397      0.201\n",
      "                Heater          1          1          0          0          0          0\n",
      "                   Mat          3          3          0          0     0.0532     0.0353\n",
      "                PP bag         11         57       0.51      0.807      0.716      0.343\n",
      "             Shoe rack          1          1          0          0          0          0\n",
      "                  Sofa          5          7      0.189      0.429       0.23      0.126\n",
      "              Stroller          2          2          1          0          0          0\n",
      "                 Table          5          6          0          0     0.0154    0.00781\n",
      "           Toilet bowl          1          2          1          0          0          0\n",
      "              Wardrobe          1          1          1          0      0.124     0.0871\n",
      "               bicycle          4         11      0.787     0.0909      0.465      0.177\n",
      "                 chair          7          9      0.409      0.162      0.235     0.0988\n",
      "                lumber          3          8      0.053      0.125     0.0564     0.0381\n",
      "          refrigerator          1          1          1          0     0.0905     0.0526\n",
      "              suitcase          3          3          1          0          0          0\n",
      "            waste pile         41         52      0.248       0.75      0.422      0.216\n",
      "Speed: 0.8ms preprocess, 30.6ms inference, 0.0ms loss, 0.6ms postprocess per image\n",
      "Results saved to \u001b[1mC:\\Users\\test\\Desktop\\waste detection.v4-add-pp-bag-8-1-1-.coco\\results_20241122_201936\\waste_detection_model\u001b[0m\n",
      "\n",
      "Error during training: object of type 'numpy.float64' has no len()\n"
     ]
    },
    {
     "ename": "TypeError",
     "evalue": "object of type 'numpy.float64' has no len()",
     "output_type": "error",
     "traceback": [
      "\u001b[1;31m---------------------------------------------------------------------------\u001b[0m",
      "\u001b[1;31mTypeError\u001b[0m                                 Traceback (most recent call last)",
      "Cell \u001b[1;32mIn[1], line 322\u001b[0m\n\u001b[0;32m    319\u001b[0m         \u001b[38;5;28;01mraise\u001b[39;00m\n\u001b[0;32m    321\u001b[0m \u001b[38;5;28;01mif\u001b[39;00m \u001b[38;5;18m__name__\u001b[39m \u001b[38;5;241m==\u001b[39m \u001b[38;5;124m\"\u001b[39m\u001b[38;5;124m__main__\u001b[39m\u001b[38;5;124m\"\u001b[39m:\n\u001b[1;32m--> 322\u001b[0m     \u001b[43mmain\u001b[49m\u001b[43m(\u001b[49m\u001b[43m)\u001b[49m\n",
      "Cell \u001b[1;32mIn[1], line 270\u001b[0m, in \u001b[0;36mmain\u001b[1;34m()\u001b[0m\n\u001b[0;32m    268\u001b[0m \u001b[38;5;66;03m# Plot and save metrics\u001b[39;00m\n\u001b[0;32m    269\u001b[0m plot_metrics(metrics_dict, results_dir)\n\u001b[1;32m--> 270\u001b[0m \u001b[43msave_metrics_csv\u001b[49m\u001b[43m(\u001b[49m\u001b[43mmetrics_dict\u001b[49m\u001b[43m,\u001b[49m\u001b[43m \u001b[49m\u001b[43mresults_dir\u001b[49m\u001b[43m)\u001b[49m\n\u001b[0;32m    272\u001b[0m \u001b[38;5;66;03m# Evaluate the model on test set\u001b[39;00m\n\u001b[0;32m    273\u001b[0m \u001b[38;5;28mprint\u001b[39m(\u001b[38;5;124m\"\u001b[39m\u001b[38;5;130;01m\\n\u001b[39;00m\u001b[38;5;124mEvaluating model on test set...\u001b[39m\u001b[38;5;124m\"\u001b[39m)\n",
      "Cell \u001b[1;32mIn[1], line 158\u001b[0m, in \u001b[0;36msave_metrics_csv\u001b[1;34m(results_dict, save_dir)\u001b[0m\n\u001b[0;32m    153\u001b[0m \u001b[38;5;28;01mdef\u001b[39;00m \u001b[38;5;21msave_metrics_csv\u001b[39m(results_dict, save_dir):\n\u001b[0;32m    154\u001b[0m \u001b[38;5;250m    \u001b[39m\u001b[38;5;124;03m\"\"\"\u001b[39;00m\n\u001b[0;32m    155\u001b[0m \u001b[38;5;124;03m    Saves metrics to a CSV file\u001b[39;00m\n\u001b[0;32m    156\u001b[0m \u001b[38;5;124;03m    \"\"\"\u001b[39;00m\n\u001b[0;32m    157\u001b[0m     metrics_df \u001b[38;5;241m=\u001b[39m pd\u001b[38;5;241m.\u001b[39mDataFrame({\n\u001b[1;32m--> 158\u001b[0m         \u001b[38;5;124m'\u001b[39m\u001b[38;5;124mepoch\u001b[39m\u001b[38;5;124m'\u001b[39m: \u001b[38;5;28mrange\u001b[39m(\u001b[38;5;241m1\u001b[39m, \u001b[38;5;28;43mlen\u001b[39;49m\u001b[43m(\u001b[49m\u001b[43mresults_dict\u001b[49m\u001b[43m[\u001b[49m\u001b[38;5;124;43m'\u001b[39;49m\u001b[38;5;124;43mprecision\u001b[39;49m\u001b[38;5;124;43m'\u001b[39;49m\u001b[43m]\u001b[49m\u001b[43m)\u001b[49m \u001b[38;5;241m+\u001b[39m \u001b[38;5;241m1\u001b[39m),\n\u001b[0;32m    159\u001b[0m         \u001b[38;5;124m'\u001b[39m\u001b[38;5;124mprecision\u001b[39m\u001b[38;5;124m'\u001b[39m: results_dict[\u001b[38;5;124m'\u001b[39m\u001b[38;5;124mprecision\u001b[39m\u001b[38;5;124m'\u001b[39m],\n\u001b[0;32m    160\u001b[0m         \u001b[38;5;124m'\u001b[39m\u001b[38;5;124mrecall\u001b[39m\u001b[38;5;124m'\u001b[39m: results_dict[\u001b[38;5;124m'\u001b[39m\u001b[38;5;124mrecall\u001b[39m\u001b[38;5;124m'\u001b[39m],\n\u001b[0;32m    161\u001b[0m         \u001b[38;5;124m'\u001b[39m\u001b[38;5;124mmAP50\u001b[39m\u001b[38;5;124m'\u001b[39m: results_dict[\u001b[38;5;124m'\u001b[39m\u001b[38;5;124mmAP50\u001b[39m\u001b[38;5;124m'\u001b[39m],\n\u001b[0;32m    162\u001b[0m         \u001b[38;5;124m'\u001b[39m\u001b[38;5;124mmAP50-95\u001b[39m\u001b[38;5;124m'\u001b[39m: results_dict[\u001b[38;5;124m'\u001b[39m\u001b[38;5;124mmAP50-95\u001b[39m\u001b[38;5;124m'\u001b[39m]\n\u001b[0;32m    163\u001b[0m     })\n\u001b[0;32m    165\u001b[0m     csv_path \u001b[38;5;241m=\u001b[39m os\u001b[38;5;241m.\u001b[39mpath\u001b[38;5;241m.\u001b[39mjoin(save_dir, \u001b[38;5;124m'\u001b[39m\u001b[38;5;124mtraining_metrics.csv\u001b[39m\u001b[38;5;124m'\u001b[39m)\n\u001b[0;32m    166\u001b[0m     metrics_df\u001b[38;5;241m.\u001b[39mto_csv(csv_path, index\u001b[38;5;241m=\u001b[39m\u001b[38;5;28;01mFalse\u001b[39;00m)\n",
      "\u001b[1;31mTypeError\u001b[0m: object of type 'numpy.float64' has no len()"
     ]
    }
   ],
   "source": [
    "import os\n",
    "from ultralytics import YOLO\n",
    "import yaml\n",
    "import json\n",
    "from pathlib import Path\n",
    "import pandas as pd\n",
    "import matplotlib.pyplot as plt\n",
    "from datetime import datetime\n",
    "import shutil\n",
    "\n",
    "def verify_paths(paths_dict):\n",
    "    \"\"\"\n",
    "    주어진 경로들이 실제로 존재하는지 확인\n",
    "    \"\"\"\n",
    "    for name, path in paths_dict.items():\n",
    "        if not os.path.exists(path):\n",
    "            raise FileNotFoundError(f\"{name} not found at: {path}\")\n",
    "        print(f\"Found {name} at: {path}\")\n",
    "\n",
    "def setup_directory_structure(base_path, splits=['train', 'valid', 'test']):\n",
    "    \"\"\"\n",
    "    Sets up the required directory structure for YOLOv8\n",
    "    \"\"\"\n",
    "    for split in splits:\n",
    "        # Create images directory\n",
    "        images_dir = os.path.join(base_path, split, 'images')\n",
    "        os.makedirs(images_dir, exist_ok=True)\n",
    "        \n",
    "        # Create labels directory\n",
    "        labels_dir = os.path.join(base_path, split, 'labels')\n",
    "        os.makedirs(labels_dir, exist_ok=True)\n",
    "        \n",
    "        # Move images to images directory\n",
    "        src_dir = os.path.join(base_path, split)\n",
    "        for file in os.listdir(src_dir):\n",
    "            if file.lower().endswith(('.jpg', '.jpeg', '.png', '.bmp')):\n",
    "                src_path = os.path.join(src_dir, file)\n",
    "                dst_path = os.path.join(images_dir, file)\n",
    "                if not os.path.exists(dst_path):\n",
    "                    shutil.move(src_path, dst_path)\n",
    "                    print(f\"Moved {file} to {images_dir}\")\n",
    "\n",
    "def extract_class_names_from_all_jsons(train_json, valid_json, test_json):\n",
    "    \"\"\"\n",
    "    Extracts unique class names from all JSON annotation files\n",
    "    \"\"\"\n",
    "    all_classes = set()\n",
    "    \n",
    "    # Process all JSON files\n",
    "    for json_path in [train_json, valid_json, test_json]:\n",
    "        try:\n",
    "            with open(json_path, 'r', encoding='utf-8') as f:\n",
    "                data = json.load(f)\n",
    "            \n",
    "            # Extract classes from current JSON using class_name\n",
    "            for image_data in data.values():\n",
    "                for annotation in image_data:\n",
    "                    all_classes.add(annotation['class_name'])\n",
    "                    \n",
    "        except Exception as e:\n",
    "            print(f\"Warning: Error processing {json_path}: {str(e)}\")\n",
    "    \n",
    "    # Sort classes for consistent ordering\n",
    "    return sorted(list(all_classes))\n",
    "\n",
    "def create_data_yaml(base_path, num_classes, names, yaml_path):\n",
    "    \"\"\"\n",
    "    Creates a YAML file for YOLOv8 training configuration\n",
    "    \"\"\"\n",
    "    data = {\n",
    "        'path': base_path,  # Dataset root dir\n",
    "        'train': os.path.join('train', 'images'),  # Train images relative path\n",
    "        'val': os.path.join('valid', 'images'),    # Val images relative path\n",
    "        'test': os.path.join('test', 'images'),    # Test images relative path\n",
    "        'nc': num_classes,    # Number of classes\n",
    "        'names': names        # Class names\n",
    "    }\n",
    "    \n",
    "    # Save YAML file\n",
    "    with open(yaml_path, 'w', encoding='utf-8') as f:\n",
    "        yaml.dump(data, f, default_flow_style=False, allow_unicode=True)\n",
    "    \n",
    "    print(f\"Created YAML file at: {yaml_path}\")\n",
    "    print(f\"Number of classes: {num_classes}\")\n",
    "    print(\"Classes in order:\")\n",
    "    for idx, name in enumerate(names):\n",
    "        print(f\"{idx}: {name}\")\n",
    "\n",
    "def convert_yolo_format(json_path, output_dir, class_to_idx):\n",
    "    \"\"\"\n",
    "    Converts JSON annotations to YOLO format using class_name\n",
    "    \"\"\"\n",
    "    try:\n",
    "        with open(json_path, 'r', encoding='utf-8') as f:\n",
    "            data = json.load(f)\n",
    "        \n",
    "        # Create output directory if it doesn't exist\n",
    "        os.makedirs(output_dir, exist_ok=True)\n",
    "        \n",
    "        # Count successful conversions\n",
    "        converted_count = 0\n",
    "        processed_files = set()\n",
    "        \n",
    "        # Convert each image's annotations\n",
    "        for image_name, annotations in data.items():\n",
    "            txt_path = os.path.join(output_dir, Path(image_name).stem + '.txt')\n",
    "            \n",
    "            with open(txt_path, 'w', encoding='utf-8') as f:\n",
    "                for ann in annotations:\n",
    "                    try:\n",
    "                        # Get class index from class_name (not using class_id)\n",
    "                        class_name = ann['class_name']\n",
    "                        class_idx = class_to_idx[class_name]\n",
    "                        \n",
    "                        # Get bbox coordinates (already in YOLO format)\n",
    "                        x_center, y_center, width, height = ann['bbox']\n",
    "                        \n",
    "                        # Write to file\n",
    "                        f.write(f\"{class_idx} {x_center} {y_center} {width} {height}\\n\")\n",
    "                        converted_count += 1\n",
    "                        processed_files.add(image_name)\n",
    "                        \n",
    "                    except KeyError as e:\n",
    "                        print(f\"Warning: Class {ann.get('class_name', 'unknown')} not found in class mapping\")\n",
    "                    except Exception as e:\n",
    "                        print(f\"Warning: Error processing annotation in {image_name}: {str(e)}\")\n",
    "        \n",
    "        print(f\"Successfully converted {converted_count} annotations for {len(processed_files)} images to: {output_dir}\")\n",
    "        \n",
    "    except Exception as e:\n",
    "        print(f\"Error processing {json_path}: {str(e)}\")\n",
    "\n",
    "def plot_metrics(results_dict, save_dir):\n",
    "    \"\"\"\n",
    "    Plots training metrics and saves the figures\n",
    "    \"\"\"\n",
    "    metrics = ['precision', 'recall', 'mAP50', 'mAP50-95']\n",
    "    plt.figure(figsize=(15, 10))\n",
    "    \n",
    "    for i, metric in enumerate(metrics, 1):\n",
    "        plt.subplot(2, 2, i)\n",
    "        plt.plot(results_dict[metric], label=f'all classes {metric}')\n",
    "        plt.title(f'Training {metric}')\n",
    "        plt.xlabel('epoch')\n",
    "        plt.ylabel(metric)\n",
    "        plt.grid(True)\n",
    "        plt.legend()\n",
    "    \n",
    "    plt.tight_layout()\n",
    "    plt.savefig(os.path.join(save_dir, 'training_metrics.png'))\n",
    "    plt.close()\n",
    "\n",
    "def save_metrics_csv(results_dict, save_dir):\n",
    "    \"\"\"\n",
    "    Saves metrics to a CSV file\n",
    "    \"\"\"\n",
    "    metrics_df = pd.DataFrame({\n",
    "        'epoch': range(1, len(results_dict['precision']) + 1),\n",
    "        'precision': results_dict['precision'],\n",
    "        'recall': results_dict['recall'],\n",
    "        'mAP50': results_dict['mAP50'],\n",
    "        'mAP50-95': results_dict['mAP50-95']\n",
    "    })\n",
    "    \n",
    "    csv_path = os.path.join(save_dir, 'training_metrics.csv')\n",
    "    metrics_df.to_csv(csv_path, index=False)\n",
    "    print(f\"Metrics saved to: {csv_path}\")\n",
    "    \n",
    "    # Print final metrics\n",
    "    final_metrics = metrics_df.iloc[-1]\n",
    "    print(\"\\nFinal Metrics:\")\n",
    "    print(f\"Precision: {final_metrics['precision']:.4f}\")\n",
    "    print(f\"Recall: {final_metrics['recall']:.4f}\")\n",
    "    print(f\"mAP50: {final_metrics['mAP50']:.4f}\")\n",
    "    print(f\"mAP50-95: {final_metrics['mAP50-95']:.4f}\")\n",
    "\n",
    "def main():\n",
    "    # Define paths\n",
    "    base_path = r\"C:\\Users\\test\\Desktop\\waste detection.v4-add-pp-bag-8-1-1-.coco\"\n",
    "    train_path = os.path.join(base_path, \"train\")\n",
    "    valid_path = os.path.join(base_path, \"valid\")\n",
    "    test_path = os.path.join(base_path, \"test\")\n",
    "    \n",
    "    train_json = os.path.join(train_path, \"train_annotations_yolo.json\")\n",
    "    valid_json = os.path.join(valid_path, \"valid_annotations_yolo.json.json\")\n",
    "    test_json = os.path.join(test_path, \"test_annotations_yolo.json\")\n",
    "    \n",
    "    # Verify all paths exist\n",
    "    paths_to_verify = {\n",
    "        'Train Directory': train_path,\n",
    "        'Valid Directory': valid_path,\n",
    "        'Test Directory': test_path,\n",
    "        'Train JSON': train_json,\n",
    "        'Valid JSON': valid_json,\n",
    "        'Test JSON': test_json\n",
    "    }\n",
    "    \n",
    "    print(\"Verifying paths...\")\n",
    "    verify_paths(paths_to_verify)\n",
    "    \n",
    "    # Create results directory\n",
    "    results_dir = os.path.join(base_path, f\"results_{datetime.now().strftime('%Y%m%d_%H%M%S')}\")\n",
    "    os.makedirs(results_dir, exist_ok=True)\n",
    "    \n",
    "    # Setup directory structure and move images\n",
    "    print(\"Setting up directory structure...\")\n",
    "    setup_directory_structure(base_path)\n",
    "    \n",
    "    # Extract classes from all datasets\n",
    "    print(\"\\nExtracting classes from all datasets...\")\n",
    "    class_names = extract_class_names_from_all_jsons(train_json, valid_json, test_json)\n",
    "    print(f\"\\nFound {len(class_names)} unique classes across all datasets:\")\n",
    "    \n",
    "    # Create class mapping using class names\n",
    "    class_to_idx = {name: i for i, name in enumerate(class_names)}\n",
    "    for name, idx in class_to_idx.items():\n",
    "        print(f\"{idx}: {name}\")\n",
    "    \n",
    "    # Convert annotations to YOLO format\n",
    "    print(\"\\nConverting annotations to YOLO format...\")\n",
    "    train_labels_dir = os.path.join(train_path, \"labels\")\n",
    "    valid_labels_dir = os.path.join(valid_path, \"labels\")\n",
    "    test_labels_dir = os.path.join(test_path, \"labels\")\n",
    "    \n",
    "    convert_yolo_format(train_json, train_labels_dir, class_to_idx)\n",
    "    convert_yolo_format(valid_json, valid_labels_dir, class_to_idx)\n",
    "    convert_yolo_format(test_json, test_labels_dir, class_to_idx)\n",
    "    \n",
    "    # Create data.yaml with the complete class list\n",
    "    print(\"\\nCreating data.yaml file...\")\n",
    "    yaml_path = os.path.join(base_path, \"data.yaml\")\n",
    "    create_data_yaml(base_path, len(class_names), class_names, yaml_path)\n",
    "    \n",
    "    # Verify model file exists\n",
    "    model_path = os.path.join(base_path, \"yolov8n.pt\")\n",
    "    if not os.path.exists(model_path):\n",
    "        raise FileNotFoundError(f\"Model file not found at: {model_path}\")\n",
    "    print(f\"\\nFound model file: {model_path}\")\n",
    "    \n",
    "    # Initialize and train YOLOv8 model\n",
    "    print(\"\\nInitializing YOLOv8 model...\")\n",
    "    model = YOLO(model_path)\n",
    "    \n",
    "    # Train the model with CPU configuration\n",
    "    print(\"\\nStarting training with CPU configuration...\")\n",
    "    try:\n",
    "        results = model.train(\n",
    "            data=yaml_path,\n",
    "            epochs=100,\n",
    "            imgsz=640,\n",
    "            batch=8,  # Reduced batch size for CPU\n",
    "            name='waste_detection_model',\n",
    "            device='cpu',  # Explicitly use CPU\n",
    "            project=results_dir,\n",
    "            exist_ok=True,\n",
    "            workers=4,  # Number of CPU workers\n",
    "            patience=5  # Early stopping patience set to 5\n",
    "        )\n",
    "        \n",
    "        # Extract metrics from training results\n",
    "        metrics_dict = {\n",
    "            'precision': results.results_dict['metrics/precision(B)'],\n",
    "            'recall': results.results_dict['metrics/recall(B)'],\n",
    "            'mAP50': results.results_dict['metrics/mAP50(B)'],\n",
    "            'mAP50-95': results.results_dict['metrics/mAP50-95(B)']\n",
    "        }\n",
    "        \n",
    "        # Plot and save metrics\n",
    "        plot_metrics(metrics_dict, results_dir)\n",
    "        save_metrics_csv(metrics_dict, results_dir)\n",
    "        \n",
    "        # Evaluate the model on test set\n",
    "        print(\"\\nEvaluating model on test set...\")\n",
    "        val_results = model.val(\n",
    "            data=yaml_path,\n",
    "            split='test',\n",
    "            device='cpu'  # Explicitly use CPU for validation\n",
    "        )\n",
    "        \n",
    "        # Save test set metrics\n",
    "        test_metrics = {\n",
    "            'precision': val_results.results_dict['metrics/precision(B)'],\n",
    "            'recall': val_results.results_dict['metrics/recall(B)'],\n",
    "            'mAP50': val_results.results_dict['metrics/mAP50(B)'],\n",
    "            'mAP50-95': val_results.results_dict['metrics/mAP50-95(B)']\n",
    "        }\n",
    "        \n",
    "        print(\"\\nTest Set Metrics:\")\n",
    "        for metric, value in test_metrics.items():\n",
    "            print(f\"{metric}: {value:.4f}\")\n",
    "        \n",
    "        # Save test metrics to file\n",
    "        test_metrics_path = os.path.join(results_dir, 'test_metrics.txt')\n",
    "        with open(test_metrics_path, 'w') as f:\n",
    "            f.write(\"Test Set Metrics:\\n\")\n",
    "            for metric, value in test_metrics.items():\n",
    "                f.write(f\"{metric}: {value:.4f}\\n\")\n",
    "        \n",
    "        # Run inference on test images with class names displayed\n",
    "        print(\"\\nRunning inference on test images...\")\n",
    "        model.predict(\n",
    "            source=os.path.join(base_path, \"test\", \"images\"),\n",
    "            save=True,\n",
    "            save_txt=True,\n",
    "            conf=0.25,\n",
    "            project=results_dir,\n",
    "            name='inference',\n",
    "            boxes=True,\n",
    "            labels=True,\n",
    "            line_width=2\n",
    "        )\n",
    "        \n",
    "        print(\"\\nTraining and evaluation completed successfully!\")\n",
    "        print(f\"Results saved in: {results_dir}\")\n",
    "        print(f\"Inference results with class names saved in: {os.path.join(results_dir, 'inference')}\")\n",
    "        \n",
    "    except Exception as e:\n",
    "        print(f\"\\nError during training: {str(e)}\")\n",
    "        raise\n",
    "\n",
    "if __name__ == \"__main__\":\n",
    "    main()"
   ]
  }
 ],
 "metadata": {
  "kernelspec": {
   "display_name": "Python 3",
   "language": "python",
   "name": "python3"
  },
  "language_info": {
   "codemirror_mode": {
    "name": "ipython",
    "version": 3
   },
   "file_extension": ".py",
   "mimetype": "text/x-python",
   "name": "python",
   "nbconvert_exporter": "python",
   "pygments_lexer": "ipython3",
   "version": "3.12.7"
  }
 },
 "nbformat": 4,
 "nbformat_minor": 2
}
